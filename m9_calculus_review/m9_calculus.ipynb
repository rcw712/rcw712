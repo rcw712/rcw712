{
 "cells": [
  {
   "cell_type": "markdown",
   "metadata": {
    "deletable": false,
    "editable": false,
    "nbgrader": {
     "checksum": "be423543442e912191cf7ff8344d0058",
     "grade": false,
     "grade_id": "cell-5fb21751d57dc792",
     "locked": true,
     "schema_version": 1,
     "solution": false
    }
   },
   "source": [
    "# Differential Calculus\n"
   ]
  },
  {
   "cell_type": "code",
   "execution_count": null,
   "metadata": {
    "collapsed": true
   },
   "outputs": [],
   "source": [
    "from sympy import symbols\n",
    "from sympy.plotting import plot\n",
    "from sympy import diff\n",
    "from sympy import sqrt, exp, cos, sin, pi, ln\n",
    "from sympy import lambdify\n",
    "import numpy as np\n",
    "import numbers\n",
    "import matplotlib.pyplot as plt\n",
    "from nose.tools import assert_almost_equal, assert_true, assert_equal, assert_raises\n",
    "from numpy.testing import assert_allclose"
   ]
  },
  {
   "cell_type": "code",
   "execution_count": null,
   "metadata": {
    "deletable": false,
    "editable": false,
    "nbgrader": {
     "checksum": "ef4ddc60cf6fe52a1cd7ea8f0f9362be",
     "grade": false,
     "grade_id": "cell-91d4f5f54a0a3e55",
     "locked": true,
     "schema_version": 1,
     "solution": false
    }
   },
   "outputs": [],
   "source": [
    "x = symbols('x')\n",
    "def func0(x):\n",
    "    return x**3\n",
    "def func1(x):\n",
    "    \"\"\"returns a third-order polynomial in x\"\"\"\n",
    "    return sin(2*pi*x/6)*(x-3)**3-(5*(x+2)**2)+4*x*exp(-x**2)\n",
    "\n",
    "def func2(x):\n",
    "    \"\"\"returns a third-order polynomial in x\"\"\"\n",
    "    return (x-3)**3-5*(x+2)**2+4*x"
   ]
  },
  {
   "cell_type": "code",
   "execution_count": null,
   "metadata": {
    "deletable": false,
    "editable": false,
    "nbgrader": {
     "checksum": "bf10e522040d706798954b1c0b202d5c",
     "grade": false,
     "grade_id": "cell-e727fa9ce9fdc0b8",
     "locked": true,
     "schema_version": 1,
     "solution": false
    }
   },
   "outputs": [],
   "source": [
    "p = plot(func1(x), diff(func1(x)), (x, -10, 10), show=False, legend=True)\n",
    "p[0].line_color = 'red'\n",
    "p[0].label = \"f(x)\"\n",
    "p[1].line_color = 'blue'\n",
    "p[1].label=\"f'(x)\"\n",
    "p.show()"
   ]
  },
  {
   "cell_type": "markdown",
   "metadata": {
    "deletable": false,
    "editable": false,
    "nbgrader": {
     "checksum": "f0058baabaac9d68a15d0c2188a52521",
     "grade": false,
     "grade_id": "cell-5993f2d6592dc928",
     "locked": true,
     "schema_version": 1,
     "solution": false
    }
   },
   "source": [
    "## Sympy [``lambdify``](http://docs.sympy.org/latest/modules/utilities/lambdify.html)\n",
    "\n",
    "Sympy has a function ``lambdify`` that we can use to generate Python functions from Sympy expressions. We will create Python function versions of ``func1`` and its first derivative that we can use with numpy and matplotlib."
   ]
  },
  {
   "cell_type": "code",
   "execution_count": null,
   "metadata": {
    "deletable": false,
    "editable": false,
    "nbgrader": {
     "checksum": "b557a446b194b789c9b312801330df01",
     "grade": false,
     "grade_id": "cell-2fe6c5b22dc00ee3",
     "locked": true,
     "schema_version": 1,
     "solution": false
    }
   },
   "outputs": [],
   "source": [
    "fp1 = lambdify(x, func1(x), \"numpy\")\n",
    "dfp1 = lambdify(x,diff(func1(x)), \"numpy\")\n",
    "tt = np.arange(-10, 10, 0.1)\n",
    "plt.plot(tt,fp1(tt))"
   ]
  },
  {
   "cell_type": "markdown",
   "metadata": {
    "deletable": false,
    "editable": false,
    "nbgrader": {
     "checksum": "9068a65b00615d1863622bbb09bf02b0",
     "grade": false,
     "grade_id": "cell-a704e347cc37427f",
     "locked": true,
     "schema_version": 1,
     "solution": false
    }
   },
   "source": [
    "**Problem 1. (25 points):** Write a function named ``d1a`` that computes the first derivative of a 1-D numpy array using a backward difference ($f_i'\\approx \\frac{f_i-f_{i-1}}{h}$) approximation of the derivative. The function should use numpy array slicing rather than a ``for`` loop. The resulting signal should have the same length as the input with a zero for the value where you did not compute the derivative. The function should take a numpy array as a positional argument and have a keyword argument ``h=1`` that provides the unit step size (i.e. what the length of one step in the array represents. \n",
    "\n",
    "Python has an [``isinstance``](https://docs.python.org/3/library/functions.html#isinstance) function that returns True if a variable is an instance of a type (e.g. ``str``) and False if it is not. The Python [``numbers``](https://docs.python.org/3.5/library/numbers.html) module provides definitions of number types, including a generic ``Number`` type of which all numbers are an instance. Use ``isinstance`` in conjunction with the ``numpy`` package and the ``numbers`` module to check if ``s`` is a numpy array and that ``h`` is a number. For both tests raise a ``TypeError`` if the user did not provide the corrected data type. Raise a `TypeError` if `h` is not positive. The function should have a docstring. Test the function with ``fp1``.\n",
    "\n",
    "**Hints:** \n",
    "\n",
    "1. Use the [``numpy.zeros``](http://docs.scipy.org/doc/numpy/reference/generated/numpy.zeros.html) function.\n",
    "1. The type of a numpy arra is ``ndarray``."
   ]
  },
  {
   "cell_type": "code",
   "execution_count": null,
   "metadata": {
    "deletable": false,
    "nbgrader": {
     "checksum": "dad0ba5b0c58342547bc67b54335cbfc",
     "grade": false,
     "grade_id": "cell-18fe0c61360d94af",
     "locked": false,
     "schema_version": 1,
     "solution": true
    }
   },
   "outputs": [],
   "source": [
    "# YOUR CODE HERE\n",
    "raise NotImplementedError()\n",
    "plt.plot(tt, d1a(fp1(tt)))  "
   ]
  },
  {
   "cell_type": "code",
   "execution_count": null,
   "metadata": {
    "collapsed": true,
    "deletable": false,
    "editable": false,
    "nbgrader": {
     "checksum": "f9333c1fd27db90f05a2e7ac3dc97e18",
     "grade": true,
     "grade_id": "cell-243ed50368c1b1c9",
     "locked": true,
     "points": 3,
     "schema_version": 1,
     "solution": false
    }
   },
   "outputs": [],
   "source": [
    "assert_equal(len(d1a(fp1(tt), h=0.1)), len(tt))"
   ]
  },
  {
   "cell_type": "code",
   "execution_count": null,
   "metadata": {
    "collapsed": true,
    "deletable": false,
    "editable": false,
    "nbgrader": {
     "checksum": "38ab581f93a8c71710576b4b3e288819",
     "grade": true,
     "grade_id": "cell-caa465425e04202b",
     "locked": true,
     "points": 3,
     "schema_version": 1,
     "solution": false
    }
   },
   "outputs": [],
   "source": [
    "assert_true(isinstance(d1a(fp1(tt), h=0.1), np.ndarray))"
   ]
  },
  {
   "cell_type": "code",
   "execution_count": null,
   "metadata": {
    "deletable": false,
    "editable": false,
    "nbgrader": {
     "checksum": "f286a500f64e1085ecb248b881dfba00",
     "grade": true,
     "grade_id": "cell-b31447c71891b333",
     "locked": true,
     "points": 2,
     "schema_version": 1,
     "solution": false
    }
   },
   "outputs": [],
   "source": [
    "assert_raises(TypeError, d1a, [1,2,3,4])"
   ]
  },
  {
   "cell_type": "code",
   "execution_count": null,
   "metadata": {
    "collapsed": true,
    "deletable": false,
    "editable": false,
    "nbgrader": {
     "checksum": "0b4ef8bfe8e0acbf2b4df6ddb6c3a2bb",
     "grade": true,
     "grade_id": "cell-164d8329853bb8b0",
     "locked": true,
     "points": 2,
     "schema_version": 1,
     "solution": false
    }
   },
   "outputs": [],
   "source": [
    "assert_raises(TypeError, d1a, np.arange(-10, 10, 0.1), h=[0.1,0.1])"
   ]
  },
  {
   "cell_type": "code",
   "execution_count": null,
   "metadata": {
    "collapsed": true,
    "deletable": false,
    "editable": false,
    "nbgrader": {
     "checksum": "10e321b2fd2cb0b03be1bb1f331045d2",
     "grade": true,
     "grade_id": "cell-afc2e88a493f9788",
     "locked": true,
     "points": 2,
     "schema_version": 1,
     "solution": false
    }
   },
   "outputs": [],
   "source": [
    "assert_raises(ValueError, d1a, np.arange(-10, 10, 0.1), h=-0.1)"
   ]
  },
  {
   "cell_type": "code",
   "execution_count": null,
   "metadata": {
    "deletable": false,
    "editable": false,
    "nbgrader": {
     "checksum": "fba6f03c7dee50ac39b60404d31ddcc2",
     "grade": true,
     "grade_id": "cell-3ca6e7a29f7487ff",
     "locked": true,
     "points": 13,
     "schema_version": 1,
     "solution": false
    }
   },
   "outputs": [],
   "source": []
  },
  {
   "cell_type": "markdown",
   "metadata": {
    "deletable": false,
    "editable": false,
    "nbgrader": {
     "checksum": "3ff282e6252e8e5a391ce58a17ea3be2",
     "grade": false,
     "grade_id": "cell-8f79ae219570cb6b",
     "locked": true,
     "schema_version": 1,
     "solution": false
    }
   },
   "source": [
    "**Problem 2. (15 points)** Repeat problem 2 but create a function ``d1b`` that uses a centered difference ($f_i' \\approx \\frac{f_{i+1}-f_{i-1}}{2h}$). Again make sure that the resulting signal has the same length as the input signal and use slicing rather than a for loop to make the computation. Test the function with ``fp1``."
   ]
  },
  {
   "cell_type": "code",
   "execution_count": null,
   "metadata": {
    "deletable": false,
    "nbgrader": {
     "checksum": "36a67d7c681b1797f4d68ed92bb88d2c",
     "grade": false,
     "grade_id": "cell-55e9e569ea973420",
     "locked": false,
     "schema_version": 1,
     "solution": true
    }
   },
   "outputs": [],
   "source": [
    "# YOUR CODE HERE\n",
    "raise NotImplementedError()\n",
    "plt.plot(tt, d1b(fp1(tt), h=0.1))  "
   ]
  },
  {
   "cell_type": "code",
   "execution_count": null,
   "metadata": {
    "deletable": false,
    "editable": false,
    "nbgrader": {
     "checksum": "6585e1bfeac1eb3bab3d70e3819df6cf",
     "grade": true,
     "grade_id": "cell-ac35996b8cd66fe3",
     "locked": true,
     "points": 1,
     "schema_version": 1,
     "solution": false
    }
   },
   "outputs": [],
   "source": [
    "assert_equal(len(d1b(fp1(tt), h=0.1)), len(tt))"
   ]
  },
  {
   "cell_type": "code",
   "execution_count": null,
   "metadata": {
    "collapsed": true,
    "deletable": false,
    "editable": false,
    "nbgrader": {
     "checksum": "378a136596d944c43855805a14bdcfb7",
     "grade": true,
     "grade_id": "cell-7b09e3857ab89e6c",
     "locked": true,
     "points": 1,
     "schema_version": 1,
     "solution": false
    }
   },
   "outputs": [],
   "source": [
    "assert_true(isinstance(d1b(fp1(tt), h=0.1), np.ndarray))"
   ]
  },
  {
   "cell_type": "code",
   "execution_count": null,
   "metadata": {
    "deletable": false,
    "editable": false,
    "nbgrader": {
     "checksum": "35c0775b17913ca9f9fef2a7d04bec44",
     "grade": true,
     "grade_id": "cell-ca4b1211b6642431",
     "locked": true,
     "points": 1,
     "schema_version": 1,
     "solution": false
    }
   },
   "outputs": [],
   "source": [
    "assert_raises(TypeError, d1b, [1,2,3,4])"
   ]
  },
  {
   "cell_type": "code",
   "execution_count": null,
   "metadata": {
    "collapsed": true,
    "deletable": false,
    "editable": false,
    "nbgrader": {
     "checksum": "b1a8b55802ba579f27d5448692c2ecf8",
     "grade": true,
     "grade_id": "cell-e5f5b19536befbf7",
     "locked": true,
     "points": 1,
     "schema_version": 1,
     "solution": false
    }
   },
   "outputs": [],
   "source": [
    "assert_raises(TypeError, d1b, np.arange(-10, 10, 0.1), h=[0.1,0.1])"
   ]
  },
  {
   "cell_type": "code",
   "execution_count": null,
   "metadata": {
    "collapsed": true,
    "deletable": false,
    "editable": false,
    "nbgrader": {
     "checksum": "7ac887a2635f4eec943224d72160ddd9",
     "grade": true,
     "grade_id": "cell-43a24511f5b6424c",
     "locked": true,
     "points": 1,
     "schema_version": 1,
     "solution": false
    }
   },
   "outputs": [],
   "source": [
    "assert_raises(ValueError, d1b, np.arange(-10, 10, 0.1), h=-0.1)"
   ]
  },
  {
   "cell_type": "code",
   "execution_count": null,
   "metadata": {
    "collapsed": true,
    "deletable": false,
    "editable": false,
    "nbgrader": {
     "checksum": "1d4119373212935e6d869cb38845b1af",
     "grade": true,
     "grade_id": "cell-46f990e2eb4b9a83",
     "locked": true,
     "points": 10,
     "schema_version": 1,
     "solution": false
    }
   },
   "outputs": [],
   "source": []
  },
  {
   "cell_type": "markdown",
   "metadata": {
    "deletable": false,
    "editable": false,
    "nbgrader": {
     "checksum": "bf9a24c733f9ae6a15cd55fe397988ea",
     "grade": false,
     "grade_id": "cell-c830417748c12005",
     "locked": true,
     "schema_version": 1,
     "solution": false
    }
   },
   "source": [
    "**Problem 3. (30 points)**\n",
    "\n",
    "Mathematicians are critical of the simple differences we have been using to approximate derivatives because they are inaccurate. More accurate approximations can be derived based on [Taylor series expansions](https://en.wikipedia.org/wiki/Taylor_series#Definition) of functions. A common approximation of the first derivative is:\n",
    "\n",
    "$$\n",
    "f_i' \\approx \\frac{-f_{i+2}+8f_{i+1}-8f_{i-1}+f_{i-2}}{12h}.\n",
    "$$\n",
    "\n",
    "This approximation to the derivative has an error an the order of the fourth power of the step size ($O(h^4)$).\n",
    "(Strickwerda, *Finite Difference Schems and Partial Differential Equations,* p. 69)\n",
    "\n",
    "Write a function ``d1c`` that implements the above approximation to the first derivative. Provide the same type checking (e.g. numpy array, number) as with problems 1 and 2. The function should have a docstring.\n",
    "\n",
    "Test the function with fp1.\n"
   ]
  },
  {
   "cell_type": "code",
   "execution_count": null,
   "metadata": {
    "deletable": false,
    "nbgrader": {
     "checksum": "847a73da86a2f463ed1e3b3fbad027ce",
     "grade": false,
     "grade_id": "cell-1b33724eb7917d85",
     "locked": false,
     "schema_version": 1,
     "solution": true
    }
   },
   "outputs": [],
   "source": [
    "# YOUR CODE HERE\n",
    "raise NotImplementedError()\n",
    "plt.plot(tt, d1c(fp1(tt)))"
   ]
  },
  {
   "cell_type": "code",
   "execution_count": null,
   "metadata": {
    "deletable": false,
    "editable": false,
    "nbgrader": {
     "checksum": "1a71edb09f5c5766a8ca632f39e59be0",
     "grade": true,
     "grade_id": "cell-f2f60265592a74e8",
     "locked": true,
     "points": 1,
     "schema_version": 1,
     "solution": false
    }
   },
   "outputs": [],
   "source": [
    "assert_equal(len(d1c(fp1(tt), h=0.1)), len(tt))"
   ]
  },
  {
   "cell_type": "code",
   "execution_count": null,
   "metadata": {
    "collapsed": true,
    "deletable": false,
    "editable": false,
    "nbgrader": {
     "checksum": "b07b86d7bb2298599d30ff6e1017aca9",
     "grade": true,
     "grade_id": "cell-0ebe87833e860ad0",
     "locked": true,
     "points": 1,
     "schema_version": 1,
     "solution": false
    }
   },
   "outputs": [],
   "source": [
    "assert_true(isinstance(d1c(fp1(tt), h=0.1), np.ndarray))"
   ]
  },
  {
   "cell_type": "code",
   "execution_count": null,
   "metadata": {
    "collapsed": true,
    "deletable": false,
    "editable": false,
    "nbgrader": {
     "checksum": "cfa551f7c6c2548805334a8bd8d776fc",
     "grade": true,
     "grade_id": "cell-5af6c529cea835dc",
     "locked": true,
     "points": 1,
     "schema_version": 1,
     "solution": false
    }
   },
   "outputs": [],
   "source": [
    "assert_raises(TypeError, d1c, [1,2,3,4])"
   ]
  },
  {
   "cell_type": "code",
   "execution_count": null,
   "metadata": {
    "collapsed": true,
    "deletable": false,
    "editable": false,
    "nbgrader": {
     "checksum": "1b0c4238404324d7bf4f0cf286217a3f",
     "grade": true,
     "grade_id": "cell-84d812a44a9a9de4",
     "locked": true,
     "points": 1,
     "schema_version": 1,
     "solution": false
    }
   },
   "outputs": [],
   "source": [
    "assert_raises(TypeError, d1c, np.arange(-10, 10, 0.1), h=[0.1,0.1])"
   ]
  },
  {
   "cell_type": "code",
   "execution_count": null,
   "metadata": {
    "collapsed": true,
    "deletable": false,
    "editable": false,
    "nbgrader": {
     "checksum": "a6d1f46491f869fa66a560f5b8317af7",
     "grade": true,
     "grade_id": "cell-40e2602429ad99b4",
     "locked": true,
     "points": 1,
     "schema_version": 1,
     "solution": false
    }
   },
   "outputs": [],
   "source": [
    "assert_raises(ValueError, d1c, np.arange(-10, 10, 0.1), h=-0.1)"
   ]
  },
  {
   "cell_type": "code",
   "execution_count": null,
   "metadata": {
    "deletable": false,
    "editable": false,
    "nbgrader": {
     "checksum": "7fea052ece30ab34150917363b0baa60",
     "grade": true,
     "grade_id": "cell-fb2e77f31a26abdd",
     "locked": true,
     "points": 25,
     "schema_version": 1,
     "solution": false
    }
   },
   "outputs": [],
   "source": []
  },
  {
   "cell_type": "code",
   "execution_count": null,
   "metadata": {
    "collapsed": true,
    "deletable": false,
    "editable": false,
    "nbgrader": {
     "checksum": "0d32434246d9b8aba19c7aeafb6a0e71",
     "grade": false,
     "grade_id": "cell-b45191dc69da788e",
     "locked": true,
     "schema_version": 1,
     "solution": false
    }
   },
   "outputs": [],
   "source": [
    "def relative_error(signal, true_signal, eps=0.1):\n",
    "    \"\"\"\n",
    "    Computes the relative error between the estimated signal and true signal. Relative error is returns as\n",
    "    100*(signal-true_signal)/true_signal.\n",
    "    \n",
    "    In order to avoid divide by zero issues, we assign a zero if the true_signal value is less than eps\n",
    "    Arguments:\n",
    "        signal: a 1D numpy array\n",
    "        true_signal: a 1D numpy array\n",
    "        eps: a floating point number indicating deviation from zero\n",
    "    Returns:\n",
    "        A numpy array with the relative error at each point\n",
    "    \n",
    "    \"\"\"\n",
    "    \n",
    "    return np.where(np.abs(true_signal)>eps, 100*((signal-true_signal)/true_signal), 0)\n"
   ]
  },
  {
   "cell_type": "markdown",
   "metadata": {
    "deletable": false,
    "editable": false,
    "nbgrader": {
     "checksum": "311e342915993aea2ceb988f1a2d5c3d",
     "grade": false,
     "grade_id": "cell-b705d19595e27c20",
     "locked": true,
     "schema_version": 1,
     "solution": false
    }
   },
   "source": [
    "\n",
    "To get a handle on the amount of error for each derivative, use the ``relative_error`` function to compute the error between the true derivative value (dfp1) and the derivative of the signal computed with each of the three functions (``d1a``, ``d1b``, ``d1c``).\n",
    "\n",
    "Ignore the end points (where derivatives are not computed).\n",
    "\n",
    "Create two scatter plots with matplotlib that shows the relative error of each derivative.\n",
    "\n",
    "In the first scatter plot, plot the relative error of each derivative vs time (``tt``). In the seconed plot, plot the relative error of each derivative vs the true derivative. \n",
    "\n",
    "Set the ylimit for the plots so that the figure illustrates the relative performance of each technique."
   ]
  },
  {
   "cell_type": "code",
   "execution_count": null,
   "metadata": {
    "collapsed": true,
    "deletable": false,
    "editable": false,
    "nbgrader": {
     "checksum": "c5d8f47cbea3241c0e68ac94658a6b73",
     "grade": false,
     "grade_id": "cell-71395d39ca8da558",
     "locked": true,
     "schema_version": 1,
     "solution": false
    }
   },
   "outputs": [],
   "source": [
    "dc = d1c(fp1(tt), h=0.1)\n",
    "db = d1b(fp1(tt), h=0.1)\n",
    "da = d1a(fp1(tt), h=0.1)\n",
    "dtrue = dfp1(tt)"
   ]
  },
  {
   "cell_type": "code",
   "execution_count": null,
   "metadata": {
    "deletable": false,
    "editable": false,
    "nbgrader": {
     "checksum": "cdaee65340ec9c30bffb0c7c7fcf91b7",
     "grade": false,
     "grade_id": "cell-9f5a782077bfc33d",
     "locked": true,
     "schema_version": 1,
     "solution": false
    }
   },
   "outputs": [],
   "source": [
    "start = 4# 45\n",
    "end = -4 #int(len(tt)*0.8)\n",
    "f, ax = plt.subplots()\n",
    "f.set_size_inches(6,6)\n",
    "ax.scatter(fp1(tt)[start:end], relative_error(dc, dtrue)[start:end], marker='+', color='r')\n",
    "ax.scatter(fp1(tt)[start:end], relative_error(db, dtrue)[start:end], marker='.', color='green')\n",
    "ax.scatter(fp1(tt)[start:end], relative_error(da, dtrue)[start:end], marker='2', color='b')\n",
    "\n",
    "plt.ylim(-10, 10)"
   ]
  },
  {
   "cell_type": "code",
   "execution_count": null,
   "metadata": {},
   "outputs": [],
   "source": [
    "start = 4\n",
    "end = -4 #int(len(tt)*0.8)\n",
    "f, ax = plt.subplots()\n",
    "f.set_size_inches(6,6)\n",
    "ax.scatter(tt[start:end], relative_error(dc, dtrue)[start:end], marker='+', color='r')\n",
    "ax.scatter(tt[start:end], relative_error(db, dtrue)[start:end], marker='.', color='green')\n",
    "ax.scatter(tt[start:end], relative_error(da, dtrue)[start:end], marker='2', color='b')\n",
    "\n",
    "#plt.plot(100*abs(dtrue[start:end]-db[start:end])/abs(dtrue[start:end]), 'g')\n",
    "#plt.plot(100*abs(dtrue[start:end]-da[start:end])/abs(dtrue[start:end]), 'b')\n",
    "\n",
    "plt.ylim(-10, 10)"
   ]
  },
  {
   "cell_type": "markdown",
   "metadata": {
    "deletable": false,
    "editable": false,
    "nbgrader": {
     "checksum": "88a4e8dd839a9cd4b2cc95a64da50390",
     "grade": false,
     "grade_id": "cell-550f337fd4755ff2",
     "locked": true,
     "schema_version": 1,
     "solution": false
    }
   },
   "source": [
    "**Problem 6 (40 points):**\n",
    "\n",
    "A pharmokinetic model of drug absorption and clearance is given by\n",
    "\n",
    "$$\n",
    "y = \\frac{Ab}{b-k}\\left(e^{-kt}-e^{-bt}\\right)\n",
    "$$\n",
    "\n",
    "where $k$ is a time constant that describes how the drug is cleared from the body (e.g. through urine) and $b$  is the clearance rate for the digestive system with $b > k$ typically.\n",
    "\n",
    "For $A = 200$, $k = 0.35$, and $b = 0.46$ we want to find when the drug concentration is a maximum. Sympy provides [functions](http://docs.sympy.org/dev/modules/solvers/solvers.html#algebraic-equations) for finding the roots of an equation (when the equation equals zero) symbolically.\n",
    "\n",
    "Compare the difference between the maximum dose time you find using sympy and what you obtain numerically using the function ``d1c`` defined above and finding the position in the resulting numpy array closest to zero. Use the numpy ``arange`` function with various step sizes (``h``). \n",
    "\n",
    "**Hints:**\n",
    "\n",
    "1. Because ``d1c`` does not compute the derivatives near the endpoints of the array, you need to exclude these points when searching for the minimum.\n",
    "1. Use the [numpy.argmin](http://docs.scipy.org/doc/numpy/reference/generated/numpy.argmin.html) function to find the minimum location in the derivative array and then use that index to find the value in the time array.\n",
    "1. Because the derivative is both positive and negative, use the absolute value of the derivative to find the location nearest to zero.\n",
    "1. Plot the derivative function and select reasonable limits to search for the minimum. (You need to be sure to exclude the non-computed points from the search.)\n",
    "1. Remember ``d1c`` needs to be passed ``h``."
   ]
  },
  {
   "cell_type": "code",
   "execution_count": null,
   "metadata": {
    "deletable": false,
    "editable": false,
    "nbgrader": {
     "checksum": "0bcc8ffbd63425857e43148fc2fab1f4",
     "grade": false,
     "grade_id": "cell-6e4db89f55e32952",
     "locked": true,
     "schema_version": 1,
     "solution": false
    }
   },
   "outputs": [],
   "source": [
    "from scipy.optimize import newton\n",
    "from sympy.solvers import solve"
   ]
  },
  {
   "cell_type": "code",
   "execution_count": null,
   "metadata": {
    "collapsed": true,
    "deletable": false,
    "nbgrader": {
     "checksum": "8caf9d30cada6a791b4ec2137c2087cf",
     "grade": false,
     "grade_id": "cell-b5b153a87a9ce327",
     "locked": false,
     "schema_version": 1,
     "solution": true
    }
   },
   "outputs": [],
   "source": [
    "ts = symbols('ts')\n",
    "def kinetics(t, A=200, b=0.46, k=0.35):\n",
    "    # YOUR CODE HERE\n",
    "    raise NotImplementedError()\n",
    "    "
   ]
  },
  {
   "cell_type": "code",
   "execution_count": null,
   "metadata": {
    "deletable": false,
    "editable": false,
    "nbgrader": {
     "checksum": "89525cd418470554433d97d621d9ce31",
     "grade": true,
     "grade_id": "cell-ec5d8d2942d78fce",
     "locked": true,
     "points": 5,
     "schema_version": 1,
     "solution": false
    }
   },
   "outputs": [],
   "source": [
    "assert_almost_equal(kinetics(10), 16.8490035122456)"
   ]
  },
  {
   "cell_type": "code",
   "execution_count": null,
   "metadata": {
    "deletable": false,
    "editable": false,
    "nbgrader": {
     "checksum": "d514a038962554bb984c3c631f251e28",
     "grade": true,
     "grade_id": "cell-acb03fece91946a1",
     "locked": true,
     "points": 5,
     "schema_version": 1,
     "solution": false
    }
   },
   "outputs": [],
   "source": [
    "assert_almost_equal(kinetics(5, A=195, b=0.32, k=0.2), 86.3111200519292)"
   ]
  },
  {
   "cell_type": "code",
   "execution_count": null,
   "metadata": {
    "deletable": false,
    "editable": false,
    "nbgrader": {
     "checksum": "1107a2a84419fe34c6302eae44581c89",
     "grade": false,
     "grade_id": "cell-49260f158936b554",
     "locked": true,
     "schema_version": 1,
     "solution": false
    }
   },
   "outputs": [],
   "source": [
    "fkinetics = lambdify(ts, kinetics(ts), \"numpy\")"
   ]
  },
  {
   "cell_type": "markdown",
   "metadata": {
    "deletable": false,
    "editable": false,
    "nbgrader": {
     "checksum": "f913e9e05b141a7f20502a5cc2fa3849",
     "grade": false,
     "grade_id": "cell-eaa7c662a91dbd98",
     "locked": true,
     "schema_version": 1,
     "solution": false
    }
   },
   "source": [
    "#### Plot the function to make sure everything looks correct"
   ]
  },
  {
   "cell_type": "code",
   "execution_count": null,
   "metadata": {
    "deletable": false,
    "editable": false,
    "nbgrader": {
     "checksum": "f1facb714e2a086136b85617f31ff04b",
     "grade": false,
     "grade_id": "cell-05c429bd92aaa39c",
     "locked": true,
     "schema_version": 1,
     "solution": false
    }
   },
   "outputs": [],
   "source": [
    "plot(kinetics(ts), (ts,0, 20))"
   ]
  },
  {
   "cell_type": "code",
   "execution_count": null,
   "metadata": {
    "deletable": false,
    "nbgrader": {
     "checksum": "a41ef5d095360c510766dc73446f0be3",
     "grade": false,
     "grade_id": "cell-c581c86bd66fc373",
     "locked": false,
     "schema_version": 1,
     "solution": true
    }
   },
   "outputs": [],
   "source": [
    "def symbolic_roots(func, times):\n",
    "    # YOUR CODE HERE\n",
    "    raise NotImplementedError()\n",
    "symbolic_roots(kinetics, ts)"
   ]
  },
  {
   "cell_type": "code",
   "execution_count": null,
   "metadata": {
    "deletable": false,
    "editable": false,
    "nbgrader": {
     "checksum": "22f22d07c344acddcdbd4e71d1e090ba",
     "grade": true,
     "grade_id": "cell-05420e35f91efaa0",
     "locked": true,
     "points": 10,
     "schema_version": 1,
     "solution": false
    }
   },
   "outputs": [],
   "source": []
  },
  {
   "cell_type": "markdown",
   "metadata": {
    "deletable": false,
    "editable": false,
    "nbgrader": {
     "checksum": "2a14a71291330dba16e728080979eb2d",
     "grade": false,
     "grade_id": "cell-4ad92173a126553d",
     "locked": true,
     "schema_version": 1,
     "solution": false
    }
   },
   "source": [
    "#### Create a time array"
   ]
  },
  {
   "cell_type": "code",
   "execution_count": null,
   "metadata": {
    "collapsed": true,
    "deletable": false,
    "editable": false,
    "nbgrader": {
     "checksum": "154d72a30d8b8d37e616b526b770be49",
     "grade": false,
     "grade_id": "cell-6723bf385c1b881f",
     "locked": true,
     "schema_version": 1,
     "solution": false
    }
   },
   "outputs": [],
   "source": [
    "h = 0.01\n",
    "tn = np.arange(0, 20, h)"
   ]
  },
  {
   "cell_type": "code",
   "execution_count": null,
   "metadata": {
    "deletable": false,
    "editable": false,
    "nbgrader": {
     "checksum": "21bbf33f6d928befc1398a55a3f0da2f",
     "grade": false,
     "grade_id": "cell-fbbabdfd3a67a10d",
     "locked": true,
     "schema_version": 1,
     "solution": false
    }
   },
   "outputs": [],
   "source": [
    "plt.plot(tn, fkinetics(tn))"
   ]
  },
  {
   "cell_type": "code",
   "execution_count": null,
   "metadata": {
    "deletable": false,
    "nbgrader": {
     "checksum": "16ff5ff22e71083445991cecef0c8e45",
     "grade": false,
     "grade_id": "cell-8ff4e7b89e907a30",
     "locked": false,
     "schema_version": 1,
     "solution": true
    }
   },
   "outputs": [],
   "source": [
    "def numeric_roots(func, ts, h=0.01, search_low=2, search_high=500):\n",
    "    # YOUR CODE HERE\n",
    "    raise NotImplementedError()"
   ]
  },
  {
   "cell_type": "code",
   "execution_count": null,
   "metadata": {
    "deletable": false,
    "editable": false,
    "nbgrader": {
     "checksum": "4858e92ed2448fe62fe09ac00a074ab3",
     "grade": true,
     "grade_id": "cell-c8c4ee3a57dc9e6c",
     "locked": true,
     "points": 20,
     "schema_version": 1,
     "solution": false
    }
   },
   "outputs": [],
   "source": []
  },
  {
   "cell_type": "code",
   "execution_count": null,
   "metadata": {
    "collapsed": true
   },
   "outputs": [],
   "source": []
  }
 ],
 "metadata": {
  "kernelspec": {
   "display_name": "Python 3",
   "language": "python",
   "name": "python3"
  },
  "language_info": {
   "codemirror_mode": {
    "name": "ipython",
    "version": 3
   },
   "file_extension": ".py",
   "mimetype": "text/x-python",
   "name": "python",
   "nbconvert_exporter": "python",
   "pygments_lexer": "ipython3",
   "version": "3.5.2"
  }
 },
 "nbformat": 4,
 "nbformat_minor": 1
}
