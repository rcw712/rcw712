{
 "cells": [
  {
   "cell_type": "markdown",
   "metadata": {
    "deletable": false,
    "editable": false,
    "nbgrader": {
     "checksum": "e4f9eb6a01e81fcf7ce577601a822954",
     "grade": false,
     "grade_id": "cell-ea990b6dfe586957",
     "locked": true,
     "schema_version": 1,
     "solution": false
    }
   },
   "source": [
    "# M4-Collections (Part 1)"
   ]
  },
  {
   "cell_type": "code",
   "execution_count": null,
   "metadata": {
    "collapsed": true,
    "deletable": false,
    "editable": false,
    "nbgrader": {
     "checksum": "2bff8630835cadb9d9a17c81cefeb015",
     "grade": false,
     "grade_id": "cell-50c0a47cd28129be",
     "locked": true,
     "schema_version": 1,
     "solution": false
    }
   },
   "outputs": [],
   "source": [
    "from nose.tools import assert_equal"
   ]
  },
  {
   "cell_type": "markdown",
   "metadata": {
    "deletable": false,
    "editable": false,
    "nbgrader": {
     "checksum": "51e3758220e79cc0b57cde4a86c8ca18",
     "grade": false,
     "grade_id": "cell-e8c21d16697fdf94",
     "locked": true,
     "schema_version": 1,
     "solution": false
    }
   },
   "source": [
    "**Problems 1 and 2** use the variable ``report`` defined below."
   ]
  },
  {
   "cell_type": "code",
   "execution_count": null,
   "metadata": {
    "collapsed": true,
    "deletable": false,
    "editable": false,
    "nbgrader": {
     "checksum": "5135b0dfb82c3319f6c794e872459f54",
     "grade": false,
     "grade_id": "cell-f03bf4de3e644549",
     "locked": true,
     "schema_version": 1,
     "solution": false
    }
   },
   "outputs": [],
   "source": [
    "report = \"\"\"DATE: [**2644-1-17**] 10:43 AM\n",
    "     CT HEAD W/O CONTRAST                                            Clip # [**Clip Number (Radiology) 12567**]\n",
    "     Reason: ? stability of bleed                                        \n",
    "     Admitting Diagnosis: HEAD BLEED\n",
    "     ______________________________________________________________________________\n",
    "     UNDERLYING MEDICAL CONDITION:\n",
    "      [**Age over 90 **] year old woman with ? hemorragic mass                                        \n",
    "     REASON FOR THIS EXAMINATION:\n",
    "      ? stability of bleed                                                            \n",
    "     No contraindications for IV contrast\n",
    "     ______________________________________________________________________________\n",
    "                                     FINAL REPORT  (REVISED)\n",
    "     HISTORY:  [**Age over 90 **] year-old woman with a history of metastatic lung cancer to the\n",
    "     brain.  Question hemorrhagic mass.  Question stability of bleed.\n",
    "     \n",
    "     COMPARISON:  Head CT from [**Hospital 12568**] Hospital dated [**2644-1-16**].\n",
    "     \n",
    "     TECHNIQUE:  Noncontrast head CT.\n",
    "     \n",
    "     FINDINGS:  Compared to the prior days study, there is stable appearance of the\n",
    "     right parietal intraparenchymal hemorrhage with surrounding edema.  At the\n",
    "     superior margin of the parenchymal hemorrhage there is a rounded heterogeneous\n",
    "     focus which could represent a metastatic lesion.  An additional 2mm hyperdense\n",
    "     focus, possibly hemorrhage, is noted in the posteromedial margin of the left\n",
    "     thalamus, with surroundng edema.  Low-attenuation foci seen in both basal\n",
    "     ganglia and insular regions are consistent with chronic lacunar infarcts.\n",
    "     There is no shift of midline structures.  The ventricles are stable in\n",
    "     appearance.  The osseous and soft tissue structures are unremarkable.\n",
    "     \n",
    "     IMPRESSION:  Stable appearance of right parietal lobe and left thalamic\n",
    "     hemorrhages, which are concerning for hemorrhagic metastasis in this patient\n",
    "     with known metastatic lung carcinoma to the brain.\"\"\""
   ]
  },
  {
   "cell_type": "markdown",
   "metadata": {
    "deletable": false,
    "editable": false,
    "nbgrader": {
     "checksum": "3536b2c4b563e8675207feefd8b65e72",
     "grade": false,
     "grade_id": "cell-ab298a6d8a63e4af",
     "locked": true,
     "schema_version": 1,
     "solution": false
    }
   },
   "source": [
    "**Problem 1 (20 points):** For variable report above, use the string ``find()`` (or ``index()``) method and slicing to modify `get_history` and `get_impression` to return substrings strings that contain (1) the history section (i.e. the text from \"HISTORY:\" (inclusive) to \"TECHNIQUE:\" (exclusive), and (2) the Impression section (the text from \"IMPRESSION:\" to the end of the report) respectively."
   ]
  },
  {
   "cell_type": "code",
   "execution_count": null,
   "metadata": {
    "deletable": false,
    "nbgrader": {
     "checksum": "812f29c763aa24073bca929610356872",
     "grade": false,
     "grade_id": "cell-7a64746c185a6f27",
     "locked": false,
     "schema_version": 1,
     "solution": true
    }
   },
   "outputs": [],
   "source": [
    "def get_history(report):\n",
    "    # YOUR CODE HERE\n",
    "    raise NotImplementedError()\n"
   ]
  },
  {
   "cell_type": "code",
   "execution_count": null,
   "metadata": {
    "collapsed": true,
    "deletable": false,
    "editable": false,
    "nbgrader": {
     "checksum": "afa40778397e84155aab47e7a2c38891",
     "grade": true,
     "grade_id": "cell-a3c3e6f0a4ad87e5",
     "locked": true,
     "points": 0,
     "schema_version": 1,
     "solution": false
    }
   },
   "outputs": [],
   "source": [
    "assert_equal(get_history(report), 'HISTORY:  [**Age over 90 **] year-old woman with a history of metastatic lung cancer to the\\n     brain.  Question hemorrhagic mass.  Question stability of bleed.\\n     \\n     COMPARISON:  Head CT from [**Hospital 12568**] Hospital dated [**2644-1-16**].\\n     \\n     ')"
   ]
  },
  {
   "cell_type": "code",
   "execution_count": null,
   "metadata": {
    "deletable": false,
    "nbgrader": {
     "checksum": "4f3848a02452c5ae98376bae9a454a7d",
     "grade": false,
     "grade_id": "cell-e947cd9ab169fb66",
     "locked": false,
     "schema_version": 1,
     "solution": true
    }
   },
   "outputs": [],
   "source": [
    "def get_impression(report):\n",
    "    # YOUR CODE HERE\n",
    "    raise NotImplementedError()\n"
   ]
  },
  {
   "cell_type": "code",
   "execution_count": null,
   "metadata": {
    "collapsed": true,
    "deletable": false,
    "editable": false,
    "nbgrader": {
     "checksum": "cbfad05fae5ab27b24ade1df1db56c92",
     "grade": true,
     "grade_id": "cell-0d9c212551a833be",
     "locked": true,
     "points": 0,
     "schema_version": 1,
     "solution": false
    }
   },
   "outputs": [],
   "source": [
    "assert_equal(get_impression(report), 'IMPRESSION:  Stable appearance of right parietal lobe and left thalamic\\n     hemorrhages, which are concerning for hemorrhagic metastasis in this patient\\n     with known metastatic lung carcinoma to the brain.')"
   ]
  },
  {
   "cell_type": "code",
   "execution_count": null,
   "metadata": {
    "deletable": false,
    "editable": false,
    "nbgrader": {
     "checksum": "29edff2b975f54b2b3759cf42bf2665b",
     "grade": true,
     "grade_id": "cell-4ebf5e3b2e90c01f",
     "locked": true,
     "points": 10,
     "schema_version": 1,
     "solution": false
    }
   },
   "outputs": [],
   "source": []
  },
  {
   "cell_type": "code",
   "execution_count": null,
   "metadata": {
    "collapsed": true,
    "deletable": false,
    "editable": false,
    "nbgrader": {
     "checksum": "646773cf704f88462345ca3d2adf502c",
     "grade": true,
     "grade_id": "cell-39ddf3158619f8c9",
     "locked": true,
     "points": 10,
     "schema_version": 1,
     "solution": false
    }
   },
   "outputs": [],
   "source": []
  },
  {
   "cell_type": "markdown",
   "metadata": {
    "deletable": false,
    "editable": false,
    "nbgrader": {
     "checksum": "91b83a5b091232c9e201e8c9667ee8bd",
     "grade": false,
     "grade_id": "cell-5651f7b04c8cbe43",
     "locked": true,
     "schema_version": 1,
     "solution": false
    }
   },
   "source": [
    "**Problem 2 (20 points):** Ignoring case and periods (e.g. \"``present``\" and \"``present.``\" should not be counted as two distinct words), how many unique words are in the report? In the sense of this problem a \"word\" is a collection of characters separated by spaces from other words. So \"`[**3352-11-25**]`\" is a word."
   ]
  },
  {
   "cell_type": "code",
   "execution_count": null,
   "metadata": {
    "deletable": false,
    "nbgrader": {
     "checksum": "801eeb98101a9995b9157456d3f6b876",
     "grade": false,
     "grade_id": "cell-2663b43251c92d07",
     "locked": false,
     "schema_version": 1,
     "solution": true
    }
   },
   "outputs": [],
   "source": [
    "num_words = -1\n",
    "# YOUR CODE HERE\n",
    "raise NotImplementedError()"
   ]
  },
  {
   "cell_type": "code",
   "execution_count": null,
   "metadata": {
    "deletable": false,
    "editable": false,
    "nbgrader": {
     "checksum": "c6704bc2e62cdb6b6c9b69b3183bf781",
     "grade": true,
     "grade_id": "cell-81b91548b519a29c",
     "locked": true,
     "points": 20,
     "schema_version": 1,
     "solution": false
    }
   },
   "outputs": [],
   "source": []
  },
  {
   "cell_type": "markdown",
   "metadata": {
    "deletable": false,
    "editable": false,
    "nbgrader": {
     "checksum": "3bab8355f6de72538c0546c4f7d7efa7",
     "grade": false,
     "grade_id": "cell-ba5073fdbac5680f",
     "locked": true,
     "schema_version": 1,
     "solution": false
    }
   },
   "source": [
    "**Problem 3 (20 points):** In the table below are actual values from a metabolic lab test. Define a named tuple named ``labresult`` for a lab result that can store an individual test result where each test value consists of a \"component\", \"value\", and \"standard range\". Create an instance of ``labresult`` for each row in the table below. Put all the instances of ``labresult`` in an appropriate collection (``list``, ``tuple``, or ``dictionary``). Explain your choice for the type of collection.\n",
    "\n",
    "|Component          |      Value |   Standard Range | \n",
    "|-------------------|---------------|---------------- | \n",
    "|Sodium            |     139 mmol/L  |  136 - 144 mmol/L |\n",
    "|Potassium, S/P    |     4.3 mmol/L  |  3.3 - 5.0 mmol/L |\n",
    "|Chloride, S/P     |     107 mmol/L  |  102 - 110 mmol/L |\n",
    "|Carbon Dioxide, S/P |   22 mmol/L   |  20 - 26 mmol/L |\n",
    "|BUN, S/P           |    16 mg/dL    |  8 - 24 mg/dL |"
   ]
  },
  {
   "cell_type": "code",
   "execution_count": null,
   "metadata": {
    "collapsed": true,
    "deletable": false,
    "nbgrader": {
     "checksum": "98bd06c500802054c1ede2fc2a00eb87",
     "grade": true,
     "grade_id": "cell-15f1090f4f292267",
     "locked": false,
     "points": 20,
     "schema_version": 1,
     "solution": true
    }
   },
   "outputs": [],
   "source": [
    "# YOUR CODE HERE\n",
    "raise NotImplementedError()"
   ]
  },
  {
   "cell_type": "markdown",
   "metadata": {
    "deletable": false,
    "editable": false,
    "nbgrader": {
     "checksum": "f14290ccd51d140b9130edc637881193",
     "grade": false,
     "grade_id": "cell-09be4386c18e2ac9",
     "locked": true,
     "schema_version": 1,
     "solution": false
    }
   },
   "source": [
    "**Problem 4 (15 points).** Given the following lists\n",
    "```Python\n",
    "list1 = [1, 2, 3]\n",
    "list2 = [3, 4, 5]\n",
    "list3 = [6, 7, 8]\n",
    "```\n",
    "use slicing, Python builtin functions, and list methods to create the following lists using a single Python statement for each problem:\n",
    "\n",
    "1. ``list4 = [1, 2, 3, 4, 5, 6, 7]``\n",
    "1. ``list5 = [2, 4, 6, 8]``\n",
    "1. ``list6 = [8, 7, 6, [3, 4, 5]]``"
   ]
  },
  {
   "cell_type": "code",
   "execution_count": null,
   "metadata": {
    "deletable": false,
    "nbgrader": {
     "checksum": "b4e91ee8fa4ae36342c737b04b64c7da",
     "grade": true,
     "grade_id": "cell-20ffce6459902f4a",
     "locked": false,
     "points": 15,
     "schema_version": 1,
     "solution": true
    }
   },
   "outputs": [],
   "source": [
    "# YOUR CODE HERE\n",
    "raise NotImplementedError()"
   ]
  },
  {
   "cell_type": "markdown",
   "metadata": {
    "deletable": false,
    "editable": false,
    "nbgrader": {
     "checksum": "43e749c2411a61cf7aa098e8804b3033",
     "grade": false,
     "grade_id": "cell-63bc929dbb33a19a",
     "locked": true,
     "schema_version": 1,
     "solution": false
    }
   },
   "source": [
    "**Problem 5 (10 points):** Create a Python set that satisfies the following definition:\n",
    "\n",
    "$$S = \\{x: x \\% 3=0 \\text{ and} -10 \\le x \\le 10 \\text{ and } x \\in \\mathbb{Z}\\}$$\n",
    "\n"
   ]
  },
  {
   "cell_type": "code",
   "execution_count": null,
   "metadata": {
    "deletable": false,
    "nbgrader": {
     "checksum": "519064c0dd8d5abbe9c71cbaecb9c557",
     "grade": false,
     "grade_id": "cell-a332a46a0c99ad21",
     "locked": false,
     "schema_version": 1,
     "solution": true
    }
   },
   "outputs": [],
   "source": [
    "set5 = {}\n",
    "# YOUR CODE HERE\n",
    "raise NotImplementedError()"
   ]
  },
  {
   "cell_type": "code",
   "execution_count": null,
   "metadata": {
    "deletable": false,
    "editable": false,
    "nbgrader": {
     "checksum": "d0ddbc5e02f05447ef66a990dfeb5b95",
     "grade": true,
     "grade_id": "cell-5d2a7025db9004db",
     "locked": true,
     "points": 10,
     "schema_version": 1,
     "solution": false
    }
   },
   "outputs": [],
   "source": []
  },
  {
   "cell_type": "markdown",
   "metadata": {
    "deletable": false,
    "editable": false,
    "nbgrader": {
     "checksum": "cf20147436695cc29c26e3a22e2e653c",
     "grade": false,
     "grade_id": "cell-650881dd9fb6b43e",
     "locked": true,
     "schema_version": 1,
     "solution": false
    }
   },
   "source": [
    "**Problem 6 (10 points): Create a Python set that satisfies the following definition:**\n",
    "\n",
    "*The set of all pairs of integers between 0 and 3 inclusive where the order of the pairs matters*"
   ]
  },
  {
   "cell_type": "code",
   "execution_count": null,
   "metadata": {
    "deletable": false,
    "nbgrader": {
     "checksum": "1cf1c2a7a7d18c4bcd85f734c54dcf35",
     "grade": false,
     "grade_id": "cell-e0dad53fcc8a59f4",
     "locked": false,
     "schema_version": 1,
     "solution": true
    }
   },
   "outputs": [],
   "source": [
    "set_problem6 = {}\n",
    "# YOUR CODE HERE\n",
    "raise NotImplementedError()\n",
    "type(set_problem6)"
   ]
  },
  {
   "cell_type": "code",
   "execution_count": null,
   "metadata": {
    "deletable": false,
    "editable": false,
    "nbgrader": {
     "checksum": "3b29096e1ed050f34e58d6ca300cfb49",
     "grade": true,
     "grade_id": "cell-4662631670c7df00",
     "locked": true,
     "points": 10,
     "schema_version": 1,
     "solution": false
    }
   },
   "outputs": [],
   "source": []
  },
  {
   "cell_type": "markdown",
   "metadata": {
    "deletable": false,
    "editable": false,
    "nbgrader": {
     "checksum": "df0de571c2afcda5646a9db1eb296f9e",
     "grade": false,
     "grade_id": "cell-d64b76ce5f5cd716",
     "locked": true,
     "schema_version": 1,
     "solution": false
    }
   },
   "source": [
    "**Problem 6 (10 points):** Given the list ``list1`` \n",
    "```Python\n",
    "list1 = [\"a\", (2,3), 4, []]\n",
    "```\n",
    "write a single Python expression that results in a new variable x=4 and modifies ``list1`` to be\n",
    "```Python\n",
    "list1 = [\"a\", (2,3), []]\n",
    "```"
   ]
  },
  {
   "cell_type": "code",
   "execution_count": null,
   "metadata": {
    "deletable": false,
    "nbgrader": {
     "checksum": "d99154923b0857803d26ee3d3d9a59c1",
     "grade": true,
     "grade_id": "cell-6c9b9da6196c9f3b",
     "locked": false,
     "points": 10,
     "schema_version": 1,
     "solution": true
    }
   },
   "outputs": [],
   "source": [
    "# YOUR CODE HERE\n",
    "raise NotImplementedError()"
   ]
  },
  {
   "cell_type": "markdown",
   "metadata": {
    "deletable": false,
    "editable": false,
    "nbgrader": {
     "checksum": "e7769b8193b14084dc6f5f590c9a4b50",
     "grade": false,
     "grade_id": "cell-29b47cf4541b5f72",
     "locked": true,
     "schema_version": 1,
     "solution": false
    }
   },
   "source": [
    "**Problem 7 (20 points):** In the context of your actual or potential term project describe ways that you could potentially use \n",
    "\n",
    "* Python lists\n",
    "* Python tuples (or named tuples)\n",
    "* Python sets"
   ]
  },
  {
   "cell_type": "markdown",
   "metadata": {
    "collapsed": true,
    "deletable": false,
    "nbgrader": {
     "checksum": "115705901887620456e722d2e29828a2",
     "grade": true,
     "grade_id": "cell-3816da0112843826",
     "locked": false,
     "points": 20,
     "schema_version": 1,
     "solution": true
    }
   },
   "source": [
    "YOUR ANSWER HERE"
   ]
  }
 ],
 "metadata": {
  "anaconda-cloud": {},
  "kernelspec": {
   "display_name": "Python 3",
   "language": "python",
   "name": "python3"
  },
  "language_info": {
   "codemirror_mode": {
    "name": "ipython",
    "version": 3
   },
   "file_extension": ".py",
   "mimetype": "text/x-python",
   "name": "python",
   "nbconvert_exporter": "python",
   "pygments_lexer": "ipython3",
   "version": "3.5.2"
  }
 },
 "nbformat": 4,
 "nbformat_minor": 1
}
