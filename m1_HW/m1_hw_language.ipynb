{
 "cells": [
  {
   "cell_type": "markdown",
   "metadata": {
    "deletable": false,
    "editable": false,
    "nbgrader": {
     "checksum": "b427a0d864ed951b7508e627d2b956d0",
     "grade": false,
     "grade_id": "cell-a5f26f20d5164844",
     "locked": true,
     "schema_version": 1,
     "solution": false
    }
   },
   "source": [
    "# BMI 6018/ MDCRC 6521 \n",
    "## Fall 2017\n",
    "### M1-Language, Mathematics, and Programming Homework \n",
    "\n"
   ]
  },
  {
   "cell_type": "markdown",
   "metadata": {
    "deletable": false,
    "editable": false,
    "nbgrader": {
     "checksum": "b45ff0836e4c0120784fe56fa2435157",
     "grade": false,
     "grade_id": "cell-b7985d40871c4c99",
     "locked": true,
     "schema_version": 1,
     "solution": false
    }
   },
   "source": [
    "**Problem 1:** \n",
    "\n",
    ">For each of the four ambiguous newspaper headlines I stated earlier, rewrite it in a way that avoids the amusing second meaning, while retaining the brevity of a typical headline:\n",
    "\n",
    "1. Sisters reunited after ten years in checkout line at Safeway.\n",
    "2. Prostitutes appeal to the Pope.\n",
    "3. Large hole appears in High Street. City authorities are looking into it.\n",
    "4. Mayor says bus passengers should be belted.\n",
    "\n",
    "Taken from Devlin, Keith (2015-02-23). *Introduction to Mathematical Thinking* (p. 14). Keith Devlin. Kindle Edition. "
   ]
  },
  {
   "cell_type": "code",
   "execution_count": 4,
   "metadata": {},
   "outputs": [
    {
     "data": {
      "text/plain": [
       "'Mayor Calls for Mandatory Seatbelt Ordinance on City Buses'"
      ]
     },
     "execution_count": 4,
     "metadata": {},
     "output_type": "execute_result"
    }
   ],
   "source": [
    "\"Mayor Calls for Mandatory Seatbelt Ordinance on City Buses\""
   ]
  },
  {
   "cell_type": "code",
   "execution_count": 3,
   "metadata": {},
   "outputs": [
    {
     "data": {
      "text/plain": [
       "'City Authorities Investigate Formation of Large Hole in High Street'"
      ]
     },
     "execution_count": 3,
     "metadata": {},
     "output_type": "execute_result"
    }
   ],
   "source": [
    "\"City Authorities Investigate Formation of Large Hole in High Street\""
   ]
  },
  {
   "cell_type": "code",
   "execution_count": 2,
   "metadata": {},
   "outputs": [
    {
     "data": {
      "text/plain": [
       "'Pope Hears Appeals from Prostitutes'"
      ]
     },
     "execution_count": 2,
     "metadata": {},
     "output_type": "execute_result"
    }
   ],
   "source": [
    "\"Pope Hears Appeals from Prostitutes\""
   ]
  },
  {
   "cell_type": "code",
   "execution_count": 1,
   "metadata": {},
   "outputs": [
    {
     "data": {
      "text/plain": [
       "'Sisters Reunite Again in Safeway Checkout Line After 10 Years Apart'"
      ]
     },
     "execution_count": 1,
     "metadata": {},
     "output_type": "execute_result"
    }
   ],
   "source": [
    "\"Sisters Reunite Again in Safeway Checkout Line After 10 Years Apart\""
   ]
  },
  {
   "cell_type": "markdown",
   "metadata": {
    "collapsed": true,
    "deletable": false,
    "nbgrader": {
     "checksum": "83a8460b29ac26e40af4a29b894690b6",
     "grade": true,
     "grade_id": "cell-b3de4571e9c5a110",
     "locked": false,
     "points": 20,
     "schema_version": 1,
     "solution": true
    }
   },
   "source": []
  },
  {
   "cell_type": "code",
   "execution_count": null,
   "metadata": {
    "collapsed": true
   },
   "outputs": [],
   "source": []
  },
  {
   "cell_type": "markdown",
   "metadata": {
    "deletable": false,
    "editable": false,
    "nbgrader": {
     "checksum": "88cfdfa9a04ef091f9a9c2500845c90a",
     "grade": false,
     "grade_id": "cell-d7ff6bf7be97acd5",
     "locked": true,
     "schema_version": 1,
     "solution": false
    }
   },
   "source": [
    "**Problem 2:** \n",
    "\n",
    "Write a step-by-step instructions on how to make a peanut butter and jam sandwich. Assume you are starting with all the ingredients (that is you don't have to describe going shopping). Try to be as detailed as possible."
   ]
  },
  {
   "cell_type": "code",
   "execution_count": 5,
   "metadata": {},
   "outputs": [
    {
     "data": {
      "text/plain": [
       "'1. Place two sandwich slices next to eachother, face-up on a plate. 2. Using a knife, scoop 1/2 cup of peanut butter onto one of the slices, repeating the same process with jelly on the other slice. 3. Using the flat edge of the knife, spread the peanut butter to the edges of the up-side of the bread. Repeat the same with the jellied slice. 4. Lift and press the peanut buttered and jellied sides of the bread together, so that the top and bottom edges of each slice lines up with the other slice. 5. Put concoction in mouth.'"
      ]
     },
     "execution_count": 5,
     "metadata": {},
     "output_type": "execute_result"
    }
   ],
   "source": [
    "\"1. Place two sandwich slices next to eachother, face-up on a plate. 2. Using a knife, scoop 1/2 cup of peanut butter onto one of the slices, repeating the same process with jelly on the other slice. 3. Using the flat edge of the knife, spread the peanut butter to the edges of the up-side of the bread. Repeat the same with the jellied slice. 4. Lift and press the peanut buttered and jellied sides of the bread together, so that the top and bottom edges of each slice lines up with the other slice. 5. Put concoction in mouth.\""
   ]
  },
  {
   "cell_type": "markdown",
   "metadata": {
    "collapsed": true,
    "deletable": false,
    "nbgrader": {
     "checksum": "309761881894835dac784a1a9e637b71",
     "grade": true,
     "grade_id": "cell-b115ea7be9e2e944",
     "locked": false,
     "points": 30,
     "schema_version": 1,
     "solution": true
    }
   },
   "source": [
    "YOUR ANSWER HERE"
   ]
  }
 ],
 "metadata": {
  "anaconda-cloud": {},
  "kernelspec": {
   "display_name": "Python 3",
   "language": "python",
   "name": "python3"
  },
  "language_info": {
   "codemirror_mode": {
    "name": "ipython",
    "version": 3
   },
   "file_extension": ".py",
   "mimetype": "text/x-python",
   "name": "python",
   "nbconvert_exporter": "python",
   "pygments_lexer": "ipython3",
   "version": "3.5.2"
  }
 },
 "nbformat": 4,
 "nbformat_minor": 1
}
