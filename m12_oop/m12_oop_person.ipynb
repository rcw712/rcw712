{
 "cells": [
  {
   "cell_type": "markdown",
   "metadata": {
    "deletable": false,
    "editable": false,
    "nbgrader": {
     "checksum": "19760a336e781bcb4a1627ca5b182222",
     "grade": false,
     "grade_id": "cell-b361279a9de44e2f",
     "locked": true,
     "schema_version": 1,
     "solution": false
    }
   },
   "source": [
    "# Classes and Object Oriented Programming\n",
    "## Notebook 2\n",
    "\n",
    "In this notebook you are going to create classes that simulate people. We will be using Pandas to generate the data we will use to create our person objects."
   ]
  },
  {
   "cell_type": "code",
   "execution_count": 8,
   "metadata": {
    "collapsed": true,
    "deletable": false,
    "editable": false,
    "nbgrader": {
     "checksum": "94c56a63854a0adedd22387f054d0f58",
     "grade": false,
     "grade_id": "cell-fdc5d117adaa5ae4",
     "locked": true,
     "schema_version": 1,
     "solution": false
    }
   },
   "outputs": [],
   "source": [
    "from nose.tools import assert_equal, assert_true, assert_raises, assert_almost_equal"
   ]
  },
  {
   "cell_type": "code",
   "execution_count": 9,
   "metadata": {
    "collapsed": true,
    "deletable": false,
    "editable": false,
    "nbgrader": {
     "checksum": "57db3e33a732e9ef99d9df42b575a5a7",
     "grade": false,
     "grade_id": "cell-7bba0a459ea346d2",
     "locked": true,
     "schema_version": 1,
     "solution": false
    }
   },
   "outputs": [],
   "source": [
    "import pandas as pd\n",
    "import gzip\n",
    "import pickle\n",
    "import dateutil\n",
    "import datetime\n",
    "from dateutil.relativedelta import *\n",
    "import numpy.random as ra\n",
    "import math\n",
    "import random\n",
    "import seaborn as sns\n",
    "import numpy as np\n",
    "import numbers\n",
    "import uuid"
   ]
  },
  {
   "cell_type": "markdown",
   "metadata": {
    "deletable": false,
    "editable": false,
    "nbgrader": {
     "checksum": "cbd5807c2ca7c533ac30cf550510be91",
     "grade": false,
     "grade_id": "cell-a037f8e55ff3c392",
     "locked": true,
     "schema_version": 1,
     "solution": false
    }
   },
   "source": [
    "## Get Surnames\n",
    "\n",
    "I have downloaded from the [Census Bureau](https://www.census.gov/topics/population/genealogy/data/2000_surnames.html) a csv file with the surnames and their counts in the 2010 census.  "
   ]
  },
  {
   "cell_type": "markdown",
   "metadata": {
    "deletable": false,
    "editable": false,
    "nbgrader": {
     "checksum": "7b0412bc34e57ace1f287ba0be799060",
     "grade": false,
     "grade_id": "cell-717c2af189e73a29",
     "locked": true,
     "schema_version": 1,
     "solution": false
    }
   },
   "source": [
    "**Problem 1 (5 points)**: Create a Pandas DataFrame named `surnames` from the file `2010_surnames.csv` that has columns `\"name\"` and `\"count\"` where count is greater than 10,000.\n"
   ]
  },
  {
   "cell_type": "code",
   "execution_count": 10,
   "metadata": {
    "collapsed": true,
    "deletable": false,
    "nbgrader": {
     "checksum": "62b43ed22d1c1a3b8af4650a9d879b7b",
     "grade": false,
     "grade_id": "cell-f7e42884aec072fb",
     "locked": false,
     "schema_version": 1,
     "solution": true
    }
   },
   "outputs": [],
   "source": [
    "surnames = None\n",
    "sn = pd.read_csv(\"2010_surnames.csv\",header=0,usecols=[0,2])\n",
    "#del surnames[\"2\"]\n",
    "sn.columns=[\"name\",\"count\"]\n",
    "surnames = sn.loc[sn['count'] > 10000]\n"
   ]
  },
  {
   "cell_type": "code",
   "execution_count": 11,
   "metadata": {
    "collapsed": true,
    "deletable": false,
    "editable": false,
    "nbgrader": {
     "checksum": "9c7d567fb8e6e94fd353c6ff1060aee6",
     "grade": true,
     "grade_id": "cell-15ebdff1ceca6db1",
     "locked": true,
     "points": 3,
     "schema_version": 1,
     "solution": false
    }
   },
   "outputs": [],
   "source": [
    "assert_equal(surnames.shape, (3287,2))"
   ]
  },
  {
   "cell_type": "code",
   "execution_count": 12,
   "metadata": {
    "collapsed": true,
    "deletable": false,
    "editable": false,
    "nbgrader": {
     "checksum": "8a07434e6c0c9ff0fc0503097757d31b",
     "grade": true,
     "grade_id": "cell-e1b37e6e4eddd83e",
     "locked": true,
     "points": 2,
     "schema_version": 1,
     "solution": false
    }
   },
   "outputs": [],
   "source": [
    "assert_equal(list(surnames.columns), [\"name\", \"count\"])"
   ]
  },
  {
   "cell_type": "markdown",
   "metadata": {
    "deletable": false,
    "editable": false,
    "nbgrader": {
     "checksum": "bd549ccb4950cf1830c7ec628df21b2d",
     "grade": false,
     "grade_id": "cell-75cfc2de72f1a672",
     "locked": true,
     "schema_version": 1,
     "solution": false
    }
   },
   "source": [
    "**Problem 2 (10 points):** Create a new column in `surnames` called `\"probability\"` that is the probability each name occurs in the sample of names (i.e. the count for that name divided by the sum of all the counts). Sort `surnames` so that the rows increase with `\"probability\"`."
   ]
  },
  {
   "cell_type": "code",
   "execution_count": 13,
   "metadata": {
    "deletable": false,
    "nbgrader": {
     "checksum": "9d82216ec4f745f19179cf0519140764",
     "grade": false,
     "grade_id": "cell-bedbfb599272a3a2",
     "locked": false,
     "schema_version": 1,
     "solution": true
    }
   },
   "outputs": [
    {
     "name": "stderr",
     "output_type": "stream",
     "text": [
      "/opt/conda/lib/python3.5/site-packages/ipykernel_launcher.py:1: SettingWithCopyWarning: \n",
      "A value is trying to be set on a copy of a slice from a DataFrame.\n",
      "Try using .loc[row_indexer,col_indexer] = value instead\n",
      "\n",
      "See the caveats in the documentation: http://pandas.pydata.org/pandas-docs/stable/indexing.html#indexing-view-versus-copy\n",
      "  \"\"\"Entry point for launching an IPython kernel.\n"
     ]
    }
   ],
   "source": [
    "surnames['probability'] = (surnames['count']) / (surnames['count'].sum())\n",
    "surnames = surnames.sort_values(\"count\")"
   ]
  },
  {
   "cell_type": "code",
   "execution_count": 14,
   "metadata": {
    "collapsed": true,
    "deletable": false,
    "editable": false,
    "nbgrader": {
     "checksum": "52456ceafd6badbb518fa07ce7dc9cc3",
     "grade": true,
     "grade_id": "cell-794a8173d5f69028",
     "locked": true,
     "points": 2,
     "schema_version": 1,
     "solution": false
    }
   },
   "outputs": [],
   "source": [
    "assert_almost_equal(surnames[surnames[\"name\"] == \"YOUNG\"][\"probability\"].values[0], 0.003138555454437736)"
   ]
  },
  {
   "cell_type": "code",
   "execution_count": 15,
   "metadata": {
    "collapsed": true,
    "deletable": false,
    "editable": false,
    "nbgrader": {
     "checksum": "dff7d4a4da9e6b460d77be4c18a7754b",
     "grade": true,
     "grade_id": "cell-5af578f9c0c003d9",
     "locked": true,
     "points": 3,
     "schema_version": 1,
     "solution": false
    }
   },
   "outputs": [],
   "source": [
    "assert_almost_equal(surnames[surnames[\"name\"] == \"CHAPMAN\"][\"probability\"].values[0], 0.00083938110990776664)"
   ]
  },
  {
   "cell_type": "code",
   "execution_count": 16,
   "metadata": {
    "collapsed": true,
    "deletable": false,
    "editable": false,
    "nbgrader": {
     "checksum": "0d849031cc679e674f0923cae7febe86",
     "grade": true,
     "grade_id": "cell-576f90fb32e0a4eb",
     "locked": true,
     "points": 5,
     "schema_version": 1,
     "solution": false
    }
   },
   "outputs": [],
   "source": [
    "assert_true(surnames[\"probability\"][surnames.index[0]] < surnames[\"probability\"][surnames.index[-1]])\n"
   ]
  },
  {
   "cell_type": "markdown",
   "metadata": {
    "deletable": false,
    "editable": false,
    "nbgrader": {
     "checksum": "41b173c82493f66a8e8a56b8de9e5be6",
     "grade": false,
     "grade_id": "cell-cfee601e9fcc273b",
     "locked": true,
     "schema_version": 1,
     "solution": false
    }
   },
   "source": [
    "**Problem 3 (xy 5):** Add a column named `\"cumulative_probability\"` that is for a given name the cumulative sum of all the probabilities for names less common than that name.\n",
    "\n",
    "The tail of your DataFrame should look like this:\n",
    "\n",
    "<table border=\"1\" class=\"dataframe\">\n",
    "  <thead>\n",
    "    <tr style=\"text-align: right;\">\n",
    "      <th></th>\n",
    "      <th>name</th>\n",
    "      <th>count</th>\n",
    "      <th>probability</th>\n",
    "      <th>cumulative_probability</th>\n",
    "    </tr>\n",
    "  </thead>\n",
    "  <tbody>\n",
    "    <tr>\n",
    "      <th>4</th>\n",
    "      <td>JONES</td>\n",
    "      <td>1362755</td>\n",
    "      <td>0.009179</td>\n",
    "      <td>0.951855</td>\n",
    "    </tr>\n",
    "    <tr>\n",
    "      <th>3</th>\n",
    "      <td>BROWN</td>\n",
    "      <td>1380145</td>\n",
    "      <td>0.009296</td>\n",
    "      <td>0.961152</td>\n",
    "    </tr>\n",
    "    <tr>\n",
    "      <th>2</th>\n",
    "      <td>WILLIAMS</td>\n",
    "      <td>1534042</td>\n",
    "      <td>0.010333</td>\n",
    "      <td>0.971485</td>\n",
    "    </tr>\n",
    "    <tr>\n",
    "      <th>1</th>\n",
    "      <td>JOHNSON</td>\n",
    "      <td>1857160</td>\n",
    "      <td>0.012510</td>\n",
    "      <td>0.983994</td>\n",
    "    </tr>\n",
    "    <tr>\n",
    "      <th>0</th>\n",
    "      <td>SMITH</td>\n",
    "      <td>2376206</td>\n",
    "      <td>0.016006</td>\n",
    "      <td>1.000000</td>\n",
    "    </tr>\n",
    "  </tbody>\n",
    "</table>\n",
    "\n",
    "**Hint:** There is a Pandas DataFrame/Series method for this."
   ]
  },
  {
   "cell_type": "code",
   "execution_count": 17,
   "metadata": {
    "collapsed": true,
    "deletable": false,
    "nbgrader": {
     "checksum": "fb7eb53620c286184c7ee170459e344c",
     "grade": false,
     "grade_id": "cell-937b036c5cb72c6b",
     "locked": false,
     "schema_version": 1,
     "solution": true
    }
   },
   "outputs": [],
   "source": [
    "surnames['cumulative_probability'] = surnames['probability'].cumsum()\n"
   ]
  },
  {
   "cell_type": "code",
   "execution_count": 18,
   "metadata": {
    "collapsed": true,
    "deletable": false,
    "editable": false,
    "nbgrader": {
     "checksum": "5819c725230e5ec19cee9ccea165ce46",
     "grade": true,
     "grade_id": "cell-6331e2da51e42e95",
     "locked": true,
     "points": 3,
     "schema_version": 1,
     "solution": false
    }
   },
   "outputs": [],
   "source": [
    "assert_almost_equal(surnames[surnames[\"name\"] == \"WEBBER\"][\"cumulative_probability\"].values[0], 0.21867902035776357)"
   ]
  },
  {
   "cell_type": "code",
   "execution_count": 19,
   "metadata": {
    "collapsed": true,
    "deletable": false,
    "editable": false,
    "nbgrader": {
     "checksum": "6c0e9d9281f1b117d2b07d8761cd4317",
     "grade": true,
     "grade_id": "cell-41910fa054d2821b",
     "locked": true,
     "points": 2,
     "schema_version": 1,
     "solution": false
    }
   },
   "outputs": [],
   "source": [
    "assert_almost_equal(surnames[surnames[\"name\"] == \"JOHNSON\"][\"cumulative_probability\"].values[0], 0.98399423475974246)"
   ]
  },
  {
   "cell_type": "markdown",
   "metadata": {
    "deletable": false,
    "editable": false,
    "nbgrader": {
     "checksum": "40173de0fa873d2adefa13eb50a7ed8e",
     "grade": false,
     "grade_id": "cell-93675e3410279b1b",
     "locked": true,
     "schema_version": 1,
     "solution": false
    }
   },
   "source": [
    "**Problem 4 (15):** Write a function `get_lastname` that takes as an argument your modified DataFrame `surnames` and returns a random name based on name frequency. Here is some pseudo-code for the function\n",
    "\n",
    "function get_lastname  \n",
    "\n",
    "    Arguments:  \n",
    "        a positional argument that is a DataFrame with surnames and the cumulative probability for each surname  \n",
    "        a keyword argument seed with a seed value (default None)   \n",
    "    Returns: a name   \n",
    "    \n",
    "    Set the random number generator seed with seed.   \n",
    "    Generate a random number (v) between 0 and 1   \n",
    "    for each row in DataFrame    ask\n",
    "       is v < row[\"cumulative_probability\"]?    \n",
    "           if yes then return the name value in this row   \n",
    "           if no then continue    \n",
    "           \n",
    "There is a faster way to achieve this results that uses Pandas selecting with a boolean DataFrame rather than a for loop:\n",
    "\n",
    "    Arguments:  \n",
    "        a positional argument that is a DataFrame with surnames and the cumulative probability for each surname  \n",
    "        a keyword argument seed with a seed value (default None)   \n",
    "    Returns: a name   \n",
    "    \n",
    "    Set the random number generator seed with seed.   \n",
    "    Generate a random number (v) between 0 and 1   \n",
    "    \n",
    "    Select all the rows in the DataFrame where the cumulative probability is greater than v\n",
    "    Select first row in the resulting DataFrame and return the cumulative probability from that row.\n",
    "\n",
    "\n",
    "#### We need the seed argument for testing purposes."
   ]
  },
  {
   "cell_type": "code",
   "execution_count": 20,
   "metadata": {
    "collapsed": true,
    "deletable": false,
    "nbgrader": {
     "checksum": "74202ebc12519acddd73f297bfa57852",
     "grade": false,
     "grade_id": "cell-914b05bb1f6d3dd4",
     "locked": false,
     "schema_version": 1,
     "solution": true
    }
   },
   "outputs": [],
   "source": [
    "import random\n",
    "def get_lastname(surnames, seed=None):\n",
    "    random.seed(seed)\n",
    "    rand = random.uniform(0,1)\n",
    "\n",
    "    return surnames.loc[surnames['cumulative_probability'] >= rand, 'name'].iloc[0]\n"
   ]
  },
  {
   "cell_type": "code",
   "execution_count": 21,
   "metadata": {
    "collapsed": true,
    "deletable": false,
    "editable": false,
    "nbgrader": {
     "checksum": "964029f1283a1011af196efbe5b59b9f",
     "grade": true,
     "grade_id": "cell-1304d9d0f3e4ea3c",
     "locked": true,
     "points": 5,
     "schema_version": 1,
     "solution": false
    }
   },
   "outputs": [],
   "source": [
    "\n",
    "assert_equal(get_lastname(surnames, seed=1), 'BATEMAN')\n"
   ]
  },
  {
   "cell_type": "code",
   "execution_count": 22,
   "metadata": {
    "collapsed": true,
    "deletable": false,
    "editable": false,
    "nbgrader": {
     "checksum": "59413fef4678b4f85235a26798b3b44e",
     "grade": true,
     "grade_id": "cell-835d40301db99c13",
     "locked": true,
     "points": 5,
     "schema_version": 1,
     "solution": false
    }
   },
   "outputs": [],
   "source": [
    "assert_equal(get_lastname(surnames, seed=356789), 'WEBB')"
   ]
  },
  {
   "cell_type": "code",
   "execution_count": null,
   "metadata": {
    "collapsed": true,
    "deletable": false,
    "editable": false,
    "nbgrader": {
     "checksum": "c953114dc7bcf2d262265e2cdb2c9481",
     "grade": true,
     "grade_id": "cell-b17b924fed19037d",
     "locked": true,
     "points": 5,
     "schema_version": 1,
     "solution": false
    }
   },
   "outputs": [],
   "source": []
  },
  {
   "cell_type": "markdown",
   "metadata": {
    "deletable": false,
    "editable": false,
    "nbgrader": {
     "checksum": "b70de5c8479ab63c9b3640a0acb0aeda",
     "grade": false,
     "grade_id": "cell-2855b1ac87b698d1",
     "locked": true,
     "schema_version": 1,
     "solution": false
    }
   },
   "source": [
    "## Get Mortality Data\n",
    "\n",
    "We are going to simulate patients living and dying. To do this we need the probability of dying for an individual at a given age. This is available through the [Social Security Administration website](https://www.ssa.gov/oact/STATS/table4c6.html). As we learned in the Pandas module, Pandas can read HTML tables. HTML, however, is notoriously messy and I had to do some hacking to get the data cleaned up to a usable state.\n"
   ]
  },
  {
   "cell_type": "code",
   "execution_count": 23,
   "metadata": {},
   "outputs": [
    {
     "name": "stdout",
     "output_type": "stream",
     "text": [
      "Requirement already satisfied: lxml in /opt/conda/lib/python3.5/site-packages\r\n"
     ]
    }
   ],
   "source": [
    "!pip install lxml"
   ]
  },
  {
   "cell_type": "code",
   "execution_count": 24,
   "metadata": {
    "deletable": false,
    "editable": false,
    "nbgrader": {
     "checksum": "0cea54ec907ce4f64564f810a22d5fe9",
     "grade": false,
     "grade_id": "cell-b91f70ddf5805879",
     "locked": true,
     "schema_version": 1,
     "solution": false
    }
   },
   "outputs": [
    {
     "data": {
      "text/html": [
       "<div>\n",
       "<table border=\"1\" class=\"dataframe\">\n",
       "  <thead>\n",
       "    <tr style=\"text-align: right;\">\n",
       "      <th></th>\n",
       "      <th>Male prob. death</th>\n",
       "      <th>Female prob. death</th>\n",
       "    </tr>\n",
       "  </thead>\n",
       "  <tbody>\n",
       "    <tr>\n",
       "      <th>0</th>\n",
       "      <td>0.006322</td>\n",
       "      <td>0.005313</td>\n",
       "    </tr>\n",
       "    <tr>\n",
       "      <th>1</th>\n",
       "      <td>0.000396</td>\n",
       "      <td>0.000346</td>\n",
       "    </tr>\n",
       "    <tr>\n",
       "      <th>2</th>\n",
       "      <td>0.000282</td>\n",
       "      <td>0.000221</td>\n",
       "    </tr>\n",
       "    <tr>\n",
       "      <th>3</th>\n",
       "      <td>0.000212</td>\n",
       "      <td>0.000162</td>\n",
       "    </tr>\n",
       "    <tr>\n",
       "      <th>4</th>\n",
       "      <td>0.000186</td>\n",
       "      <td>0.000131</td>\n",
       "    </tr>\n",
       "  </tbody>\n",
       "</table>\n",
       "</div>"
      ],
      "text/plain": [
       "   Male prob. death  Female prob. death\n",
       "0          0.006322            0.005313\n",
       "1          0.000396            0.000346\n",
       "2          0.000282            0.000221\n",
       "3          0.000212            0.000162\n",
       "4          0.000186            0.000131"
      ]
     },
     "execution_count": 24,
     "metadata": {},
     "output_type": "execute_result"
    }
   ],
   "source": [
    "mortality = pd.read_html(\"https://www.ssa.gov/oact/STATS/table4c6.html\", \n",
    "                         skiprows=4, \n",
    "                         header=None)[0]\n",
    "mortality = mortality.iloc[0:120,[1,4]]\n",
    "mortality.rename(columns=dict(zip(mortality.columns, \n",
    "                                  (\"Male prob. death\", \n",
    "                                   \"Female prob. death\"))), \n",
    "                 inplace=True)\n",
    "mortality.head()"
   ]
  },
  {
   "cell_type": "markdown",
   "metadata": {
    "deletable": false,
    "editable": false,
    "nbgrader": {
     "checksum": "a49dd4e81af39ad54d71ec6e6be1e9cc",
     "grade": false,
     "grade_id": "cell-461c52b496d6f554",
     "locked": true,
     "schema_version": 1,
     "solution": false
    }
   },
   "source": [
    "## Get USA Municipalities \n",
    "\n",
    "Our people need to live somewhere. I've downloaded a csv file with USA municipalities and their populations (`\"PEP_2016_PEPANNRES.csv\"`).\n",
    "\n",
    "[Census Website](https://factfinder.census.gov/faces/tableservices/jsf/pages/productview.xhtml?src=bkmk)"
   ]
  },
  {
   "cell_type": "markdown",
   "metadata": {
    "deletable": false,
    "editable": false,
    "nbgrader": {
     "checksum": "d393da01c5b258ec92cfca41394802c2",
     "grade": false,
     "grade_id": "cell-0f13b913762ae257",
     "locked": true,
     "schema_version": 1,
     "solution": false
    }
   },
   "source": [
    "**Problem 5 (15 points):** \n",
    "\n",
    "1. Use Pandas to read in `PEP_2016_PEPANNRES.csv` into a DataFrame named `municipalities`. The DataFrame should contain the following two columns: \"Geography\" and \"April 1, 2010 - Census\". To properly read in the data you will need to use the following keyword argument in `read_csv`:\n",
    "```Python\n",
    "encoding=\"latin1\"\n",
    "```\n",
    "2. Use the `r2` regular expression object to replace all matches in the DataFrame with an empty string.\n",
    "\n",
    "3. Similar to what we did with `surnames` create a column `\"probabilities\"` (using the \"April 1, 2010 - Census\" column), sort the `municipalities` by `\"probabilities\"` and create a `\"cumulative_probability\"` column.\n",
    "\n",
    "Your resulting DataFrame should look like this:\n",
    "\n",
    "<table border=\"1\" class=\"dataframe\">\n",
    "  <thead>\n",
    "    <tr style=\"text-align: right;\">\n",
    "      <th></th>\n",
    "      <th>Geography</th>\n",
    "      <th>April 1, 2010 - Census</th>\n",
    "      <th>probability</th>\n",
    "      <th>cumulative_probability</th>\n",
    "    </tr>\n",
    "  </thead>\n",
    "  <tbody>\n",
    "    <tr>\n",
    "      <th>9610</th>\n",
    "      <td>Goss, Missouri</td>\n",
    "      <td>0.0</td>\n",
    "      <td>0.000000e+00</td>\n",
    "      <td>0.000000e+00</td>\n",
    "    </tr>\n",
    "    <tr>\n",
    "      <th>10665</th>\n",
    "      <td>Monowi, Nebraska</td>\n",
    "      <td>1.0</td>\n",
    "      <td>5.203602e-09</td>\n",
    "      <td>5.203602e-09</td>\n",
    "    </tr>\n",
    "    <tr>\n",
    "      <th>10553</th>\n",
    "      <td>Gross, Nebraska</td>\n",
    "      <td>2.0</td>\n",
    "      <td>1.040720e-08</td>\n",
    "      <td>1.561081e-08</td>\n",
    "    </tr>\n",
    "    <tr>\n",
    "      <th>14109</th>\n",
    "      <td>Lotsee, Oklahoma</td>\n",
    "      <td>2.0</td>\n",
    "      <td>1.040720e-08</td>\n",
    "      <td>2.601801e-08</td>\n",
    "    </tr>\n",
    "    <tr>\n",
    "      <th>16043</th>\n",
    "      <td>Hillsview, South Dakota</td>\n",
    "      <td>3.0</td>\n",
    "      <td>1.561081e-08</td>\n",
    "      <td>4.162882e-08</td>\n",
    "    </tr>\n",
    "  </tbody>\n",
    "</table>"
   ]
  },
  {
   "cell_type": "code",
   "execution_count": 25,
   "metadata": {
    "collapsed": true,
    "deletable": false,
    "nbgrader": {
     "checksum": "35b53885054e988b2c87805d4092036b",
     "grade": false,
     "grade_id": "cell-f681e85507ad960b",
     "locked": false,
     "schema_version": 1,
     "solution": true
    }
   },
   "outputs": [],
   "source": [
    "import re\n",
    "r2 = re.compile(\" city| village| town\")\n",
    "municipalities = pd.read_csv(\"PEP_2016_PEPANNRES.csv\", encoding=\"latin1\",header=1,usecols=[2,3])\n",
    "municipalities = municipalities.replace(r2,\"\")\n",
    "\n",
    "municipalities['probability'] = (municipalities['April 1, 2010 - Census']) / (municipalities['April 1, 2010 - Census'].sum())\n",
    "municipalities = municipalities.sort_values(\"probability\")\n",
    "municipalities['cumulative_probability'] = municipalities['probability'].cumsum()"
   ]
  },
  {
   "cell_type": "code",
   "execution_count": 26,
   "metadata": {
    "collapsed": true,
    "deletable": false,
    "editable": false,
    "nbgrader": {
     "checksum": "449d06cef36f44eaa3e439495f85965f",
     "grade": true,
     "grade_id": "cell-dda232fa5d933673",
     "locked": true,
     "points": 5,
     "schema_version": 1,
     "solution": false
    }
   },
   "outputs": [],
   "source": [
    "assert_equal(municipalities.columns.tolist(), \n",
    "             ['Geography', \n",
    "              'April 1, 2010 - Census', \n",
    "              'probability',\n",
    "              'cumulative_probability'])"
   ]
  },
  {
   "cell_type": "code",
   "execution_count": 27,
   "metadata": {
    "collapsed": true,
    "deletable": false,
    "editable": false,
    "nbgrader": {
     "checksum": "54417f54cfa901caeff1ccb1b67efb4e",
     "grade": true,
     "grade_id": "cell-bd988d8c4c49d260",
     "locked": true,
     "points": 5,
     "schema_version": 1,
     "solution": false
    }
   },
   "outputs": [],
   "source": [
    "assert_equal(municipalities.iloc[0][\"Geography\"], \"Goss, Missouri\")"
   ]
  },
  {
   "cell_type": "code",
   "execution_count": 28,
   "metadata": {
    "collapsed": true,
    "deletable": false,
    "editable": false,
    "nbgrader": {
     "checksum": "561266da692aaabc3e59e19de80d0abb",
     "grade": true,
     "grade_id": "cell-8342b903263568b9",
     "locked": true,
     "points": 5,
     "schema_version": 1,
     "solution": false
    }
   },
   "outputs": [],
   "source": [
    "assert_equal(municipalities.iloc[3274][\"Geography\"], \"Creston, Washington\")"
   ]
  },
  {
   "cell_type": "markdown",
   "metadata": {
    "deletable": false,
    "editable": false,
    "nbgrader": {
     "checksum": "2b486ba451c15f29bbb9d7806478e002",
     "grade": false,
     "grade_id": "cell-6312d1e07545b48c",
     "locked": true,
     "schema_version": 1,
     "solution": false
    }
   },
   "source": [
    "**Problem 6 (5 points):**\n",
    "\n",
    "Generalize the `get_lastname` function to return the value in an arbitrary column based on an arbitrary test column."
   ]
  },
  {
   "cell_type": "code",
   "execution_count": 29,
   "metadata": {
    "collapsed": true,
    "deletable": false,
    "nbgrader": {
     "checksum": "944056ba4e64fc69db810fd2af539cf2",
     "grade": false,
     "grade_id": "cell-2ee225f094b2d485",
     "locked": false,
     "schema_version": 1,
     "solution": true
    }
   },
   "outputs": [],
   "source": [
    "def get_random_attribute(df, return_col, \n",
    "                         test_col=\"cumulative_probability\",\n",
    "                         seed=None):\n",
    "    random.seed(seed)\n",
    "    rand6 = random.uniform(0,1)\n",
    "   \n",
    "    return df.loc[df[test_col] >=rand6, return_col].iloc[0]"
   ]
  },
  {
   "cell_type": "code",
   "execution_count": 30,
   "metadata": {
    "collapsed": true,
    "deletable": false,
    "editable": false,
    "nbgrader": {
     "checksum": "32e04c2ceb4bc3be7aae5f4d509f290f",
     "grade": true,
     "grade_id": "cell-166a303f60a4910d",
     "locked": true,
     "points": 2,
     "schema_version": 1,
     "solution": false
    }
   },
   "outputs": [],
   "source": [
    "assert_equal(get_random_attribute(municipalities, \n",
    "                                  \"Geography\",\n",
    "                                  seed=172),\n",
    "             'Manassas, Virginia') "
   ]
  },
  {
   "cell_type": "code",
   "execution_count": 31,
   "metadata": {
    "collapsed": true,
    "deletable": false,
    "editable": false,
    "nbgrader": {
     "checksum": "bcf203d67b83457f49c3b18af4ab52c8",
     "grade": true,
     "grade_id": "cell-983fadedd1c647ec",
     "locked": true,
     "points": 3,
     "schema_version": 1,
     "solution": false
    }
   },
   "outputs": [],
   "source": [
    "assert_equal(get_random_attribute(surnames, \"name\",seed=172),\"JOHNS\")"
   ]
  },
  {
   "cell_type": "markdown",
   "metadata": {
    "deletable": false,
    "editable": false,
    "nbgrader": {
     "checksum": "1ef91049d4fbdf3bd13bc2f6b6de0f1a",
     "grade": false,
     "grade_id": "cell-936889b574584654",
     "locked": true,
     "schema_version": 1,
     "solution": false
    }
   },
   "source": [
    "## Age Distribution\n",
    "We need distributions for our population ages. Here is information at the [Census Bureau](https://www.census.gov/prod/cen2010/briefs/c2010br-03.pdf). I'm going to just use the geometric distribution in numpy to create a (to me, for this homework) reasonable distribution of ages.\n"
   ]
  },
  {
   "cell_type": "code",
   "execution_count": 32,
   "metadata": {
    "deletable": false,
    "editable": false,
    "nbgrader": {
     "checksum": "bf40a0434d6770bddf786c04a78a7154",
     "grade": false,
     "grade_id": "cell-1559ee4856be0b55",
     "locked": true,
     "schema_version": 1,
     "solution": false
    }
   },
   "outputs": [
    {
     "name": "stdout",
     "output_type": "stream",
     "text": [
      "18 99\n"
     ]
    },
    {
     "data": {
      "text/plain": [
       "<matplotlib.axes._subplots.AxesSubplot at 0x7fbbf3c0fba8>"
      ]
     },
     "execution_count": 32,
     "metadata": {},
     "output_type": "execute_result"
    },
    {
     "data": {
      "image/png": "[encoded data removed]",
      "text/plain": [
       "<matplotlib.figure.Figure at 0x7fbbf4d99fd0>"
      ]
     },
     "metadata": {},
     "output_type": "display_data"
    }
   ],
   "source": [
    "\n",
    "def get_age(minage=17, maxage=100, p=0.06):\n",
    "    age = minage+ra.geometric(p,1)[0]\n",
    "    if age < maxage:\n",
    "        return age\n",
    "    else:\n",
    "        return get_age()\n",
    "ages = pd.Series([get_age() for i in range(100000)])\n",
    "print(ages.min(), ages.max())\n",
    "ages.hist(bins=100)"
   ]
  },
  {
   "cell_type": "markdown",
   "metadata": {
    "deletable": false,
    "editable": false,
    "nbgrader": {
     "checksum": "44b20a51048883e4e8481aab5f4c58c8",
     "grade": false,
     "grade_id": "cell-321a1d37bb0fe8dd",
     "locked": true,
     "schema_version": 1,
     "solution": false
    }
   },
   "source": [
    "**Problem 7 (5 points):**\n",
    "\n",
    "Write a function `get_sex` that takes a positional argument the proportion of the population that is female and returns `\"F\"` or `\"M\"` based on that proportion. The keyword argument `seed=None` is needed for testing.\n",
    "\n",
    "```Python\n",
    "0.52\n",
    "```"
   ]
  },
  {
   "cell_type": "code",
   "execution_count": 33,
   "metadata": {
    "collapsed": true,
    "deletable": false,
    "nbgrader": {
     "checksum": "85fb3c600c43470750f1140dc5537aee",
     "grade": false,
     "grade_id": "cell-4c27aae41d95d993",
     "locked": false,
     "schema_version": 1,
     "solution": true
    }
   },
   "outputs": [],
   "source": [
    "def get_sex(female_proportion, seed=None):\n",
    "    random.seed(seed)\n",
    "    rand7 = random.random()\n",
    "    if rand7 <= female_proportion:\n",
    "        return \"F\"\n",
    "    else:\n",
    "        return \"M\""
   ]
  },
  {
   "cell_type": "code",
   "execution_count": 34,
   "metadata": {
    "collapsed": true,
    "deletable": false,
    "editable": false,
    "nbgrader": {
     "checksum": "63ccfeafa7f0f5afcd92d7140f251523",
     "grade": true,
     "grade_id": "cell-4e80d1937bba2c7e",
     "locked": true,
     "points": 3,
     "schema_version": 1,
     "solution": false
    }
   },
   "outputs": [],
   "source": [
    "assert_equal(get_sex(0.52, seed=1), \"F\")"
   ]
  },
  {
   "cell_type": "code",
   "execution_count": 35,
   "metadata": {
    "collapsed": true,
    "deletable": false,
    "editable": false,
    "nbgrader": {
     "checksum": "0a6f9b6c98966ac5d2b0f0770b39833c",
     "grade": true,
     "grade_id": "cell-42a9477345a8cc91",
     "locked": true,
     "points": 2,
     "schema_version": 1,
     "solution": false
    }
   },
   "outputs": [],
   "source": [
    "assert_equal(get_sex(0.1, seed=1), \"M\")"
   ]
  },
  {
   "cell_type": "markdown",
   "metadata": {
    "deletable": false,
    "editable": false,
    "nbgrader": {
     "checksum": "78cac61f0530033fbf7d7d798d2431c8",
     "grade": false,
     "grade_id": "cell-292e713dd4ee06bf",
     "locked": true,
     "schema_version": 1,
     "solution": false
    }
   },
   "source": [
    "## First Names\n",
    "\n",
    "**Problem 8 (5 points):** \n",
    "\n",
    "The Social Security Administration provides the [names of babies](https://www.ssa.gov/oact/babynames/limits.html) born in the United States between 1880 and 2016. For privacy purposes names occuring fewer than 5 times per year are excluded. A dicctionary containing these name, along with ther probabilities and cumulative probabilites is stored in a compressed pickle file `first_names.pickle.gz`. Use Python to read the dictionary into this notebook."
   ]
  },
  {
   "cell_type": "code",
   "execution_count": 36,
   "metadata": {
    "collapsed": true,
    "deletable": false,
    "nbgrader": {
     "checksum": "3b7a2fa0bc808287e698de78e46ab345",
     "grade": false,
     "grade_id": "cell-e6b6737c99d4a2b9",
     "locked": false,
     "schema_version": 1,
     "solution": true
    }
   },
   "outputs": [],
   "source": [
    "first_names = \"first_names.pickle.gz\"\n",
    "\n",
    "with gzip.open(first_names, 'rb') as myfile:\n",
    "   first_names = pickle.load(myfile)\n",
    "#first_names"
   ]
  },
  {
   "cell_type": "code",
   "execution_count": 37,
   "metadata": {
    "collapsed": true,
    "deletable": false,
    "editable": false,
    "nbgrader": {
     "checksum": "02b6dbfe8503efbbb65470a673ae32b2",
     "grade": true,
     "grade_id": "cell-b6bfcd5693bb2fa1",
     "locked": true,
     "points": 5,
     "schema_version": 1,
     "solution": false
    }
   },
   "outputs": [],
   "source": [
    "assert_equal(list(first_names.keys()), \n",
    "                          [1880, 1881, 1882, 1883, 1884, 1885, \n",
    "                           1886, 1887, 1888, 1889, 1890, 1891, \n",
    "                           1892, 1893, 1894, 1895, 1896, 1897, \n",
    "                           1898, 1899, 1900, 1901, 1902, 1903, \n",
    "                           1904, 1905, 1906, 1907, 1908, 1909, \n",
    "                           1910, 1911, 1912, 1913, 1914, 1915, \n",
    "                           1916, 1917, 1918, 1919, 1920, 1921, \n",
    "                           1922, 1923, 1924, 1925, 1926, 1927, \n",
    "                           1928, 1929, 1930, 1931, 1932, 1933, \n",
    "                           1934, 1935, 1936, 1937, 1938, 1939, \n",
    "                           1940, 1941, 1942, 1943, 1944, 1945, \n",
    "                           1946, 1947, 1948, 1949, 1950, 1951, \n",
    "                           1952, 1953, 1954, 1955, 1956, 1957, \n",
    "                           1958, 1959, 1960, 1961, 1962, 1963, \n",
    "                           1964, 1965, 1966, 1967, 1968, 1969, \n",
    "                           1970, 1971, 1972, 1973, 1974, 1975, \n",
    "                           1976, 1977, 1978, 1979, 1980, 1981, \n",
    "                           1982, 1983, 1984, 1985, 1986, 1987, \n",
    "                           1988, 1989, 1990, 1991, 1992, 1993, \n",
    "                           1994, 1995, 1996, 1997, 1998, 1999, \n",
    "                           2000, 2001, 2002, 2003, 2004, 2005, \n",
    "                           2006, 2007, 2008, 2009, 2010, 2011, \n",
    "                           2012, 2013, 2014, 2015, 2016])"
   ]
  },
  {
   "cell_type": "markdown",
   "metadata": {
    "deletable": false,
    "editable": false,
    "nbgrader": {
     "checksum": "49ce5d91f5dbd583e10a09b49637664c",
     "grade": false,
     "grade_id": "cell-52720d09580b1695",
     "locked": true,
     "schema_version": 1,
     "solution": false
    }
   },
   "source": [
    "**Problem 9 (15 points):**\n",
    "\n",
    "Complete the code for the person class defined below:\n",
    "\n",
    "\n",
    "```Python\n",
    "class person(object):\n",
    "    \"\"\"\n",
    "    person class. \n",
    "    \"\"\"\n",
    "    __sexes = ('M', 'F')\n",
    "    def __init__(self, name = \"John\",\n",
    "                 dob = \"\",\n",
    "                 sex = 'F'):\n",
    "        \"\"\"Contructor. Names no arguments.\"\"\"\n",
    "        self.name = name\n",
    "        self.dob = dob\n",
    "        self.sex = sex\n",
    "\n",
    "\n",
    "    @property\n",
    "    def name(self):\n",
    "        ???\n",
    "    @name.setter\n",
    "    def name(self,name):\n",
    "        ???\n",
    "    @property\n",
    "    def age(self):\n",
    "        \"\"\"\n",
    "        Returns the person's age in years as an integer.\n",
    "        \n",
    "        Age is computed using the different between the \n",
    "        date of birth and the current date.\n",
    "        \"\"\"\n",
    "        ???\n",
    "    @property\n",
    "    def dob(self):\n",
    "        return self.__dob\n",
    "    @dob.setter\n",
    "    def dob(self, dob):\n",
    "        self.__dob = dateutil.parser.parse(dob).date()\n",
    "    @property\n",
    "    def sex(self):\n",
    "        ???\n",
    "    @sex.setter\n",
    "    def sex(self, value):\n",
    "        sex = value.upper()[0]\n",
    "        if sex not in self.__sexes:\n",
    "            raise ValueError(\"%s: invalid sex specification\"%sex)\n",
    "        self.__sex = sex\n",
    "\n",
    "    def __str__(self):\n",
    "        ???\n",
    "```"
   ]
  },
  {
   "cell_type": "code",
   "execution_count": 38,
   "metadata": {
    "collapsed": true,
    "deletable": false,
    "nbgrader": {
     "checksum": "fa003e97d995eac936b23713ff260143",
     "grade": false,
     "grade_id": "cell-bafea5c3f99eb37c",
     "locked": false,
     "schema_version": 1,
     "solution": true
    }
   },
   "outputs": [],
   "source": [
    "from datetime import date\n",
    "\n",
    "class person(object):\n",
    "    \"\"\"\n",
    "    person class. \n",
    "    \"\"\"\n",
    "    __sexes = ('M', 'F')\n",
    "    def __init__(self, name = \"\",\n",
    "                 dob = \"\",\n",
    "                 sex = 'F'):\n",
    "        \"\"\"Contructor. Names no arguments.\"\"\"\n",
    "        self.name = name\n",
    "        self.dob = dob\n",
    "        self.sex = sex\n",
    "\n",
    "\n",
    "    @property\n",
    "    def name(self):\n",
    "        return self.__name\n",
    "    @name.setter\n",
    "    def name(self,name):\n",
    "        self.__name = name.strip()\n",
    "    @property\n",
    "    def age(self):\n",
    "        \"\"\"\n",
    "        Returns the person's age in years as an integer.\n",
    "\n",
    "        Age is computed using the different between the \n",
    "        date of birth and the current date.\n",
    "        \"\"\"\n",
    "        today = date.today()\n",
    "        self.__age = (today.year - self.__dob.year)\n",
    "        return self.__age\n",
    "    \n",
    "    @property\n",
    "    def dob(self):\n",
    "        return self.__dob\n",
    "    \n",
    "    @dob.setter\n",
    "    def dob(self, dob):\n",
    "        self.__dob = dateutil.parser.parse(dob).date()\n",
    "        \n",
    "    @property\n",
    "    def sex(self):\n",
    "        return self.__sex\n",
    "    \n",
    "    @sex.setter\n",
    "    def sex(self, value):\n",
    "        sex = value.upper()[0]\n",
    "        if sex not in self.__sexes:\n",
    "            raise ValueError(\"%s: invalid sex specification\"%sex)\n",
    "        self.__sex = sex\n",
    "\n",
    "    def __str__(self):\n",
    "        return (self.name, self.dob, self.sex, str(self.age))"
   ]
  },
  {
   "cell_type": "code",
   "execution_count": 39,
   "metadata": {
    "collapsed": true,
    "deletable": false,
    "editable": false,
    "nbgrader": {
     "checksum": "3ab92f27b08653a777f78820139afe68",
     "grade": true,
     "grade_id": "cell-880b077e738e96b2",
     "locked": true,
     "points": 1,
     "schema_version": 1,
     "solution": false
    }
   },
   "outputs": [],
   "source": [
    "test_person = person(name=\"Earl\", dob=\"Feb 28, 1929\", sex=\"M\")\n",
    "assert_true(\"Earl\" in test_person.__str__())"
   ]
  },
  {
   "cell_type": "code",
   "execution_count": 40,
   "metadata": {
    "collapsed": true,
    "deletable": false,
    "editable": false,
    "nbgrader": {
     "checksum": "16d2a0f07453fbd1a670a48cb3533149",
     "grade": true,
     "grade_id": "cell-cd35137747f43074",
     "locked": true,
     "points": 1,
     "schema_version": 1,
     "solution": false
    }
   },
   "outputs": [],
   "source": [
    "test_person = person(name=\"Earl\", dob=\"Feb 28, 1929\", sex=\"M\")\n",
    "assert_true(\"88\" in test_person.__str__())"
   ]
  },
  {
   "cell_type": "code",
   "execution_count": 41,
   "metadata": {
    "collapsed": true,
    "deletable": false,
    "editable": false,
    "nbgrader": {
     "checksum": "571d5fc5d072b48f6910a3a9948e23c7",
     "grade": true,
     "grade_id": "cell-7e1f6246043f9827",
     "locked": true,
     "points": 5,
     "schema_version": 1,
     "solution": false
    }
   },
   "outputs": [],
   "source": [
    "test_person = person(name=\"Donna\", dob=\"March 15, 1947\", sex=\"F\")\n",
    "assert_equal(test_person.age, 70)"
   ]
  },
  {
   "cell_type": "code",
   "execution_count": 42,
   "metadata": {
    "collapsed": true,
    "deletable": false,
    "editable": false,
    "nbgrader": {
     "checksum": "5c1fb65e9128aeac27db83b487462249",
     "grade": true,
     "grade_id": "cell-f7b00e00f1699964",
     "locked": true,
     "points": 3,
     "schema_version": 1,
     "solution": false
    }
   },
   "outputs": [],
   "source": [
    "assert_raises(ValueError, person, name=\"Ziggy\", \n",
    "                                  dob=\"01/08/1947\", \n",
    "              sex=\"Other\")\n"
   ]
  },
  {
   "cell_type": "code",
   "execution_count": 43,
   "metadata": {
    "collapsed": true,
    "deletable": false,
    "editable": false,
    "nbgrader": {
     "checksum": "9c5951a7d8c9f304d0d8e4ad1d16936f",
     "grade": true,
     "grade_id": "cell-a5b66e6d97924892",
     "locked": true,
     "points": 5,
     "schema_version": 1,
     "solution": false
    }
   },
   "outputs": [],
   "source": [
    "assert_raises(AttributeError, person, name=1947, sex=\"M\", dob=\"01/08/1947\")"
   ]
  },
  {
   "cell_type": "markdown",
   "metadata": {
    "deletable": false,
    "editable": false,
    "nbgrader": {
     "checksum": "94eff5fbafeb96076088fb90ac61fc16",
     "grade": false,
     "grade_id": "cell-3320ef8dd9573b3c",
     "locked": true,
     "schema_version": 1,
     "solution": false
    }
   },
   "source": [
    "**Problem 10 (30 points):**\n",
    "\n",
    "Define a class `participant` that inherits from `person`. The class adds the following attributes and properties. For properties, store the actual value in a private variable:\n",
    "\n",
    "* `deceased`: a boolean property set initially to False\n",
    "    * Define getter/setter properties\n",
    "* `dod`: a property\n",
    "    * The actual value is a `datetime.date` object stored as a private attribute \n",
    "    * The getter property returns the date in an appropriately formated string\n",
    "    * The setter property accepts either a string or a datetime.date object\n",
    "* `residence`: a string property indicating a municipality in the USA.\n",
    "    * * Define getter/setter properties\n",
    "* `__study_start`: a datetime.date object initialized to the current date \n",
    "    * Initialize in the constructor\n",
    "    * Define a getter property (def study_start) but not a setter (cannot be modified)\n",
    "* `__time_in_study`: a `dateutil` `relativedelta` object\n",
    "    * Define a getter property that returns the number of days in the study as an integer\n",
    "* `__studyid`: An integer generated with the `uuid` library.\n",
    "    * Initialize in the constructor\n",
    "    * Define a getter property but not a setter (cannot be modified)\n",
    "\n",
    "In addition to the @property and @xyz.setter methods, the class should implement the following methods:\n",
    "\n",
    "* `increment_study_time`: accepts a `relativedelta` object and increments the `__time_in_study` attribute.\n",
    "* `dies`: sets `deceased` to `True` and sets `dod` to the study start date plus the time in the study\n",
    "* `__repr__`\n",
    "* `__str__`\n"
   ]
  },
  {
   "cell_type": "code",
   "execution_count": 79,
   "metadata": {
    "collapsed": true,
    "deletable": false,
    "nbgrader": {
     "checksum": "ee682bb7e3b057858eb26d4074d1e997",
     "grade": false,
     "grade_id": "cell-4573a43f6267cf2d",
     "locked": false,
     "schema_version": 1,
     "solution": true
    }
   },
   "outputs": [],
   "source": [
    "class participant(person):\n",
    "    \"\"\"\n",
    "    this class inherits from person class. \n",
    "    \"\"\"\n",
    "    \n",
    "    def __init__(self,\n",
    "                 residence = \"\",\n",
    "                 enrollment_date = None, \n",
    "                 **kwargs):\n",
    "        \"\"\"Contructor. Names no arguments.\"\"\"\n",
    "\n",
    "        self.__dod = None\n",
    "        self.residence = residence\n",
    "        self.deceased = False\n",
    "        if enrollment_date == None:\n",
    "            self.__study_start = datetime.datetime.now().today().date()\n",
    "        else:\n",
    "            self.__study_start = dateutil.parser.parse(enrollment_date).date()\n",
    "        \n",
    "        self.__studyid = uuid.uuid4()\n",
    "        self._time_in_study = relativedelta()\n",
    "        \n",
    "\n",
    "        super(participant, self).__init__(**kwargs)\n",
    "    \n",
    "    @property\n",
    "    def age(self):\n",
    "        td = self.__study_start + self._time_in_study - self.dob\n",
    "        return {\"years\":td.days//365, \"months\":td.days%365//30}\n",
    "    @property\n",
    "    def dod(self):\n",
    "        try:\n",
    "            return self.__dod.strftime('%B %d, %Y') \n",
    "        except Exception as error:\n",
    "            print(error)\n",
    "            return \"\"\n",
    "    \n",
    "    @dod.setter\n",
    "    def dod(self, dod):\n",
    "\n",
    "            self.__dod = dod\n",
    "        \n",
    "    @property\n",
    "    def deceased(self):\n",
    "        return self.__deceased \n",
    "    @deceased.setter\n",
    "    def deceased(self, died):\n",
    "         self.__deceased = died\n",
    "    def dies(self):\n",
    "        self.deceased = True\n",
    "        self.dod = self.__study_start+self._time_in_study \n",
    "\n",
    "    \n",
    "    @property\n",
    "    def residence(self):\n",
    "        return self.__residence\n",
    "    \n",
    "    @residence.setter\n",
    "    def residence(self, residence):\n",
    "        self.__residence = residence\n",
    "        \n",
    "    @property\n",
    "    def days_in_study(self):\n",
    "        return ((self.__study_start+self._time_in_study)-self.__study_start).days \n",
    "    @property\n",
    "    def study_start(self):\n",
    "        return self.__study_start\n",
    "    \n",
    "    @property\n",
    "    def time_in_study(self):\n",
    "        return dateutil.relativedelta(self.__study_start)\n",
    "    \n",
    "    @property\n",
    "    def studyid(self):\n",
    "        return self.__studyid\n",
    "    \n",
    "    def increment_study_time(self, delta):\n",
    "        self._time_in_study+=delta\n",
    "\n",
    "    \n",
    "    \n",
    "    def __str__(self):\n",
    "        return \" \".join((self.name, str(self.age), self.sex, self.dod, self.residence))\n",
    "    def __repr__(self):\n",
    "        return \"%d\"%self.days_in_study\n",
    "    \n",
    "    def __lt__(self,p):\n",
    "        return self.dod < p.dod\n",
    "    def __le__(self,p):\n",
    "        return self.dod <= p.dod\n",
    "    def __gt__(self,p):\n",
    "        return self.dod > p.dod\n",
    "    def __ge__(self,p):\n",
    "        return self.dod >= p.dod\n",
    "    def __eq__(self,p):\n",
    "        return self.dod == p.dod\n",
    "    def __ne__(self,p):\n",
    "        return self.dod != p.dod"
   ]
  },
  {
   "cell_type": "code",
   "execution_count": 80,
   "metadata": {
    "collapsed": true,
    "deletable": false,
    "editable": false,
    "nbgrader": {
     "checksum": "fae8e90bbb07f189900e93f986bb9242",
     "grade": true,
     "grade_id": "cell-5e778fcfb7f30e72",
     "locked": true,
     "points": 5,
     "schema_version": 1,
     "solution": false
    }
   },
   "outputs": [],
   "source": [
    "p1= participant(residence=\"Salt Lake City\", \n",
    "                name=\"Brian\", \n",
    "                dob=\"5/24/1968\",\n",
    "                enrollment_date = \"October 28, 2017\",\n",
    "                sex='male')\n",
    "assert_true(isinstance(p1,person))"
   ]
  },
  {
   "cell_type": "code",
   "execution_count": 81,
   "metadata": {
    "collapsed": true,
    "deletable": false,
    "editable": false,
    "nbgrader": {
     "checksum": "96e9c82764b6484777e6f0ccfd5152bc",
     "grade": true,
     "grade_id": "cell-9cae4d8e8dc6f991",
     "locked": true,
     "points": 5,
     "schema_version": 1,
     "solution": false
    }
   },
   "outputs": [],
   "source": [
    "p1= participant(residence=\"Salt Lake City\", \n",
    "                name=\"Brian\", \n",
    "                dob=\"5/24/1968\",\n",
    "                enrollment_date = \"October 28, 2017\",\n",
    "                sex='male')\n",
    "p1.increment_study_time(relativedelta(months=+24))\n",
    "assert_true(p1.days_in_study, 730)"
   ]
  },
  {
   "cell_type": "code",
   "execution_count": 82,
   "metadata": {
    "collapsed": true,
    "deletable": false,
    "editable": false,
    "nbgrader": {
     "checksum": "b04117710a0a03f1e548914ee1360963",
     "grade": true,
     "grade_id": "cell-046e76b9b1b38ab6",
     "locked": true,
     "points": 5,
     "schema_version": 1,
     "solution": false
    }
   },
   "outputs": [],
   "source": [
    "p1= participant(residence=\"Salt Lake City\", \n",
    "                name=\"Brian\", \n",
    "                dob=\"5/24/1968\",\n",
    "                enrollment_date = \"October 28, 2017\",\n",
    "                sex='male')\n",
    "p1.increment_study_time(relativedelta(months=+36))\n",
    "p1.dies()\n",
    "assert_equal(p1.age, {'months': 5, 'years': 52})"
   ]
  },
  {
   "cell_type": "code",
   "execution_count": 83,
   "metadata": {
    "collapsed": true,
    "deletable": false,
    "editable": false,
    "nbgrader": {
     "checksum": "0dbe766912ce80ada573ce77cbd4583a",
     "grade": true,
     "grade_id": "cell-c9e349d79e0bc127",
     "locked": true,
     "points": 5,
     "schema_version": 1,
     "solution": false
    }
   },
   "outputs": [],
   "source": [
    "p1= participant(residence=\"Salt Lake City\", \n",
    "                name=\"Brian\", \n",
    "                dob=\"5/24/1968\",\n",
    "                enrollment_date = \"October 28, 2017\",\n",
    "                sex='male')\n",
    "p1.increment_study_time(relativedelta(months=+36))\n",
    "p1.dies()\n",
    "assert_equal(p1.deceased, True)"
   ]
  },
  {
   "cell_type": "code",
   "execution_count": 84,
   "metadata": {
    "collapsed": true,
    "deletable": false,
    "editable": false,
    "nbgrader": {
     "checksum": "8a21cab6b681a02549b412e972f35586",
     "grade": true,
     "grade_id": "cell-a5bddfff178f63d6",
     "locked": true,
     "points": 5,
     "schema_version": 1,
     "solution": false
    }
   },
   "outputs": [],
   "source": [
    "p1= participant(residence=\"Salt Lake City\", \n",
    "                name=\"Brian Chapman\", \n",
    "                dob=\"5/24/1968\",\n",
    "                enrollment_date = \"October 28, 2017\",\n",
    "                sex='male')\n",
    "p1.increment_study_time(relativedelta(months=+12))\n",
    "assert_equal(p1.deceased, False)"
   ]
  },
  {
   "cell_type": "code",
   "execution_count": 85,
   "metadata": {
    "deletable": false,
    "editable": false,
    "nbgrader": {
     "checksum": "f8c9bed17e481a8b7ed4ecb752ee02a1",
     "grade": true,
     "grade_id": "cell-6f78ccf1cea7012c",
     "locked": true,
     "points": 3,
     "schema_version": 1,
     "solution": false
    }
   },
   "outputs": [
    {
     "name": "stdout",
     "output_type": "stream",
     "text": [
      "'NoneType' object has no attribute 'strftime'\n"
     ]
    }
   ],
   "source": [
    "p1= participant(residence=\"Salt Lake City\", \n",
    "                name=\"Brian Chapman\", \n",
    "                dob=\"5/24/1968\",\n",
    "                enrollment_date = \"October 28, 2017\",\n",
    "                sex='male')\n",
    "assert_true(\"Chapman\" in p1.__str__())\n",
    "#assert_equal(p1.deceased, False)"
   ]
  },
  {
   "cell_type": "code",
   "execution_count": 86,
   "metadata": {
    "collapsed": true,
    "deletable": false,
    "editable": false,
    "nbgrader": {
     "checksum": "2c6c88dc0cd9269d772033a8242355cc",
     "grade": true,
     "grade_id": "cell-25aa9b23c3cd57b9",
     "locked": true,
     "points": 2,
     "schema_version": 1,
     "solution": false
    }
   },
   "outputs": [],
   "source": [
    "p1= participant(residence=\"Salt Lake City\", \n",
    "                name=\"Brian Chapman\", \n",
    "                dob=\"5/24/1968\",\n",
    "                enrollment_date = \"October 28, 2017\",\n",
    "                sex='male')\n",
    "p1.increment_study_time(relativedelta(months=+6))\n",
    "assert_true(\"182\" in p1.__repr__())"
   ]
  },
  {
   "cell_type": "markdown",
   "metadata": {
    "deletable": false,
    "editable": false,
    "nbgrader": {
     "checksum": "ae50c6c0a60c32a2e366b0b409485215",
     "grade": false,
     "grade_id": "cell-9fc12f7936030ee5",
     "locked": true,
     "schema_version": 1,
     "solution": false
    }
   },
   "source": [
    "**Problem 11 (25 points):**\n",
    "\n",
    "Complete and correct the function `generateRandomPersonAttributes` so that it properly returns a `participant` object with randomly determined attributes\n",
    "```Python\n",
    "def generateRandomPersonAttributes(surnames, first_names, \n",
    "                                   municipalities,\n",
    "                                   proportion_female=0.52):\n",
    "    sex = get_sex\n",
    "    age = get_age\n",
    "    year = datetime.datetime.now().year-???\n",
    "    dob = (datetime.date(datetime.datetime.now.year-age, 1,1)+\\\n",
    "        relativedelta(days=+random.randint(0,???))).strftime(\"%B %d, %Y\")\n",
    "    f_name = get_random_attribute(first_names???, ???)\n",
    "    l_name = get_random_attribute(surnames, ???).capitalize\n",
    "    residence = get_random_attribute(municipalities, ???)\n",
    "    return participant(residence=residence, \n",
    "                name=\"??? ???\"%(f_name, l_name), \n",
    "                dob=???,\n",
    "                sex=sex)\n",
    "```"
   ]
  },
  {
   "cell_type": "code",
   "execution_count": 88,
   "metadata": {
    "collapsed": true,
    "deletable": false,
    "nbgrader": {
     "checksum": "b8bee60f8f660566c0d484591d985b34",
     "grade": false,
     "grade_id": "cell-0681259f5eb94af9",
     "locked": false,
     "schema_version": 1,
     "solution": true
    }
   },
   "outputs": [],
   "source": [
    "def generateRandomPersonAttributes(surnames, first_names, \n",
    "                                   municipalities,\n",
    "                                   proportion_female=0.52):\n",
    "    sex = get_sex(proportion_female)\n",
    "    age = get_age(minage=17, maxage=100, p=0.06)\n",
    "    year = datetime.datetime.now().year-age\n",
    "    dob = (datetime.date(datetime.datetime.now().year-age, 1,1)+\\\n",
    "        relativedelta(days=+random.randint(0,365))).strftime(\"%B %d, %Y\")\n",
    "    f_name = get_random_attribute(first_names[year][sex], \"name\")\n",
    "    l_name = get_random_attribute(surnames, \"name\").capitalize()\n",
    "    residence = get_random_attribute(municipalities, \"Geography\")\n",
    "    return participant(residence=residence, \n",
    "                name=\"%s %s\"%(f_name, l_name), \n",
    "                dob=dob,\n",
    "                sex=sex)"
   ]
  },
  {
   "cell_type": "code",
   "execution_count": 89,
   "metadata": {
    "collapsed": true,
    "deletable": false,
    "editable": false,
    "nbgrader": {
     "checksum": "1b5658a51a514dd12ad595908a32d44c",
     "grade": true,
     "grade_id": "cell-59f37c411291cc3e",
     "locked": true,
     "points": 5,
     "schema_version": 1,
     "solution": false
    }
   },
   "outputs": [],
   "source": [
    "participants = \\\n",
    "[generateRandomPersonAttributes(surnames, \n",
    "                                first_names, \n",
    "                                municipalities) for i in range(5)]\n",
    "assert_equal(len(participants),5)"
   ]
  },
  {
   "cell_type": "code",
   "execution_count": 90,
   "metadata": {
    "collapsed": true,
    "deletable": false,
    "editable": false,
    "nbgrader": {
     "checksum": "0bdf3bd9f530077369357281272287e6",
     "grade": true,
     "grade_id": "cell-7893e07c611a9114",
     "locked": true,
     "points": 5,
     "schema_version": 1,
     "solution": false
    }
   },
   "outputs": [],
   "source": [
    "participants = \\\n",
    "[generateRandomPersonAttributes(surnames, \n",
    "                                first_names, \n",
    "                                municipalities) for i in range(5)]\n",
    "for p in participants:\n",
    "    assert_true(isinstance(p,participant))"
   ]
  },
  {
   "cell_type": "code",
   "execution_count": 91,
   "metadata": {
    "collapsed": true,
    "deletable": false,
    "editable": false,
    "nbgrader": {
     "checksum": "ccad419ae43862b84bad128b457b3493",
     "grade": false,
     "grade_id": "cell-f4ac21e95c721036",
     "locked": true,
     "schema_version": 1,
     "solution": false
    }
   },
   "outputs": [],
   "source": [
    "participants = \\\n",
    "[generateRandomPersonAttributes(surnames, \n",
    "                                first_names, \n",
    "                                municipalities) for i in range(1000)]"
   ]
  },
  {
   "cell_type": "code",
   "execution_count": 92,
   "metadata": {
    "deletable": false,
    "editable": false,
    "nbgrader": {
     "checksum": "66bf1d2743a55873a54cc5b45e6ff800",
     "grade": false,
     "grade_id": "cell-5ba1b09b3032a457",
     "locked": true,
     "schema_version": 1,
     "solution": false
    }
   },
   "outputs": [
    {
     "data": {
      "text/plain": [
       "<matplotlib.axes._subplots.AxesSubplot at 0x7fbbf005d5c0>"
      ]
     },
     "execution_count": 92,
     "metadata": {},
     "output_type": "execute_result"
    },
    {
     "data": {
      "image/png": "[encoded data removed]",
      "text/plain": [
       "<matplotlib.figure.Figure at 0x7fbbc13849e8>"
      ]
     },
     "metadata": {},
     "output_type": "display_data"
    }
   ],
   "source": [
    "pd.Series([p.age[\"years\"] for p in participants]).hist(bins=100)"
   ]
  },
  {
   "cell_type": "markdown",
   "metadata": {},
   "source": [
    "## A Function to Run the \"Study\""
   ]
  },
  {
   "cell_type": "code",
   "execution_count": 93,
   "metadata": {
    "collapsed": true,
    "deletable": false,
    "editable": false,
    "nbgrader": {
     "checksum": "2566c5c15ec7970452c199f7f12c9f15",
     "grade": false,
     "grade_id": "cell-337b7d59b50451f9",
     "locked": true,
     "schema_version": 1,
     "solution": false
    }
   },
   "outputs": [],
   "source": [
    "def increment_study(participants, mortality, unit=10):\n",
    "    delta = 365/unit\n",
    "    mkeys = {\"M\":\"Male prob. death\", \"F\":\"Female prob. death\"}\n",
    "    for p in participants:\n",
    "        p.increment_study_time(relativedelta(days=+unit))\n",
    "        if random.random()< mortality.iloc[p.age[\"years\"]][mkeys[p.sex]]/delta:\n",
    "            p.dies()\n",
    "    return None\n",
    "    "
   ]
  },
  {
   "cell_type": "code",
   "execution_count": 94,
   "metadata": {
    "deletable": false,
    "editable": false,
    "nbgrader": {
     "checksum": "3f11e81acf7a258b6ab9067e187a8036",
     "grade": false,
     "grade_id": "cell-fdda19666daf5377",
     "locked": true,
     "schema_version": 1,
     "solution": false
    }
   },
   "outputs": [
    {
     "name": "stdout",
     "output_type": "stream",
     "text": [
      "1000\n",
      "1000\n",
      "1000\n",
      "1000\n",
      "1000\n",
      "600\n",
      "600\n",
      "600\n",
      "400\n",
      "400\n",
      "200\n",
      "0\n"
     ]
    }
   ],
   "source": [
    "\n",
    "while True:\n",
    "    living = [p for p in participants if not p.deceased]\n",
    "    if len(living)%200 == 0:\n",
    "        print(len(living))\n",
    "    if not living:\n",
    "        break\n",
    "    increment_study(living, mortality)\n",
    "    "
   ]
  },
  {
   "cell_type": "code",
   "execution_count": 95,
   "metadata": {},
   "outputs": [
    {
     "data": {
      "text/plain": [
       "<matplotlib.axes._subplots.AxesSubplot at 0x7fbbc12967b8>"
      ]
     },
     "execution_count": 95,
     "metadata": {},
     "output_type": "execute_result"
    },
    {
     "data": {
      "image/png": "[encoded data removed]",
      "text/plain": [
       "<matplotlib.figure.Figure at 0x7fbbc12de9b0>"
      ]
     },
     "metadata": {},
     "output_type": "display_data"
    }
   ],
   "source": [
    "sns.distplot([p.age[\"years\"] for p in participants])"
   ]
  },
  {
   "cell_type": "code",
   "execution_count": 96,
   "metadata": {},
   "outputs": [
    {
     "data": {
      "text/plain": [
       "<matplotlib.axes._subplots.AxesSubplot at 0x7fbbc1627208>"
      ]
     },
     "execution_count": 96,
     "metadata": {},
     "output_type": "execute_result"
    },
    {
     "data": {
      "image/png": "[encoded data removed]",
      "text/plain": [
       "<matplotlib.figure.Figure at 0x7fbbe00a5fd0>"
      ]
     },
     "metadata": {},
     "output_type": "display_data"
    }
   ],
   "source": [
    "pd.Series([p.age[\"years\"] for p in participants]).hist(bins=100)"
   ]
  },
  {
   "cell_type": "code",
   "execution_count": 97,
   "metadata": {},
   "outputs": [
    {
     "data": {
      "text/plain": [
       "82.602713178294579"
      ]
     },
     "execution_count": 97,
     "metadata": {},
     "output_type": "execute_result"
    }
   ],
   "source": [
    "np.mean([p.age[\"years\"] for p in participants if p.sex == \"M\"])\n",
    "np.mean([p.age[\"years\"] for p in participants if p.sex == \"F\"])"
   ]
  },
  {
   "cell_type": "markdown",
   "metadata": {
    "deletable": false,
    "editable": false,
    "nbgrader": {
     "checksum": "5888ceb29ae898279f7617a7d28c3122",
     "grade": false,
     "grade_id": "cell-afe68e3db0124244",
     "locked": true,
     "schema_version": 1,
     "solution": false
    }
   },
   "source": [
    "**Problem 12 (15 points):** Write a function `get_participant_df` that takes a list of participant objects and returns a Pandas DataFrame witht he following columns:\n",
    "['Age', 'Days in Study', 'First Name', 'Last Name', 'Sex', 'State'].\n",
    "\n",
    "Each row in the DataFrame corresponds to a particular participant with the column values the appropriate values from a participant object."
   ]
  },
  {
   "cell_type": "code",
   "execution_count": 98,
   "metadata": {
    "collapsed": true,
    "deletable": false,
    "nbgrader": {
     "checksum": "a71186ce259c2cd13b3d34a4a13ae2f0",
     "grade": false,
     "grade_id": "cell-9b3f31498f57a99b",
     "locked": false,
     "schema_version": 1,
     "solution": true
    }
   },
   "outputs": [],
   "source": [
    "def get_participant_df(participants):\n",
    "\n",
    "    DP = []\n",
    "    for p in participants:\n",
    "\n",
    "        DP.append({'Age':p.age['years'], 'Days in Study':p.days_in_study,\n",
    "                                       'First Name':p.name.split()[0],'Last Name':p.name.split()[1] ,'Sex':p.sex,\n",
    "                                       'State':p.residence.split(',')[1]})\n",
    "\n",
    "    return pd.DataFrame(DP)"
   ]
  },
  {
   "cell_type": "code",
   "execution_count": 99,
   "metadata": {
    "collapsed": true,
    "deletable": false,
    "editable": false,
    "nbgrader": {
     "checksum": "0aaca4c25349720adeb46ea5127cc564",
     "grade": false,
     "grade_id": "cell-b213f348b28bbecd",
     "locked": true,
     "schema_version": 1,
     "solution": false
    }
   },
   "outputs": [],
   "source": [
    "pdf = get_participant_df(participants)"
   ]
  },
  {
   "cell_type": "code",
   "execution_count": 100,
   "metadata": {
    "collapsed": true,
    "deletable": false,
    "editable": false,
    "nbgrader": {
     "checksum": "ffc4dfedeba78565d8acaad21574d9ae",
     "grade": true,
     "grade_id": "cell-2430d17ee9788048",
     "locked": true,
     "points": 5,
     "schema_version": 1,
     "solution": false
    }
   },
   "outputs": [],
   "source": [
    "assert_equal(set(pdf.columns),\n",
    "             set(['Age', 'First Name', 'Days in Study',\n",
    "                  'Last Name', 'Sex', 'State']))"
   ]
  },
  {
   "cell_type": "code",
   "execution_count": 101,
   "metadata": {
    "deletable": false,
    "editable": false,
    "nbgrader": {
     "checksum": "c04ac371b73fa5240fbaf3ffff28e8f5",
     "grade": true,
     "grade_id": "cell-e465608cdef0295a",
     "locked": true,
     "points": 5,
     "schema_version": 1,
     "solution": false
    }
   },
   "outputs": [
    {
     "data": {
      "text/plain": [
       "True"
      ]
     },
     "execution_count": 101,
     "metadata": {},
     "output_type": "execute_result"
    }
   ],
   "source": [
    "isinstance(pdf[pdf[\"Sex\"]==\"M\"][\"Age\"].mean(), numbers.Real)"
   ]
  },
  {
   "cell_type": "code",
   "execution_count": 102,
   "metadata": {
    "collapsed": true,
    "deletable": false,
    "editable": false,
    "nbgrader": {
     "checksum": "1e3981427a060f2fa1b21dc9ce34ce7b",
     "grade": true,
     "grade_id": "cell-b3883dd3ef9cbd65",
     "locked": true,
     "points": 5,
     "schema_version": 1,
     "solution": false
    }
   },
   "outputs": [],
   "source": [
    "assert_true(isinstance(pdf.iloc[0][\"Days in Study\"], numbers.Integral))"
   ]
  },
  {
   "cell_type": "code",
   "execution_count": 103,
   "metadata": {},
   "outputs": [
    {
     "data": {
      "text/plain": [
       "<matplotlib.axes._subplots.AxesSubplot at 0x7fbbc109f4e0>"
      ]
     },
     "execution_count": 103,
     "metadata": {},
     "output_type": "execute_result"
    },
    {
     "data": {
      "image/png": "[encoded data removed]",
      "text/plain": [
       "<matplotlib.figure.Figure at 0x7fbbc109ccc0>"
      ]
     },
     "metadata": {},
     "output_type": "display_data"
    }
   ],
   "source": [
    "sns.kdeplot(data=pdf[pdf[\"Sex\"]==\"M\"][\"Age\"], \n",
    "            label=\"Male\", color=\"Blue\")\n",
    "sns.kdeplot(data=pdf[pdf[\"Sex\"]==\"F\"][\"Age\"],\n",
    "            label=\"Female\", color=\"pink\")\n"
   ]
  },
  {
   "cell_type": "code",
   "execution_count": 104,
   "metadata": {},
   "outputs": [
    {
     "data": {
      "image/png": "[encoded data removed]",
      "text/plain": [
       "<matplotlib.figure.Figure at 0x7fbbc157f4a8>"
      ]
     },
     "metadata": {},
     "output_type": "display_data"
    }
   ],
   "source": [
    "sns.boxplot(x=\"Sex\", y=\"Age\", data=pdf);"
   ]
  },
  {
   "cell_type": "code",
   "execution_count": 105,
   "metadata": {},
   "outputs": [
    {
     "data": {
      "image/png": "[encoded data removed]",
      "text/plain": [
       "<matplotlib.figure.Figure at 0x7fbbc16149b0>"
      ]
     },
     "metadata": {},
     "output_type": "display_data"
    }
   ],
   "source": [
    "sns.countplot(x=\"Sex\", data=pdf);"
   ]
  },
  {
   "cell_type": "code",
   "execution_count": 106,
   "metadata": {},
   "outputs": [
    {
     "data": {
      "image/png": "[encoded data removed]",
      "text/plain": [
       "<matplotlib.figure.Figure at 0x7fbbc157fbe0>"
      ]
     },
     "metadata": {},
     "output_type": "display_data"
    }
   ],
   "source": [
    "sns.countplot(x=\"Sex\", data=pdf[pdf[\"Age\"]>90]);"
   ]
  },
  {
   "cell_type": "markdown",
   "metadata": {
    "collapsed": true,
    "deletable": false,
    "editable": false,
    "nbgrader": {
     "checksum": "5c5dea8fc5feefd9f218f6784ce65e06",
     "grade": false,
     "grade_id": "cell-80e0c77b3a46ea4b",
     "locked": true,
     "schema_version": 1,
     "solution": false
    }
   },
   "source": [
    "**Problem 13 (10 points):** Write a function `create_obituaries` that takes a list of participant objects, a filename, writes out obituaries for each participant in ascending order by date of death. Your file should look something like this:\n",
    "\n",
    "Jerry Peck, age 82, of Detroit Lakes, Minnesota, died April 06, 2018   \n",
    "John Conley, age 96, of Kokomo, Indiana, died May 16, 2018   \n",
    "Jeffery Meyer, age 32, of Wilson's Mills, North Carolina, died May 26, 2018   \n",
    "Kenneth Jackson, age 54, of Portland, Oregon, died August 04, 2018   \n",
    "Heather Johnson, age 46, of Sunrise, Florida, died August 24, 2018   \n",
    "Kristen Holland, age 31, of Town and Country, Missouri, died September 13, 2018   "
   ]
  },
  {
   "cell_type": "code",
   "execution_count": 107,
   "metadata": {
    "collapsed": true,
    "deletable": false,
    "nbgrader": {
     "checksum": "c9591896b9dc54bffbbeb1e13482e444",
     "grade": false,
     "grade_id": "cell-f69cef905294711f",
     "locked": false,
     "schema_version": 1,
     "solution": true
    }
   },
   "outputs": [],
   "source": [
    "import os\n",
    "\n",
    "def create_obituaries (participants, filename):\n",
    "    \n",
    "    file = open(filename, 'w')\n",
    "\n",
    "    for p in participants:\n",
    "        file.write(\"%s, %s, %s, %s\\n\"%(p.name,\n",
    "                     \"age %d\"%p.age[\"years\"], \n",
    "                                  \"of %s\"%p.residence,\n",
    "                                  \"died %s\"%p.dod)) \n",
    "            \n",
    "    file.close() "
   ]
  },
  {
   "cell_type": "code",
   "execution_count": 108,
   "metadata": {
    "deletable": false,
    "editable": false,
    "nbgrader": {
     "checksum": "030af04249ead96ee7971f7ee9ec4219",
     "grade": true,
     "grade_id": "cell-e0d039b725c80b75",
     "locked": true,
     "points": 5,
     "schema_version": 1,
     "solution": false
    }
   },
   "outputs": [],
   "source": [
    "rdate = re.compile(r\"\"\"(?P<month>[A-Z][a-z]+) (?P<day>\\d{2,2}), (?P<year>\\d{4,4})\"\"\")\n",
    "fname = \"test_obits.txt\"\n",
    "create_obituaries(participants, fname)\n",
    "with open(fname) as f0:\n",
    "    data = f0.readlines()\n",
    "os.remove(fname)\n",
    "m0 = rdate.search(data[0])\n",
    "ml = rdate.search(data[-1])\n",
    "assert_true(int(m0.group(\"year\")) < int(ml.group(\"year\")))"
   ]
  },
  {
   "cell_type": "code",
   "execution_count": 109,
   "metadata": {
    "collapsed": true,
    "deletable": false,
    "editable": false,
    "nbgrader": {
     "checksum": "9489a98d9e187af43c8790ac57749ac3",
     "grade": true,
     "grade_id": "cell-5254ec0788c0f24c",
     "locked": true,
     "points": 5,
     "schema_version": 1,
     "solution": false
    }
   },
   "outputs": [],
   "source": [
    "import os\n",
    "fname = \"test_obits.txt\"\n",
    "create_obituaries(participants, fname)\n",
    "\n",
    "with open(fname) as f0:\n",
    "    data = f0.readlines()\n",
    "os.remove(fname)\n",
    "m0 = rdate.search(data[0])\n",
    "ml = rdate.search(data[-1])\n",
    "assert_equal(len(data), len(participants))\n"
   ]
  }
 ],
 "metadata": {
  "anaconda-cloud": {},
  "kernelspec": {
   "display_name": "Python 3",
   "language": "python",
   "name": "python3"
  },
  "language_info": {
   "codemirror_mode": {
    "name": "ipython",
    "version": 3
   },
   "file_extension": ".py",
   "mimetype": "text/x-python",
   "name": "python",
   "nbconvert_exporter": "python",
   "pygments_lexer": "ipython3",
   "version": "3.5.2"
  }
 },
 "nbformat": 4,
 "nbformat_minor": 1
}
