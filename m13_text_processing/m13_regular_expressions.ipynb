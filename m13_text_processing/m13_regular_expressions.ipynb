{
 "cells": [
  {
   "cell_type": "markdown",
   "metadata": {
    "deletable": false,
    "editable": false,
    "nbgrader": {
     "checksum": "c7dcf4bccb5d48d69f813445594c6c03",
     "grade": false,
     "grade_id": "cell-3e3170e840d73afc",
     "locked": true,
     "schema_version": 1,
     "solution": false
    }
   },
   "source": [
    "# Regular Expressions\n"
   ]
  },
  {
   "cell_type": "code",
   "execution_count": 98,
   "metadata": {
    "collapsed": true,
    "deletable": false,
    "editable": false,
    "nbgrader": {
     "checksum": "d500f061d323f983235b299246334518",
     "grade": false,
     "grade_id": "cell-e1602db90d24115e",
     "locked": true,
     "schema_version": 1,
     "solution": false
    }
   },
   "outputs": [],
   "source": [
    "from nose.tools import assert_true, assert_false, \\\n",
    "    assert_almost_equal, assert_equal, assert_raises"
   ]
  },
  {
   "cell_type": "code",
   "execution_count": 99,
   "metadata": {
    "collapsed": true,
    "deletable": false,
    "editable": false,
    "nbgrader": {
     "checksum": "e058d42ef51e307c775f6f742803963c",
     "grade": false,
     "grade_id": "cell-f65949a4a47840a7",
     "locked": true,
     "schema_version": 1,
     "solution": false
    }
   },
   "outputs": [],
   "source": [
    "\n",
    "import numpy as np\n",
    "import locale\n",
    "import os\n",
    "import re\n",
    "import pandas as pd\n",
    "from textblob import TextBlob"
   ]
  },
  {
   "cell_type": "code",
   "execution_count": 100,
   "metadata": {
    "deletable": false,
    "editable": false,
    "nbgrader": {
     "checksum": "ddfdbb238cbfce96b599990b584e231d",
     "grade": false,
     "grade_id": "cell-a3dd3ae428af588d",
     "locked": true,
     "schema_version": 1,
     "solution": false
    }
   },
   "outputs": [
    {
     "data": {
      "text/plain": [
       "False"
      ]
     },
     "execution_count": 100,
     "metadata": {},
     "output_type": "execute_result"
    }
   ],
   "source": [
    "DATADIR = os.path.join(\"..\",\"Resources\")\n",
    "os.path.exists(DATADIR)\n",
    "#DATADIR = \"PATH_TO_WHERE_YOU_KEEP_DATA\""
   ]
  },
  {
   "cell_type": "markdown",
   "metadata": {
    "deletable": false,
    "editable": false,
    "nbgrader": {
     "checksum": "bca1f55b8cb11d14b7b6b45b01b9938d",
     "grade": false,
     "grade_id": "cell-f4d940d895b05c52",
     "locked": true,
     "schema_version": 1,
     "solution": false
    }
   },
   "source": [
    "**Problem 1 (10 points).** Write a function (`currency2float`) that uses a regular expression to capture and return the **numeric value** of a currency string and its **units.** Note you need to use the **[locale](http://docs.python.org/3/library/locale.html)** module because of the potential of \",.\" characters in the strings. "
   ]
  },
  {
   "cell_type": "code",
   "execution_count": 106,
   "metadata": {
    "deletable": false,
    "nbgrader": {
     "checksum": "3f2d7573869c16351ce89e63809d55ae",
     "grade": false,
     "grade_id": "cell-d1cfba9013211c29",
     "locked": false,
     "schema_version": 1,
     "solution": true
    }
   },
   "outputs": [
    {
     "data": {
      "text/plain": [
       "tuple"
      ]
     },
     "execution_count": 106,
     "metadata": {},
     "output_type": "execute_result"
    }
   ],
   "source": [
    "from locale import *\n",
    "\n",
    "def currencyToFloat(currency):\n",
    "    locale.setlocale(locale.LC_NUMERIC, '')\n",
    "    #currency = currency.replace(\",\",\"\")\n",
    "    curr = re.compile(r\"\"\"(?P<units>\\$|£?)(?P<numeric_value>\\d+\\,?\\d+\\,?\\d+.\\d+)\"\"\")\n",
    "    \n",
    "    \n",
    "    now = curr.search(currency)\n",
    "    #finds = curr.finditer(currency)\n",
    "    #for c in finds:\n",
    "        #units = c.group(\"units\")\n",
    "        #numerics = locale.atof(c.group(\"numeric_value\"))\n",
    "    return locale.atof(now.group(\"numeric_value\")), now.group(\"units\")\n",
    "\n",
    "    \n",
    "currencyToFloat(\"£19,469 $1,243,567.32\")"
   ]
  },
  {
   "cell_type": "code",
   "execution_count": 102,
   "metadata": {
    "collapsed": true,
    "deletable": false,
    "editable": false,
    "nbgrader": {
     "checksum": "e1c100abed9d920f34e614e982a67c6a",
     "grade": true,
     "grade_id": "cell-f4468b06c2f255db",
     "locked": true,
     "points": 5,
     "schema_version": 1,
     "solution": false
    }
   },
   "outputs": [],
   "source": [
    "assert_equal(currencyToFloat(\"£19,469\"), (19469.0, '£'))"
   ]
  },
  {
   "cell_type": "code",
   "execution_count": 103,
   "metadata": {
    "collapsed": true,
    "deletable": false,
    "editable": false,
    "nbgrader": {
     "checksum": "668726001b4c1baad1319785a3fa5080",
     "grade": true,
     "grade_id": "cell-30ecb8e0eef0172f",
     "locked": true,
     "points": 5,
     "schema_version": 1,
     "solution": false
    }
   },
   "outputs": [],
   "source": [
    "assert_equal(currencyToFloat(\"$1,243,567.32\"), (1243567.32, '$'))"
   ]
  },
  {
   "cell_type": "markdown",
   "metadata": {
    "deletable": false,
    "editable": false,
    "nbgrader": {
     "checksum": "35401615d84bb4a40588f61e60384e72",
     "grade": false,
     "grade_id": "cell-1ea9b2ddf10bf452",
     "locked": true,
     "schema_version": 1,
     "solution": false
    }
   },
   "source": [
    "**Problem 2 (14 points):** Read the contents of income.txt into a Pandas data. \n",
    "\n",
    "Write a second function ``extract_income`` that takes as a positional argumenst a Pandas data frame and a column name from which to extract income. The function should return a new data frame that has columns consisting of the numeric values and units extracted by the ``currency2float`` function. The names of the columns in the new data frame should be derived from the input column (e.g. \"per capita income\" would create two columns named \"per capita income value\" and \"per capita income unit\"). Test this with income.txt and income_uk.txt located in the Resources directory.\n",
    "\n",
    "#### Hints\n",
    "\n",
    "1. ``SOME_PANDAS_SERIES.apply(pd.Series)`` will split the series (column) `SOME_PANDAS_SERIES` with tuple values into a data frame with each element of the tuples forming a column in the new dataframe with column names 0, 1, 2, etc. See [this](http://stackoverflow.com/questions/29550414/how-to-split-column-of-tuples-in-pandas-dataframe) Stackoverflow question/answer.\n",
    "1. Use the [``rename``](http://pandas.pydata.org/pandas-docs/stable/generated/pandas.DataFrame.rename.html) method to rename the columns of the generated DataFrame.\n",
    "1. Pay attention to the presence/absence of headers. If the file does not have a header, use ``rename`` to provide meaningful column names.\n",
    "1. Since strings are unicode, you can past a British pound symbol into your regular expression.\n",
    "1. Use the ``encoding`` keyword argument for ``read_table``.\n",
    "\n",
    "### Your solutions should look something like this:\n",
    "\n",
    "<table border=\"1\" class=\"dataframe\">\n",
    "  <thead>\n",
    "    <tr style=\"text-align: right;\">\n",
    "      <th></th>\n",
    "      <th>Income value</th>\n",
    "      <th>Income unit</th>\n",
    "    </tr>\n",
    "  </thead>\n",
    "  <tbody>\n",
    "    <tr>\n",
    "      <th>0</th>\n",
    "      <td>21109.0</td>\n",
    "      <td>£</td>\n",
    "    </tr>\n",
    "    <tr>\n",
    "      <th>1</th>\n",
    "      <td>19603.0</td>\n",
    "      <td>£</td>\n",
    "    </tr>\n",
    "    <tr>\n",
    "      <th>2</th>\n",
    "      <td>19469.0</td>\n",
    "      <td>£</td>\n",
    "    </tr>\n",
    "    <tr>\n",
    "      <th>3</th>\n",
    "      <td>19282.0</td>\n",
    "      <td>£</td>\n",
    "    </tr>\n",
    "    <tr>\n",
    "      <th>4</th>\n",
    "      <td>19236.0</td>\n",
    "      <td>£</td>\n",
    "    </tr>\n",
    "  </tbody>\n",
    "</table>"
   ]
  },
  {
   "cell_type": "code",
   "execution_count": 132,
   "metadata": {
    "collapsed": true,
    "deletable": false,
    "nbgrader": {
     "checksum": "9fa24f5c5240299803c8b94f390bbf60",
     "grade": false,
     "grade_id": "cell-b90746ff7f679d8d",
     "locked": false,
     "schema_version": 1,
     "solution": true
    }
   },
   "outputs": [],
   "source": [
    "def extract_income(dataframe, column):\n",
    "    tmp = dataframe.apply(lambda row: currencyToFloat(row[column]), axis=1)\n",
    "    newdf = tmp.apply(pd.Series).rename(columns={0:(\"%s value\" %column), 1:(\" %s unit\" %column)})\n",
    "    #newdf2 = pd.factorize(newdf[\" %s unit\" %column])[0]\n",
    "    #newdf2 = newdf.columns = [\"%s value\" %column, \" %s unit\" %column]\n",
    "    \n",
    "    return newdf\n"
   ]
  },
  {
   "cell_type": "code",
   "execution_count": 133,
   "metadata": {},
   "outputs": [
    {
     "data": {
      "text/plain": [
       "Income value    18801\n",
       " Income unit        £\n",
       "Name: 5, dtype: object"
      ]
     },
     "execution_count": 133,
     "metadata": {},
     "output_type": "execute_result"
    }
   ],
   "source": [
    "extract_income(income_uk, \"Income\").iloc[5]"
   ]
  },
  {
   "cell_type": "code",
   "execution_count": 134,
   "metadata": {},
   "outputs": [
    {
     "data": {
      "text/plain": [
       "median household income value    63636\n",
       " median household income unit        $\n",
       "Name: 5, dtype: object"
      ]
     },
     "execution_count": 134,
     "metadata": {},
     "output_type": "execute_result"
    }
   ],
   "source": [
    "extract_income(income, \"median household income\").iloc[5]"
   ]
  },
  {
   "cell_type": "code",
   "execution_count": 135,
   "metadata": {
    "deletable": false,
    "editable": false,
    "nbgrader": {
     "checksum": "5b95db16f5d0a5af16cb2165291ad43f",
     "grade": true,
     "grade_id": "cell-49f00bf8ba7bc079",
     "locked": true,
     "points": 7,
     "schema_version": 1,
     "solution": false
    }
   },
   "outputs": [
    {
     "ename": "KeyError",
     "evalue": "'Income unit'",
     "output_type": "error",
     "traceback": [
      "\u001b[0;31m---------------------------------------------------------------------------\u001b[0m",
      "\u001b[0;31mTypeError\u001b[0m                                 Traceback (most recent call last)",
      "\u001b[0;32m/opt/conda/lib/python3.5/site-packages/pandas/indexes/base.py\u001b[0m in \u001b[0;36mget_value\u001b[0;34m(self, series, key)\u001b[0m\n\u001b[1;32m   2174\u001b[0m             \u001b[0;32mtry\u001b[0m\u001b[0;34m:\u001b[0m\u001b[0;34m\u001b[0m\u001b[0m\n\u001b[0;32m-> 2175\u001b[0;31m                 \u001b[0;32mreturn\u001b[0m \u001b[0mtslib\u001b[0m\u001b[0;34m.\u001b[0m\u001b[0mget_value_box\u001b[0m\u001b[0;34m(\u001b[0m\u001b[0ms\u001b[0m\u001b[0;34m,\u001b[0m \u001b[0mkey\u001b[0m\u001b[0;34m)\u001b[0m\u001b[0;34m\u001b[0m\u001b[0m\n\u001b[0m\u001b[1;32m   2176\u001b[0m             \u001b[0;32mexcept\u001b[0m \u001b[0mIndexError\u001b[0m\u001b[0;34m:\u001b[0m\u001b[0;34m\u001b[0m\u001b[0m\n",
      "\u001b[0;32mpandas/tslib.pyx\u001b[0m in \u001b[0;36mpandas.tslib.get_value_box (pandas/tslib.c:19053)\u001b[0;34m()\u001b[0m\n",
      "\u001b[0;32mpandas/tslib.pyx\u001b[0m in \u001b[0;36mpandas.tslib.get_value_box (pandas/tslib.c:18687)\u001b[0;34m()\u001b[0m\n",
      "\u001b[0;31mTypeError\u001b[0m: 'str' object cannot be interpreted as an integer",
      "\nDuring handling of the above exception, another exception occurred:\n",
      "\u001b[0;31mKeyError\u001b[0m                                  Traceback (most recent call last)",
      "\u001b[0;32m<ipython-input-135-3b4dd195c2c7>\u001b[0m in \u001b[0;36m<module>\u001b[0;34m()\u001b[0m\n\u001b[1;32m      6\u001b[0m \u001b[0mrow\u001b[0m \u001b[0;34m=\u001b[0m \u001b[0mextract_income\u001b[0m\u001b[0;34m(\u001b[0m\u001b[0mincome_uk\u001b[0m\u001b[0;34m,\u001b[0m \u001b[0;34m\"Income\"\u001b[0m\u001b[0;34m)\u001b[0m\u001b[0;34m.\u001b[0m\u001b[0miloc\u001b[0m\u001b[0;34m[\u001b[0m\u001b[0;36m5\u001b[0m\u001b[0;34m]\u001b[0m\u001b[0;34m\u001b[0m\u001b[0m\n\u001b[1;32m      7\u001b[0m \u001b[0massert_almost_equal\u001b[0m\u001b[0;34m(\u001b[0m\u001b[0mrow\u001b[0m\u001b[0;34m[\u001b[0m\u001b[0;34m\"Income value\"\u001b[0m\u001b[0;34m]\u001b[0m\u001b[0;34m,\u001b[0m\u001b[0;36m18801\u001b[0m\u001b[0;34m)\u001b[0m\u001b[0;34m\u001b[0m\u001b[0m\n\u001b[0;32m----> 8\u001b[0;31m \u001b[0massert_equal\u001b[0m\u001b[0;34m(\u001b[0m\u001b[0mrow\u001b[0m\u001b[0;34m[\u001b[0m\u001b[0;34m\"Income unit\"\u001b[0m\u001b[0;34m]\u001b[0m\u001b[0;34m,\u001b[0m\u001b[0;34m\"£\"\u001b[0m\u001b[0;34m)\u001b[0m\u001b[0;34m\u001b[0m\u001b[0m\n\u001b[0m",
      "\u001b[0;32m/opt/conda/lib/python3.5/site-packages/pandas/core/series.py\u001b[0m in \u001b[0;36m__getitem__\u001b[0;34m(self, key)\u001b[0m\n\u001b[1;32m    601\u001b[0m         \u001b[0mkey\u001b[0m \u001b[0;34m=\u001b[0m \u001b[0mcom\u001b[0m\u001b[0;34m.\u001b[0m\u001b[0m_apply_if_callable\u001b[0m\u001b[0;34m(\u001b[0m\u001b[0mkey\u001b[0m\u001b[0;34m,\u001b[0m \u001b[0mself\u001b[0m\u001b[0;34m)\u001b[0m\u001b[0;34m\u001b[0m\u001b[0m\n\u001b[1;32m    602\u001b[0m         \u001b[0;32mtry\u001b[0m\u001b[0;34m:\u001b[0m\u001b[0;34m\u001b[0m\u001b[0m\n\u001b[0;32m--> 603\u001b[0;31m             \u001b[0mresult\u001b[0m \u001b[0;34m=\u001b[0m \u001b[0mself\u001b[0m\u001b[0;34m.\u001b[0m\u001b[0mindex\u001b[0m\u001b[0;34m.\u001b[0m\u001b[0mget_value\u001b[0m\u001b[0;34m(\u001b[0m\u001b[0mself\u001b[0m\u001b[0;34m,\u001b[0m \u001b[0mkey\u001b[0m\u001b[0;34m)\u001b[0m\u001b[0;34m\u001b[0m\u001b[0m\n\u001b[0m\u001b[1;32m    604\u001b[0m \u001b[0;34m\u001b[0m\u001b[0m\n\u001b[1;32m    605\u001b[0m             \u001b[0;32mif\u001b[0m \u001b[0;32mnot\u001b[0m \u001b[0mis_scalar\u001b[0m\u001b[0;34m(\u001b[0m\u001b[0mresult\u001b[0m\u001b[0;34m)\u001b[0m\u001b[0;34m:\u001b[0m\u001b[0;34m\u001b[0m\u001b[0m\n",
      "\u001b[0;32m/opt/conda/lib/python3.5/site-packages/pandas/indexes/base.py\u001b[0m in \u001b[0;36mget_value\u001b[0;34m(self, series, key)\u001b[0m\n\u001b[1;32m   2181\u001b[0m                     \u001b[0;32mraise\u001b[0m \u001b[0mInvalidIndexError\u001b[0m\u001b[0;34m(\u001b[0m\u001b[0mkey\u001b[0m\u001b[0;34m)\u001b[0m\u001b[0;34m\u001b[0m\u001b[0m\n\u001b[1;32m   2182\u001b[0m                 \u001b[0;32melse\u001b[0m\u001b[0;34m:\u001b[0m\u001b[0;34m\u001b[0m\u001b[0m\n\u001b[0;32m-> 2183\u001b[0;31m                     \u001b[0;32mraise\u001b[0m \u001b[0me1\u001b[0m\u001b[0;34m\u001b[0m\u001b[0m\n\u001b[0m\u001b[1;32m   2184\u001b[0m             \u001b[0;32mexcept\u001b[0m \u001b[0mException\u001b[0m\u001b[0;34m:\u001b[0m  \u001b[0;31m# pragma: no cover\u001b[0m\u001b[0;34m\u001b[0m\u001b[0m\n\u001b[1;32m   2185\u001b[0m                 \u001b[0;32mraise\u001b[0m \u001b[0me1\u001b[0m\u001b[0;34m\u001b[0m\u001b[0m\n",
      "\u001b[0;32m/opt/conda/lib/python3.5/site-packages/pandas/indexes/base.py\u001b[0m in \u001b[0;36mget_value\u001b[0;34m(self, series, key)\u001b[0m\n\u001b[1;32m   2167\u001b[0m         \u001b[0;32mtry\u001b[0m\u001b[0;34m:\u001b[0m\u001b[0;34m\u001b[0m\u001b[0m\n\u001b[1;32m   2168\u001b[0m             return self._engine.get_value(s, k,\n\u001b[0;32m-> 2169\u001b[0;31m                                           tz=getattr(series.dtype, 'tz', None))\n\u001b[0m\u001b[1;32m   2170\u001b[0m         \u001b[0;32mexcept\u001b[0m \u001b[0mKeyError\u001b[0m \u001b[0;32mas\u001b[0m \u001b[0me1\u001b[0m\u001b[0;34m:\u001b[0m\u001b[0;34m\u001b[0m\u001b[0m\n\u001b[1;32m   2171\u001b[0m             \u001b[0;32mif\u001b[0m \u001b[0mlen\u001b[0m\u001b[0;34m(\u001b[0m\u001b[0mself\u001b[0m\u001b[0;34m)\u001b[0m \u001b[0;34m>\u001b[0m \u001b[0;36m0\u001b[0m \u001b[0;32mand\u001b[0m \u001b[0mself\u001b[0m\u001b[0;34m.\u001b[0m\u001b[0minferred_type\u001b[0m \u001b[0;32min\u001b[0m \u001b[0;34m[\u001b[0m\u001b[0;34m'integer'\u001b[0m\u001b[0;34m,\u001b[0m \u001b[0;34m'boolean'\u001b[0m\u001b[0;34m]\u001b[0m\u001b[0;34m:\u001b[0m\u001b[0;34m\u001b[0m\u001b[0m\n",
      "\u001b[0;32mpandas/index.pyx\u001b[0m in \u001b[0;36mpandas.index.IndexEngine.get_value (pandas/index.c:3557)\u001b[0;34m()\u001b[0m\n",
      "\u001b[0;32mpandas/index.pyx\u001b[0m in \u001b[0;36mpandas.index.IndexEngine.get_value (pandas/index.c:3240)\u001b[0;34m()\u001b[0m\n",
      "\u001b[0;32mpandas/index.pyx\u001b[0m in \u001b[0;36mpandas.index.IndexEngine.get_loc (pandas/index.c:4279)\u001b[0;34m()\u001b[0m\n",
      "\u001b[0;32mpandas/src/hashtable_class_helper.pxi\u001b[0m in \u001b[0;36mpandas.hashtable.PyObjectHashTable.get_item (pandas/hashtable.c:13742)\u001b[0;34m()\u001b[0m\n",
      "\u001b[0;32mpandas/src/hashtable_class_helper.pxi\u001b[0m in \u001b[0;36mpandas.hashtable.PyObjectHashTable.get_item (pandas/hashtable.c:13696)\u001b[0;34m()\u001b[0m\n",
      "\u001b[0;31mKeyError\u001b[0m: 'Income unit'"
     ]
    }
   ],
   "source": [
    "income = pd.read_table(\"./income.txt\")\n",
    "income_uk = pd.read_table(\"./income_uk.txt\",\n",
    "                         header = None,\n",
    "                         encoding='utf-8').rename(columns={0:\"Region\", \n",
    "                                                        1:\"Income\"})\n",
    "row = extract_income(income_uk, \"Income\").iloc[5]\n",
    "assert_almost_equal(row[\"Income value\"],18801)\n",
    "assert_equal(row[\"Income unit\"],\"£\")"
   ]
  },
  {
   "cell_type": "code",
   "execution_count": 136,
   "metadata": {
    "deletable": false,
    "editable": false,
    "nbgrader": {
     "checksum": "33a8fa2bc3bd96b7feddfb3f86a73ee8",
     "grade": true,
     "grade_id": "cell-1516e7762192ec80",
     "locked": true,
     "points": 7,
     "schema_version": 1,
     "solution": false
    }
   },
   "outputs": [
    {
     "ename": "KeyError",
     "evalue": "'median household income unit'",
     "output_type": "error",
     "traceback": [
      "\u001b[0;31m---------------------------------------------------------------------------\u001b[0m",
      "\u001b[0;31mTypeError\u001b[0m                                 Traceback (most recent call last)",
      "\u001b[0;32m/opt/conda/lib/python3.5/site-packages/pandas/indexes/base.py\u001b[0m in \u001b[0;36mget_value\u001b[0;34m(self, series, key)\u001b[0m\n\u001b[1;32m   2174\u001b[0m             \u001b[0;32mtry\u001b[0m\u001b[0;34m:\u001b[0m\u001b[0;34m\u001b[0m\u001b[0m\n\u001b[0;32m-> 2175\u001b[0;31m                 \u001b[0;32mreturn\u001b[0m \u001b[0mtslib\u001b[0m\u001b[0;34m.\u001b[0m\u001b[0mget_value_box\u001b[0m\u001b[0;34m(\u001b[0m\u001b[0ms\u001b[0m\u001b[0;34m,\u001b[0m \u001b[0mkey\u001b[0m\u001b[0;34m)\u001b[0m\u001b[0;34m\u001b[0m\u001b[0m\n\u001b[0m\u001b[1;32m   2176\u001b[0m             \u001b[0;32mexcept\u001b[0m \u001b[0mIndexError\u001b[0m\u001b[0;34m:\u001b[0m\u001b[0;34m\u001b[0m\u001b[0m\n",
      "\u001b[0;32mpandas/tslib.pyx\u001b[0m in \u001b[0;36mpandas.tslib.get_value_box (pandas/tslib.c:19053)\u001b[0;34m()\u001b[0m\n",
      "\u001b[0;32mpandas/tslib.pyx\u001b[0m in \u001b[0;36mpandas.tslib.get_value_box (pandas/tslib.c:18687)\u001b[0;34m()\u001b[0m\n",
      "\u001b[0;31mTypeError\u001b[0m: 'str' object cannot be interpreted as an integer",
      "\nDuring handling of the above exception, another exception occurred:\n",
      "\u001b[0;31mKeyError\u001b[0m                                  Traceback (most recent call last)",
      "\u001b[0;32m<ipython-input-136-dfb5f62fa59c>\u001b[0m in \u001b[0;36m<module>\u001b[0;34m()\u001b[0m\n\u001b[1;32m      6\u001b[0m \u001b[0mrow\u001b[0m \u001b[0;34m=\u001b[0m \u001b[0mextract_income\u001b[0m\u001b[0;34m(\u001b[0m\u001b[0mincome\u001b[0m\u001b[0;34m,\u001b[0m \u001b[0;34m\"median household income\"\u001b[0m\u001b[0;34m)\u001b[0m\u001b[0;34m.\u001b[0m\u001b[0miloc\u001b[0m\u001b[0;34m[\u001b[0m\u001b[0;36m5\u001b[0m\u001b[0;34m]\u001b[0m\u001b[0;34m\u001b[0m\u001b[0m\n\u001b[1;32m      7\u001b[0m \u001b[0massert_almost_equal\u001b[0m\u001b[0;34m(\u001b[0m\u001b[0mrow\u001b[0m\u001b[0;34m[\u001b[0m\u001b[0;34m\"median household income value\"\u001b[0m\u001b[0;34m]\u001b[0m\u001b[0;34m,\u001b[0m\u001b[0;36m63636\u001b[0m\u001b[0;34m)\u001b[0m\u001b[0;34m\u001b[0m\u001b[0m\n\u001b[0;32m----> 8\u001b[0;31m \u001b[0massert_equal\u001b[0m\u001b[0;34m(\u001b[0m\u001b[0mrow\u001b[0m\u001b[0;34m[\u001b[0m\u001b[0;34m\"median household income unit\"\u001b[0m\u001b[0;34m]\u001b[0m\u001b[0;34m,\u001b[0m\u001b[0;34m\"$\"\u001b[0m\u001b[0;34m)\u001b[0m\u001b[0;34m\u001b[0m\u001b[0m\n\u001b[0m",
      "\u001b[0;32m/opt/conda/lib/python3.5/site-packages/pandas/core/series.py\u001b[0m in \u001b[0;36m__getitem__\u001b[0;34m(self, key)\u001b[0m\n\u001b[1;32m    601\u001b[0m         \u001b[0mkey\u001b[0m \u001b[0;34m=\u001b[0m \u001b[0mcom\u001b[0m\u001b[0;34m.\u001b[0m\u001b[0m_apply_if_callable\u001b[0m\u001b[0;34m(\u001b[0m\u001b[0mkey\u001b[0m\u001b[0;34m,\u001b[0m \u001b[0mself\u001b[0m\u001b[0;34m)\u001b[0m\u001b[0;34m\u001b[0m\u001b[0m\n\u001b[1;32m    602\u001b[0m         \u001b[0;32mtry\u001b[0m\u001b[0;34m:\u001b[0m\u001b[0;34m\u001b[0m\u001b[0m\n\u001b[0;32m--> 603\u001b[0;31m             \u001b[0mresult\u001b[0m \u001b[0;34m=\u001b[0m \u001b[0mself\u001b[0m\u001b[0;34m.\u001b[0m\u001b[0mindex\u001b[0m\u001b[0;34m.\u001b[0m\u001b[0mget_value\u001b[0m\u001b[0;34m(\u001b[0m\u001b[0mself\u001b[0m\u001b[0;34m,\u001b[0m \u001b[0mkey\u001b[0m\u001b[0;34m)\u001b[0m\u001b[0;34m\u001b[0m\u001b[0m\n\u001b[0m\u001b[1;32m    604\u001b[0m \u001b[0;34m\u001b[0m\u001b[0m\n\u001b[1;32m    605\u001b[0m             \u001b[0;32mif\u001b[0m \u001b[0;32mnot\u001b[0m \u001b[0mis_scalar\u001b[0m\u001b[0;34m(\u001b[0m\u001b[0mresult\u001b[0m\u001b[0;34m)\u001b[0m\u001b[0;34m:\u001b[0m\u001b[0;34m\u001b[0m\u001b[0m\n",
      "\u001b[0;32m/opt/conda/lib/python3.5/site-packages/pandas/indexes/base.py\u001b[0m in \u001b[0;36mget_value\u001b[0;34m(self, series, key)\u001b[0m\n\u001b[1;32m   2181\u001b[0m                     \u001b[0;32mraise\u001b[0m \u001b[0mInvalidIndexError\u001b[0m\u001b[0;34m(\u001b[0m\u001b[0mkey\u001b[0m\u001b[0;34m)\u001b[0m\u001b[0;34m\u001b[0m\u001b[0m\n\u001b[1;32m   2182\u001b[0m                 \u001b[0;32melse\u001b[0m\u001b[0;34m:\u001b[0m\u001b[0;34m\u001b[0m\u001b[0m\n\u001b[0;32m-> 2183\u001b[0;31m                     \u001b[0;32mraise\u001b[0m \u001b[0me1\u001b[0m\u001b[0;34m\u001b[0m\u001b[0m\n\u001b[0m\u001b[1;32m   2184\u001b[0m             \u001b[0;32mexcept\u001b[0m \u001b[0mException\u001b[0m\u001b[0;34m:\u001b[0m  \u001b[0;31m# pragma: no cover\u001b[0m\u001b[0;34m\u001b[0m\u001b[0m\n\u001b[1;32m   2185\u001b[0m                 \u001b[0;32mraise\u001b[0m \u001b[0me1\u001b[0m\u001b[0;34m\u001b[0m\u001b[0m\n",
      "\u001b[0;32m/opt/conda/lib/python3.5/site-packages/pandas/indexes/base.py\u001b[0m in \u001b[0;36mget_value\u001b[0;34m(self, series, key)\u001b[0m\n\u001b[1;32m   2167\u001b[0m         \u001b[0;32mtry\u001b[0m\u001b[0;34m:\u001b[0m\u001b[0;34m\u001b[0m\u001b[0m\n\u001b[1;32m   2168\u001b[0m             return self._engine.get_value(s, k,\n\u001b[0;32m-> 2169\u001b[0;31m                                           tz=getattr(series.dtype, 'tz', None))\n\u001b[0m\u001b[1;32m   2170\u001b[0m         \u001b[0;32mexcept\u001b[0m \u001b[0mKeyError\u001b[0m \u001b[0;32mas\u001b[0m \u001b[0me1\u001b[0m\u001b[0;34m:\u001b[0m\u001b[0;34m\u001b[0m\u001b[0m\n\u001b[1;32m   2171\u001b[0m             \u001b[0;32mif\u001b[0m \u001b[0mlen\u001b[0m\u001b[0;34m(\u001b[0m\u001b[0mself\u001b[0m\u001b[0;34m)\u001b[0m \u001b[0;34m>\u001b[0m \u001b[0;36m0\u001b[0m \u001b[0;32mand\u001b[0m \u001b[0mself\u001b[0m\u001b[0;34m.\u001b[0m\u001b[0minferred_type\u001b[0m \u001b[0;32min\u001b[0m \u001b[0;34m[\u001b[0m\u001b[0;34m'integer'\u001b[0m\u001b[0;34m,\u001b[0m \u001b[0;34m'boolean'\u001b[0m\u001b[0;34m]\u001b[0m\u001b[0;34m:\u001b[0m\u001b[0;34m\u001b[0m\u001b[0m\n",
      "\u001b[0;32mpandas/index.pyx\u001b[0m in \u001b[0;36mpandas.index.IndexEngine.get_value (pandas/index.c:3557)\u001b[0;34m()\u001b[0m\n",
      "\u001b[0;32mpandas/index.pyx\u001b[0m in \u001b[0;36mpandas.index.IndexEngine.get_value (pandas/index.c:3240)\u001b[0;34m()\u001b[0m\n",
      "\u001b[0;32mpandas/index.pyx\u001b[0m in \u001b[0;36mpandas.index.IndexEngine.get_loc (pandas/index.c:4279)\u001b[0;34m()\u001b[0m\n",
      "\u001b[0;32mpandas/src/hashtable_class_helper.pxi\u001b[0m in \u001b[0;36mpandas.hashtable.PyObjectHashTable.get_item (pandas/hashtable.c:13742)\u001b[0;34m()\u001b[0m\n",
      "\u001b[0;32mpandas/src/hashtable_class_helper.pxi\u001b[0m in \u001b[0;36mpandas.hashtable.PyObjectHashTable.get_item (pandas/hashtable.c:13696)\u001b[0;34m()\u001b[0m\n",
      "\u001b[0;31mKeyError\u001b[0m: 'median household income unit'"
     ]
    }
   ],
   "source": [
    "income = pd.read_table(\"./income.txt\")\n",
    "income_uk = pd.read_table(\"./income_uk.txt\",\n",
    "                         header = None,\n",
    "                         encoding='utf-8').rename(columns={0:\"Region\", \n",
    "                                                        1:\"Income\"})\n",
    "row = extract_income(income, \"median household income\").iloc[5]\n",
    "assert_almost_equal(row[\"median household income value\"],63636)\n",
    "assert_equal(row[\"median household income unit\"],\"$\")"
   ]
  },
  {
   "cell_type": "markdown",
   "metadata": {
    "deletable": false,
    "editable": false,
    "nbgrader": {
     "checksum": "4c934398308556babcec6a68a93c06da",
     "grade": false,
     "grade_id": "cell-5467d5521dd5107e",
     "locked": true,
     "schema_version": 1,
     "solution": false
    }
   },
   "source": [
    "**Problem 3 (20 Points): **\n",
    "\n",
    "Write a regular expression (`regname`) to match physician names in reports. You can assume that any name in the text is either preceded by \"Dr.\" or followed by \"MD\" (or \"M.D.\", \"D.O.\", \"DO\"). Use the following named groups:\n",
    "\n",
    "* \"prefix\"\n",
    "* \"fname\"\n",
    "* \"mname\"\n",
    "* \"lname\"\n",
    "* \"suffix\"\n",
    "\n",
    "Match at least the following name variations:\n",
    "    * Dr. Vivian Lee\n",
    "    * Dr. Vivian S Lee\n",
    "    * Vivian Lee, MD\n",
    "    * Vivian S Lee, MD\n",
    "    \n",
    "#### Hints\n",
    "\n",
    "1. Be careful in how you deal with white spaces. Regular expressions are a balancing act between sensitivity and specificity.\n",
    "1. What parts in the names are optional?"
   ]
  },
  {
   "cell_type": "code",
   "execution_count": 12,
   "metadata": {
    "collapsed": true,
    "deletable": false,
    "nbgrader": {
     "checksum": "45bad59e473e6a1ef185381aeac55e6d",
     "grade": false,
     "grade_id": "cell-83c8487e69e8aa0f",
     "locked": false,
     "schema_version": 1,
     "solution": true
    }
   },
   "outputs": [],
   "source": [
    "regname = re.compile(r\"\"\"\\n?(?P<prefix>Dr.)?\\s?(?P<fname>[A-Z][a-z]+|[A-Z])\\\n",
    "\\s(?P<mname>[A-Z][a-z]+|[A-Z])?\\.?\\s?(?P<lname>[A-Z][a-z]+)(?P<suffix>, PhD|, MD|, M.D.|, Ph.D|, ScD)?\"\"\")\n",
    "#(?P<prefix>Dr.)? (?P<fname>[A-Z][a-z]+)? (?P<mname>[A-Z][a-z]+?)? (?P<lname>[A-Z][a-z]+) (P<suffix>[M,D,P,S]\\.?[D,O,h,c]\\.?[D]?\\.?)?\n",
    "#findName1 = re.compile(r\"\"\"[A-Z][a-z]+\\s+[A-Z][a-z]+\"\"\")\n",
    "#(?P<prefix> Dr.) \n",
    "#(?P<fname>[A-Z][a-z]+) \n",
    "#(?P<mname>\\s[a-zA-Z]+) \n",
    "#(?P<lname>\\s?[A-Z][a-z]+)\n",
    "#(?P<suffix>[M,D,P]\\.?[D,O,h]\\.?[D]?))\n",
    "#drs = regname.finditer(tst)\n",
    "#regname.findall(tst)\n"
   ]
  },
  {
   "cell_type": "code",
   "execution_count": 13,
   "metadata": {
    "collapsed": true,
    "deletable": false,
    "editable": false,
    "nbgrader": {
     "checksum": "8043929430568a7842bb635f35a0d908",
     "grade": true,
     "grade_id": "cell-0507327b37760c94",
     "locked": true,
     "points": 5,
     "schema_version": 1,
     "solution": false
    }
   },
   "outputs": [],
   "source": [
    "tst = \\\n",
    "\"\"\"\n",
    "My physician is Dr. Barry Stults while my mentor is \n",
    "Dr. Matthew H Samore.\n",
    "Vivian Lee, MD hired me a few years after she was hired by\n",
    "A Lorris Betz, MD.\n",
    "David W. Pershing, Ph.D. is the university president and a lot of people hope that Ruth V Watkins, PhD is hired as the next\n",
    "univeersity president. When I was in Pittsburgh I worked with David Gur, ScD and Dr. Jules Henry Sumkin. My favorite\n",
    " philosopher is Alfred North Whitehead, Ph.D.\n",
    "\n",
    "\n",
    "\"\"\"\n",
    "matches = list(regname.finditer(tst))\n",
    "m = matches[0]\n",
    "assert_equal(m.group(\"prefix\").strip(), \"Dr.\")\n",
    "assert_equal(m.group(\"fname\").strip(), \"Barry\")\n",
    "assert_equal(m.group('mname'), None)\n",
    "assert_equal(m.group(\"lname\").strip(), \"Stults\")\n",
    "assert_equal(m.group(\"suffix\"), None)"
   ]
  },
  {
   "cell_type": "code",
   "execution_count": 14,
   "metadata": {
    "collapsed": true,
    "deletable": false,
    "editable": false,
    "nbgrader": {
     "checksum": "1e03f0b5060cf603219f5f723502f70f",
     "grade": true,
     "grade_id": "cell-d8bbe2af7d468141",
     "locked": true,
     "points": 5,
     "schema_version": 1,
     "solution": false
    }
   },
   "outputs": [],
   "source": [
    "tst = \\\n",
    "\"\"\"\n",
    "My physician is Dr. Barry Stults while my mentor is \n",
    "Dr. Matthew H Samore.\n",
    "Vivian Lee, MD hired me a few years after she was hired by\n",
    "A Lorris Betz, MD.\n",
    "David W. Pershing, Ph.D. is Dr. Betz's boss and a lot of people hope that Ruth V Watkins, PhD is hired as the next\n",
    "univeersity president. When I was in Pittsburgh I worked with David Gur, ScD and Dr. Jules Henry Sumkin. My favorite\n",
    " philosopher is Alfred North Whitehead, Ph.D.\n",
    "\n",
    "\n",
    "\"\"\"\n",
    "matches = list(regname.finditer(tst))\n",
    "m = matches[1]\n",
    "assert_equal(m.group(\"prefix\").strip(), \"Dr.\")\n",
    "assert_equal(m.group(\"fname\").strip(), \"Matthew\")\n",
    "assert_equal(m.group('mname').strip(), \"H\")\n",
    "assert_equal(m.group(\"lname\").strip(), \"Samore\")\n",
    "assert_equal(m.group(\"suffix\"), None)"
   ]
  },
  {
   "cell_type": "code",
   "execution_count": 15,
   "metadata": {
    "collapsed": true,
    "deletable": false,
    "editable": false,
    "nbgrader": {
     "checksum": "8186f32e4c59b79db70cf185f033ae94",
     "grade": true,
     "grade_id": "cell-0c0186c003f9457b",
     "locked": true,
     "points": 5,
     "schema_version": 1,
     "solution": false
    }
   },
   "outputs": [],
   "source": [
    "tst = \\\n",
    "\"\"\"\n",
    "My physician is Dr. Barry Stults while my mentor is \n",
    "Dr. Matthew H Samore.\n",
    "Vivian Lee, MD hired me a few years after she was hired by\n",
    "A Lorris Betz, MD.\n",
    "David W. Pershing, Ph.D. is the university president and a lot of people hope that Ruth V Watkins, PhD is hired as the next\n",
    "univeersity president. When I was in Pittsburgh I worked with David Gur, ScD and Dr. Jules Henry Sumkin. My favorite\n",
    " philosopher is Alfred North Whitehead, Ph.D.\n",
    "\n",
    "\n",
    "\"\"\"\n",
    "matches = list(regname.finditer(tst))\n",
    "m = matches[2]\n",
    "assert_equal(m.group(\"prefix\"), None)\n",
    "assert_equal(m.group(\"fname\").strip(), \"Vivian\")\n",
    "assert_equal(m.group('mname'), None)\n",
    "assert_equal(m.group(\"lname\").strip(), \"Lee\")\n",
    "assert_equal(m.group(\"suffix\").strip(), \", MD\")\n"
   ]
  },
  {
   "cell_type": "code",
   "execution_count": 16,
   "metadata": {
    "collapsed": true,
    "deletable": false,
    "editable": false,
    "nbgrader": {
     "checksum": "6f4bf7bd194cbd81a4954b7e61eb1dbf",
     "grade": true,
     "grade_id": "cell-332e33b10d967675",
     "locked": true,
     "points": 5,
     "schema_version": 1,
     "solution": false
    }
   },
   "outputs": [],
   "source": [
    "tst = \\\n",
    "\"\"\"\n",
    "My physician is Dr. Barry Stults while my mentor is \n",
    "Dr. Matthew H Samore.\n",
    "Vivian Lee, MD hired me a few years after she was hired by\n",
    "A Lorris Betz, MD.\n",
    "David W. Pershing, Ph.D. is the university president and a lot of people hope that Ruth V Watkins, PhD is hired as the next\n",
    "univeersity president. When I was in Pittsburgh I worked with David Gur, ScD and Dr. Jules Henry Sumkin. My favorite\n",
    " philosopher is Alfred North Whitehead, Ph.D.\n",
    "\n",
    "\n",
    "\"\"\"\n",
    "matches = list(regname.finditer(tst))\n",
    "m = matches[6]\n",
    "assert_equal(m.group(\"prefix\"), None)\n",
    "assert_equal(m.group(\"fname\").strip(), \"David\")\n",
    "assert_equal(m.group('mname'), None)\n",
    "assert_equal(m.group(\"lname\").strip(), \"Gur\")\n",
    "assert_equal(m.group(\"suffix\").strip(), \", ScD\")\n"
   ]
  },
  {
   "cell_type": "markdown",
   "metadata": {
    "deletable": false,
    "editable": false,
    "nbgrader": {
     "checksum": "1e664fb5dac9241030f3d50e7c79b23e",
     "grade": false,
     "grade_id": "cell-b4e72856fc41ecb0",
     "locked": true,
     "schema_version": 1,
     "solution": false
    }
   },
   "source": [
    "**Problem 4 (24 points):**\n",
    "\n",
    "* Write a regular expression to match dates in the following form:\n",
    "    * 2011-03-13\n",
    "    \n",
    "\n",
    "* Write a second regular expression to match dates in the following formats:\n",
    "    * 01/28/1947\n",
    "    * 03/17/75\n",
    "    \n",
    "\n",
    "* Write a third regular expression to match dates in the following formats.\n",
    "    * January 18, 2015\n",
    "    * Jan 1931\n",
    "    * Jan 8, 47\n",
    "    \n",
    "\n",
    "Put all the regular expressions in a list named `redates`. "
   ]
  },
  {
   "cell_type": "code",
   "execution_count": 31,
   "metadata": {
    "collapsed": true,
    "deletable": false,
    "nbgrader": {
     "checksum": "5e7ac6a1ecd518798f1c86ba41af57d3",
     "grade": false,
     "grade_id": "cell-cad09841faf0af9c",
     "locked": false,
     "schema_version": 1,
     "solution": true
    }
   },
   "outputs": [],
   "source": [
    "import re\n",
    "\n",
    "\n",
    "\n",
    "#redates1 = re.compile(r\"\"\"(?P<year>\\d+)-(?P<month>\\d+)-(?P<day>\\d+)\"\"\")\n",
    "#redates2 = re.compile(r\"\"\"(?P<month>\\d+)/(?P<day>\\d+)/(?P<year>\\d+)\"\"\")\n",
    "#redates3 = re.compile(r\"\"\"(?P<month>[A-Z][a-z]+)\\s(?P<day>\\d+,)?\\s?(?P<year>\\d+)\"\"\")\n",
    "\n",
    "date_regexs = [\"\"\"(?P<year>\\d+)-(?P<month>\\d+)-(?P<day>\\d+)\"\"\",\"\"\"(?P<month>\\d+)/(?P<day>\\d+)/(?P<year>\\d+)\"\"\",\"\"\"(?P<month>[A-Z][a-z]+)\\s(?P<day>\\d+,)?\\s?(?P<year>\\d+)\"\"\"]\n",
    "\n",
    "redates = [re.compile(r, re.I) for r in date_regexs]\n",
    "\n",
    "#r\"\"\"(?P<year>\\d+)-(?P<month>\\d)+-(?P<day>\\d+)|(?P<month>\\d+)/(?P<day>\\d+)/(?P<year>\\d+)|(?P<month>[A-Z][a-z]+)\\s(?P<day>\\d+,)?\\s?(?P<year>\\d+)\"\"\");\n",
    "\n",
    "\n",
    "\n"
   ]
  },
  {
   "cell_type": "code",
   "execution_count": 32,
   "metadata": {
    "collapsed": true,
    "deletable": false,
    "editable": false,
    "nbgrader": {
     "checksum": "7aa7069c4f1ea97fa7661d0949be84b1",
     "grade": true,
     "grade_id": "cell-820e993278bb5bc5",
     "locked": true,
     "points": 6,
     "schema_version": 1,
     "solution": false
    }
   },
   "outputs": [],
   "source": [
    "tst = \\\n",
    "\"\"\"\n",
    "    * 2011-03-13\n",
    "    * 01/08/1947\n",
    "    * 03/01/75\n",
    "    * January 18, 2015\n",
    "    * Jan 1931\n",
    "    * Jan 8, 47\n",
    "\"\"\"\n",
    "matches = [m for r in redates for m in list(r.finditer(tst)) ]\n",
    "m = matches[0]\n",
    "assert_equal(m.group(\"year\"), \"2011\")\n",
    "assert_equal(m.group(\"month\"), \"03\")\n",
    "assert_equal(m.group(\"day\"), \"13\")"
   ]
  },
  {
   "cell_type": "code",
   "execution_count": 33,
   "metadata": {
    "collapsed": true,
    "deletable": false,
    "editable": false,
    "nbgrader": {
     "checksum": "9f0fd278127ef714902aa1eb38a1ba94",
     "grade": true,
     "grade_id": "cell-19c1e4fc1dc15b33",
     "locked": true,
     "points": 6,
     "schema_version": 1,
     "solution": false
    }
   },
   "outputs": [],
   "source": [
    "tst = \\\n",
    "\"\"\"\n",
    "    * 2011-03-13\n",
    "    * 01/08/1947\n",
    "    * 03/01/75\n",
    "    * January 18, 2015\n",
    "    * Jan 1931\n",
    "    * Jan 8, 47\n",
    "\"\"\"\n",
    "matches = [m for r in redates for m in list(r.finditer(tst)) ]\n",
    "m = matches[1]\n",
    "assert_equal(m.group(\"year\"), \"1947\")\n",
    "assert_equal(m.group(\"month\"), \"01\")\n",
    "assert_equal(m.group(\"day\"), \"08\")"
   ]
  },
  {
   "cell_type": "code",
   "execution_count": 34,
   "metadata": {
    "collapsed": true,
    "deletable": false,
    "editable": false,
    "nbgrader": {
     "checksum": "7e31c7b38a41f1c3919d65efc6b23a31",
     "grade": true,
     "grade_id": "cell-a654eac9a9da8ccf",
     "locked": true,
     "points": 6,
     "schema_version": 1,
     "solution": false
    }
   },
   "outputs": [],
   "source": [
    "tst = \\\n",
    "\"\"\"\n",
    "    * 2011-03-13\n",
    "    * 01/08/1947\n",
    "    * 03/01/75\n",
    "    * January 18, 2015\n",
    "    * Jan 1931\n",
    "    * Jan 8, 47\n",
    "\"\"\"\n",
    "matches = [m for r in redates for m in list(r.finditer(tst)) ]\n",
    "m = matches[3]\n",
    "assert_equal(m.group(\"year\"), \"2015\")\n",
    "assert_equal(m.group(\"month\"), \"January\")\n",
    "assert_equal(m.group(\"day\").strip(), \"18,\")"
   ]
  },
  {
   "cell_type": "code",
   "execution_count": 35,
   "metadata": {
    "collapsed": true,
    "deletable": false,
    "editable": false,
    "nbgrader": {
     "checksum": "e30c64ca0e3c5ceb1c7d4ae48a051e30",
     "grade": true,
     "grade_id": "cell-a2cbe9c2863ecb6b",
     "locked": true,
     "points": 6,
     "schema_version": 1,
     "solution": false
    }
   },
   "outputs": [],
   "source": [
    "tst = \\\n",
    "\"\"\"\n",
    "    * 2011-03-13\n",
    "    * 01/08/1947\n",
    "    * 03/01/75\n",
    "    * January 18, 2015\n",
    "    * Jan 1931\n",
    "    * Jan 8, 47\n",
    "\"\"\"\n",
    "matches = [m for r in redates for m in list(r.finditer(tst)) ]\n",
    "m = matches[4]\n",
    "assert_equal(m.group(\"year\"), \"1931\")\n",
    "assert_equal(m.group(\"month\"), \"Jan\")\n",
    "assert_equal(m.group(\"day\"), None)"
   ]
  }
 ],
 "metadata": {
  "kernelspec": {
   "display_name": "Python 3",
   "language": "python",
   "name": "python3"
  },
  "language_info": {
   "codemirror_mode": {
    "name": "ipython",
    "version": 3
   },
   "file_extension": ".py",
   "mimetype": "text/x-python",
   "name": "python",
   "nbconvert_exporter": "python",
   "pygments_lexer": "ipython3",
   "version": "3.5.2"
  }
 },
 "nbformat": 4,
 "nbformat_minor": 1
}
