{
 "cells": [
  {
   "cell_type": "markdown",
   "metadata": {
    "deletable": false,
    "editable": false,
    "nbgrader": {
     "checksum": "ddf58cab02958a214c7c87b782c7f4ae",
     "grade": false,
     "grade_id": "cell-68c771a684b7530a",
     "locked": true,
     "schema_version": 1,
     "solution": false
    }
   },
   "source": [
    "# Dictionaries\n",
    "\n",
    "This homework has you work with Python dictionaries and a couple of variants, namely default dictionaries and counters, both defined in the Python library [collections](https://docs.python.org/3/library/collections.html). These problems will require you to use if/else statments and for loops which I assume you are familiar with from your CodeAcademy review. In case you want more practice with these, I've put notebooks in the Resources directory. The problems get progressively harder as you move towards more and more primative/basic collections."
   ]
  },
  {
   "cell_type": "markdown",
   "metadata": {
    "deletable": false,
    "editable": false,
    "nbgrader": {
     "checksum": "ec78a23a6345b128b4e75c8f60b4f9e1",
     "grade": false,
     "grade_id": "cell-661850a57a9d3b39",
     "locked": true,
     "schema_version": 1,
     "solution": false
    }
   },
   "source": [
    "**Problems 1 and 2** use the variable ``report`` defined below."
   ]
  },
  {
   "cell_type": "code",
   "execution_count": null,
   "metadata": {
    "collapsed": true,
    "deletable": false,
    "editable": false,
    "nbgrader": {
     "checksum": "402deda427bcdf653b9c4b82df49eec3",
     "grade": false,
     "grade_id": "cell-d8446f8007248a50",
     "locked": true,
     "schema_version": 1,
     "solution": false
    }
   },
   "outputs": [],
   "source": [
    "from nose.tools import assert_equal, assert_true, assert_false"
   ]
  },
  {
   "cell_type": "code",
   "execution_count": null,
   "metadata": {
    "collapsed": true,
    "deletable": false,
    "editable": false,
    "nbgrader": {
     "checksum": "eee86773447fffb4cb9dc65e46f520ab",
     "grade": false,
     "grade_id": "cell-9ee15297486b160c",
     "locked": true,
     "schema_version": 1,
     "solution": false
    }
   },
   "outputs": [],
   "source": [
    "report = \"\"\"\n",
    "Patient: DOE, JOHN\n",
    "Referring Physician: DR. DAVID LIVESEY\n",
    "MRN : JD4USARAD DOB: 01/01/1961\n",
    "Exam Date: 06/05/2010\n",
    "FAX: (305) 418-8166\n",
    "    \n",
    "CLINICAL HISTORY: ABDOMINAL PAIN.\n",
    "    \n",
    "TECHNIQUE: Multiple axial CT images were obtained through the abdomen and pelvis after\n",
    "administration of oral contrast material only.\n",
    "\n",
    "COMMENTS:\n",
    "There is evidence of diffuse hepatic hypoattenuation compatible with fatty infiltration. There is no\n",
    "intra or extrahepatic biliary ductal dilatation. The patient is status post cholecystectomy. The spleen\n",
    "is normal. The pancreas is of normal contour and attenuation characteristics. There is no evidence of\n",
    "adrenal mass.\n",
    "\n",
    "Moderate sized fat containing supraumbilical hernia is present.\n",
    "The kidneys are normal in size, shape and configuration. No renal or ureteral calculi are identified.\n",
    "There is no hydroureter or hydronephrosis.\n",
    "There is no evidence for appendicitis. Several fluid-filled loops of small bowel are present compatible\n",
    "with mild enteritis. There is no bowel wall thickening. No evidence for small or large bowel\n",
    "obstruction. There is no evidence of abdominal ascites or lymphadenopathy.\n",
    "There is no evidence of intrinsic or extrinsic bladder mass. There is no pelvic ascites or\n",
    "lymphadenopathy.\n",
    "The uterus and ovaries are grossly unremarkable.\n",
    "Images of the lung bases show no evidence of pleural or parenchymal mass. There are no pleural\n",
    "effusions. Scarring is present in the right middle lobe and lingula as well as both lung bases.\n",
    "The bony structures are free of lytic or blastic lesions. Multilevel degenerative changes are seen\n",
    "involving the thoracolumbar spine.\n",
    "Scattered calcifications are seen involving the aorta and major branches compatible with\n",
    "atherosclerosis.\n",
    "\n",
    "IMPRESSION:\n",
    "ABDOMEN:\n",
    "1. Several fluid-filled loops of small bowel are present compatible with mild enteritis.\n",
    "2. Fatty liver.\n",
    "3. Status post cholecystectomy.\n",
    "4. Fat containing umbilical hernia.\n",
    "PELVIS:\n",
    "1. No evidence of diverticulitis or acute inflammatory process in the pelvis.\n",
    "Discussed with Dr. DAVID LIVESEY\n",
    "-Electronically Signed by: RADIOLOGIST, ADMIN on 06/05/2010 2:31:33 PM\"\"\""
   ]
  },
  {
   "cell_type": "markdown",
   "metadata": {
    "deletable": false,
    "editable": false,
    "nbgrader": {
     "checksum": "f4481cfc37aca831f34e01c9d6b43a9e",
     "grade": false,
     "grade_id": "cell-bc694494f7004a03",
     "locked": true,
     "schema_version": 1,
     "solution": false
    }
   },
   "source": [
    "**Problem 1 (20 points):** Use the ``Counter`` class defined in ``collections`` to modify the function `def count_word_v1` to count the frequency of words in ``report``. Before counting the number of words, convert everything to uppercase and replace periods (\".\") and commas (\",\") with empty spaces. The function takes as an argument a string containing a report and returns a Counter object."
   ]
  },
  {
   "cell_type": "code",
   "execution_count": null,
   "metadata": {
    "collapsed": true,
    "deletable": false,
    "nbgrader": {
     "checksum": "af836352f6d4144e909c56bd80cece45",
     "grade": false,
     "grade_id": "cell-ca5c0aca364ed301",
     "locked": false,
     "schema_version": 1,
     "solution": true
    }
   },
   "outputs": [],
   "source": [
    "\n",
    "from collections import Counter\n",
    "def count_words_v1(report):\n",
    "    # YOUR CODE HERE\n",
    "    raise NotImplementedError()"
   ]
  },
  {
   "cell_type": "code",
   "execution_count": null,
   "metadata": {
    "collapsed": true,
    "deletable": false,
    "editable": false,
    "nbgrader": {
     "checksum": "cd92e6e1398e04ef09d47f9fba3bd0fa",
     "grade": true,
     "grade_id": "cell-9e4147133f20571a",
     "locked": true,
     "points": 15,
     "schema_version": 1,
     "solution": false
    }
   },
   "outputs": [],
   "source": []
  },
  {
   "cell_type": "code",
   "execution_count": null,
   "metadata": {
    "collapsed": true,
    "deletable": false,
    "editable": false,
    "nbgrader": {
     "checksum": "90fa0a5f1aefc40dbdc1898bfe601fd6",
     "grade": true,
     "grade_id": "cell-5472a098a8b1a265",
     "locked": true,
     "points": 5,
     "schema_version": 1,
     "solution": false
    }
   },
   "outputs": [],
   "source": [
    "assert_true(type(count_words_v1(report))==Counter)\n"
   ]
  },
  {
   "cell_type": "markdown",
   "metadata": {},
   "source": [
    "**Problem 2 (30 points):** Repeat problem one but instead of using a `Counter`, use the ``defaultdict`` defined in the ``colletions`` library."
   ]
  },
  {
   "cell_type": "code",
   "execution_count": null,
   "metadata": {
    "collapsed": true,
    "deletable": false,
    "nbgrader": {
     "checksum": "0a41a6c46d7ba07fbfdd9b9cf9e4f3d1",
     "grade": false,
     "grade_id": "cell-15995fa74f7d5ce5",
     "locked": false,
     "schema_version": 1,
     "solution": true
    }
   },
   "outputs": [],
   "source": [
    "from collections import defaultdict\n",
    "\n",
    "def count_words_v2(report):\n",
    "    # YOUR CODE HERE\n",
    "    raise NotImplementedError()\n"
   ]
  },
  {
   "cell_type": "code",
   "execution_count": null,
   "metadata": {
    "collapsed": true,
    "deletable": false,
    "editable": false,
    "nbgrader": {
     "checksum": "469b0205c7cf244a34e28c92fbc5b5d6",
     "grade": true,
     "grade_id": "cell-e56cdb614c78eb19",
     "locked": true,
     "points": 25,
     "schema_version": 1,
     "solution": false
    }
   },
   "outputs": [],
   "source": []
  },
  {
   "cell_type": "code",
   "execution_count": null,
   "metadata": {
    "collapsed": true,
    "deletable": false,
    "editable": false,
    "nbgrader": {
     "checksum": "0b768b9530fe38627e3ecb0f4e69a830",
     "grade": true,
     "grade_id": "cell-1edbfbd3d33241c2",
     "locked": true,
     "points": 5,
     "schema_version": 1,
     "solution": false
    }
   },
   "outputs": [],
   "source": [
    "assert_true(type(count_words_v2(report))==defaultdict)\n"
   ]
  },
  {
   "cell_type": "markdown",
   "metadata": {
    "deletable": false,
    "editable": false,
    "nbgrader": {
     "checksum": "fd11c5c0940838a236e249893395512e",
     "grade": false,
     "grade_id": "cell-705f60f21b861f52",
     "locked": true,
     "schema_version": 1,
     "solution": false
    }
   },
   "source": [
    "**Problem 3 (50 points):** Modify `count_kmers` below as follows:\n",
    "\n",
    "### Arguments\n",
    "\n",
    "* `count_kmers` takes as a **positional argument** named `sequences` a dictionary of sequences\n",
    "* `count_kmers` takes as a **keyword_argument** named `kmers` a tuple of kmers. The default tuple should be a tuple with the single kmer 'A'\n",
    "\n",
    "### Return value\n",
    "\n",
    "* `count_kmers` returns a dictionary with the keys corresponding to the keys of `sequences` and as values a dictionary with keys the valid kmers (valid DNA kmer) provided in the keyword argument `kmers` and as values the frequency count for that kmer in the corresponding sequence. (We will be returning a dictionary of dictionaries."
   ]
  },
  {
   "cell_type": "code",
   "execution_count": null,
   "metadata": {
    "collapsed": true,
    "deletable": false,
    "editable": false,
    "nbgrader": {
     "checksum": "9b6b53f5a810e349b4f75df13cef3322",
     "grade": false,
     "grade_id": "cell-093d58e53fdc3966",
     "locked": true,
     "schema_version": 1,
     "solution": false
    }
   },
   "outputs": [],
   "source": [
    "# the \"\\\" character can be used as a line continuation in PPython\n",
    "sequence1 = \\\n",
    "\"\"\"AGTTGTTAGTCTACGTGGACCGACAAGAACAGTTTCGAATCGGAAGCTTGCTTAACGTAGTTCTAACAGT\n",
    "TTTTTATTAGAGAGCAGATCTCTGATGAACAACCAACGGAAAAAGACGGGTCGACCGTCTTTCAATATGC\"\"\"\n",
    "sequence2= \\\n",
    "\"\"\"TGAAACGCGCGAGAAACCGCGTGTCAACTGTTTCACAGTTGGCGAAGAGATTCTCAAAAGGATTGCTTTC\n",
    "AGGCCAAGGACCCATGAAATTGGTGATGGCTTTTATAGCATTCCTAAGATTTCTAGCCATACC\"\"\"\n",
    "sequence3= \\\n",
    "\"\"\"GCAGGAATTTTGGCTAGATGGGGCTCATTCAAGAAGAATGGAGCGATCAAAGTGTTACGGGTCAAGA\n",
    "AAGAAATCTCAAACATGTTGAACATAATGAACAGGAGGAAAAGATCTGTGACCATGCTCCTCATGCTGCT\"\"\"\n",
    "sequence4= \\\n",
    "\"\"\"GCCCACAGCCCTGGCGTTCCATCTGACCACCCGAGGGGGAGAGCCGCACATGATAGTTAGCAAGCAGGAA\n",
    "AGAGGAAAATCACTTTTGTTTAAGACCTCTGCAGGTGTCAACATGTGCACCCTTATTGCAATGGATTTGG\n",
    "GAGAGTTATGTGAGGACACAATGACCTACAAATGCCCCCGGATCACTGAGACGGAACCAGATGACGTTGA\n",
    "CTGTTGGTGCAATGCCACGGAGACATGGGTGACCTATGGAACATGTTCTCAAACTGGTGAACACCGACGA\n",
    "GACAAACGTTCCGTCGCACTGGCACCACACGTAGGGCTTGGTCTAGAAACAAGAACCGAAACGTGGATGT\"\"\"\n"
   ]
  },
  {
   "cell_type": "code",
   "execution_count": null,
   "metadata": {
    "collapsed": true,
    "deletable": false,
    "nbgrader": {
     "checksum": "4055b41b4299a56482b4aee8a908ccc5",
     "grade": false,
     "grade_id": "cell-9e502a6f6df8ba6d",
     "locked": false,
     "schema_version": 1,
     "solution": true
    }
   },
   "outputs": [],
   "source": [
    "sequences = {\"seq1\":sequence1, \"seq2\":sequence2, \"seq3\":sequence3}\n",
    "# YOUR CODE HERE\n",
    "raise NotImplementedError()"
   ]
  },
  {
   "cell_type": "code",
   "execution_count": null,
   "metadata": {
    "collapsed": true,
    "deletable": false,
    "editable": false,
    "nbgrader": {
     "checksum": "11a7a21b143812ee4c0260199bc98df6",
     "grade": true,
     "grade_id": "cell-26e41e1487f1c9ea",
     "locked": true,
     "points": 0,
     "schema_version": 1,
     "solution": false
    }
   },
   "outputs": [],
   "source": [
    "sequences = {\"seq1\":sequence1, \"seq2\":sequence2, \"seq3\":sequence3}\n",
    "rslts = count_kmers(sequences,kmers=(\"ACTG\", \"CAAC\", \"CBG\", \"GGG\"))\n",
    "assert_true(type(rslts)==dict)\n",
    "assert_true(\"seq1\" in rslts)\n",
    "assert_false(\"CGB\" in rslts[\"seq1\"])\n",
    "assert_equal(rslts[\"seq1\"][\"GGG\"],1)"
   ]
  },
  {
   "cell_type": "code",
   "execution_count": null,
   "metadata": {
    "collapsed": true,
    "deletable": false,
    "editable": false,
    "nbgrader": {
     "checksum": "ca79264fc5a9577879a6d77b41b3fcec",
     "grade": true,
     "grade_id": "cell-e63bfcabe80c7acc",
     "locked": true,
     "points": 10,
     "schema_version": 1,
     "solution": false
    }
   },
   "outputs": [],
   "source": []
  },
  {
   "cell_type": "code",
   "execution_count": null,
   "metadata": {
    "collapsed": true,
    "deletable": false,
    "editable": false,
    "nbgrader": {
     "checksum": "68376ef2b2a26e1ceec4447ba459484c",
     "grade": true,
     "grade_id": "cell-d0aa3fc870398bf1",
     "locked": true,
     "points": 10,
     "schema_version": 1,
     "solution": false
    }
   },
   "outputs": [],
   "source": []
  },
  {
   "cell_type": "code",
   "execution_count": null,
   "metadata": {
    "collapsed": true,
    "deletable": false,
    "editable": false,
    "nbgrader": {
     "checksum": "975b056b150088e61eedbf2c29d2df86",
     "grade": true,
     "grade_id": "cell-84bd1f44222f31ca",
     "locked": true,
     "points": 10,
     "schema_version": 1,
     "solution": false
    }
   },
   "outputs": [],
   "source": []
  },
  {
   "cell_type": "code",
   "execution_count": null,
   "metadata": {
    "collapsed": true,
    "deletable": false,
    "editable": false,
    "nbgrader": {
     "checksum": "58762f1f796ddb9eb4f2992e67514e30",
     "grade": true,
     "grade_id": "cell-ff0772453948090b",
     "locked": true,
     "points": 10,
     "schema_version": 1,
     "solution": false
    }
   },
   "outputs": [],
   "source": []
  },
  {
   "cell_type": "code",
   "execution_count": null,
   "metadata": {
    "collapsed": true,
    "deletable": false,
    "editable": false,
    "nbgrader": {
     "checksum": "925a2bf50b709ef704db200b17daba04",
     "grade": true,
     "grade_id": "cell-910e692147050370",
     "locked": true,
     "points": 10,
     "schema_version": 1,
     "solution": false
    }
   },
   "outputs": [],
   "source": []
  },
  {
   "cell_type": "code",
   "execution_count": null,
   "metadata": {
    "collapsed": true
   },
   "outputs": [],
   "source": []
  }
 ],
 "metadata": {
  "anaconda-cloud": {},
  "kernelspec": {
   "display_name": "Python 3",
   "language": "python",
   "name": "python3"
  },
  "language_info": {
   "codemirror_mode": {
    "name": "ipython",
    "version": 3
   },
   "file_extension": ".py",
   "mimetype": "text/x-python",
   "name": "python",
   "nbconvert_exporter": "python",
   "pygments_lexer": "ipython3",
   "version": "3.5.2"
  }
 },
 "nbformat": 4,
 "nbformat_minor": 1
}
