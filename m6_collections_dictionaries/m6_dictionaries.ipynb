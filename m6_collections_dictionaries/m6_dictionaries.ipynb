{
 "cells": [
  {
   "cell_type": "markdown",
   "metadata": {
    "deletable": false,
    "editable": false,
    "nbgrader": {
     "checksum": "ddf58cab02958a214c7c87b782c7f4ae",
     "grade": false,
     "grade_id": "cell-68c771a684b7530a",
     "locked": true,
     "schema_version": 1,
     "solution": false
    }
   },
   "source": [
    "# Dictionaries\n",
    "\n",
    "This homework has you work with Python dictionaries and a couple of variants, namely default dictionaries and counters, both defined in the Python library [collections](https://docs.python.org/3/library/collections.html). These problems will require you to use if/else statments and for loops which I assume you are familiar with from your CodeAcademy review. In case you want more practice with these, I've put notebooks in the Resources directory. The problems get progressively harder as you move towards more and more primative/basic collections."
   ]
  },
  {
   "cell_type": "markdown",
   "metadata": {
    "deletable": false,
    "editable": false,
    "nbgrader": {
     "checksum": "ec78a23a6345b128b4e75c8f60b4f9e1",
     "grade": false,
     "grade_id": "cell-661850a57a9d3b39",
     "locked": true,
     "schema_version": 1,
     "solution": false
    }
   },
   "source": [
    "**Problems 1 and 2** use the variable ``report`` defined below."
   ]
  },
  {
   "cell_type": "code",
   "execution_count": 1,
   "metadata": {
    "collapsed": true,
    "deletable": false,
    "editable": false,
    "nbgrader": {
     "checksum": "402deda427bcdf653b9c4b82df49eec3",
     "grade": false,
     "grade_id": "cell-d8446f8007248a50",
     "locked": true,
     "schema_version": 1,
     "solution": false
    }
   },
   "outputs": [],
   "source": [
    "from nose.tools import assert_equal, assert_true, assert_false"
   ]
  },
  {
   "cell_type": "code",
   "execution_count": 2,
   "metadata": {
    "collapsed": true,
    "deletable": false,
    "editable": false,
    "nbgrader": {
     "checksum": "eee86773447fffb4cb9dc65e46f520ab",
     "grade": false,
     "grade_id": "cell-9ee15297486b160c",
     "locked": true,
     "schema_version": 1,
     "solution": false
    }
   },
   "outputs": [],
   "source": [
    "report = \"\"\"\n",
    "Patient: DOE, JOHN\n",
    "Referring Physician: DR. DAVID LIVESEY\n",
    "MRN : JD4USARAD DOB: 01/01/1961\n",
    "Exam Date: 06/05/2010\n",
    "FAX: (305) 418-8166\n",
    "    \n",
    "CLINICAL HISTORY: ABDOMINAL PAIN.\n",
    "    \n",
    "TECHNIQUE: Multiple axial CT images were obtained through the abdomen and pelvis after\n",
    "administration of oral contrast material only.\n",
    "\n",
    "COMMENTS:\n",
    "There is evidence of diffuse hepatic hypoattenuation compatible with fatty infiltration. There is no\n",
    "intra or extrahepatic biliary ductal dilatation. The patient is status post cholecystectomy. The spleen\n",
    "is normal. The pancreas is of normal contour and attenuation characteristics. There is no evidence of\n",
    "adrenal mass.\n",
    "\n",
    "Moderate sized fat containing supraumbilical hernia is present.\n",
    "The kidneys are normal in size, shape and configuration. No renal or ureteral calculi are identified.\n",
    "There is no hydroureter or hydronephrosis.\n",
    "There is no evidence for appendicitis. Several fluid-filled loops of small bowel are present compatible\n",
    "with mild enteritis. There is no bowel wall thickening. No evidence for small or large bowel\n",
    "obstruction. There is no evidence of abdominal ascites or lymphadenopathy.\n",
    "There is no evidence of intrinsic or extrinsic bladder mass. There is no pelvic ascites or\n",
    "lymphadenopathy.\n",
    "The uterus and ovaries are grossly unremarkable.\n",
    "Images of the lung bases show no evidence of pleural or parenchymal mass. There are no pleural\n",
    "effusions. Scarring is present in the right middle lobe and lingula as well as both lung bases.\n",
    "The bony structures are free of lytic or blastic lesions. Multilevel degenerative changes are seen\n",
    "involving the thoracolumbar spine.\n",
    "Scattered calcifications are seen involving the aorta and major branches compatible with\n",
    "atherosclerosis.\n",
    "\n",
    "IMPRESSION:\n",
    "ABDOMEN:\n",
    "1. Several fluid-filled loops of small bowel are present compatible with mild enteritis.\n",
    "2. Fatty liver.\n",
    "3. Status post cholecystectomy.\n",
    "4. Fat containing umbilical hernia.\n",
    "PELVIS:\n",
    "1. No evidence of diverticulitis or acute inflammatory process in the pelvis.\n",
    "Discussed with Dr. DAVID LIVESEY\n",
    "-Electronically Signed by: RADIOLOGIST, ADMIN on 06/05/2010 2:31:33 PM\"\"\""
   ]
  },
  {
   "cell_type": "markdown",
   "metadata": {
    "deletable": false,
    "editable": false,
    "nbgrader": {
     "checksum": "f4481cfc37aca831f34e01c9d6b43a9e",
     "grade": false,
     "grade_id": "cell-bc694494f7004a03",
     "locked": true,
     "schema_version": 1,
     "solution": false
    }
   },
   "source": [
    "**Problem 1 (20 points):** Use the ``Counter`` class defined in ``collections`` to modify the function `def count_word_v1` to count the frequency of words in ``report``. Before counting the number of words, convert everything to uppercase and replace periods (\".\") and commas (\",\") with empty spaces. The function takes as an argument a string containing a report and returns a Counter object."
   ]
  },
  {
   "cell_type": "code",
   "execution_count": 3,
   "metadata": {
    "deletable": false,
    "nbgrader": {
     "checksum": "af836352f6d4144e909c56bd80cece45",
     "grade": false,
     "grade_id": "cell-ca5c0aca364ed301",
     "locked": false,
     "schema_version": 1,
     "solution": true
    }
   },
   "outputs": [
    {
     "data": {
      "text/plain": [
       "Counter({'(305)': 1,\n",
       "         '-ELECTRONICALLY': 1,\n",
       "         '01/01/1961': 1,\n",
       "         '06/05/2010': 2,\n",
       "         '1': 2,\n",
       "         '2': 1,\n",
       "         '2:31:33': 1,\n",
       "         '3': 1,\n",
       "         '4': 1,\n",
       "         '418-8166': 1,\n",
       "         'ABDOMEN': 2,\n",
       "         'ABDOMINAL': 2,\n",
       "         'ACUTE': 1,\n",
       "         'ADMIN': 1,\n",
       "         'ADMINISTRATION': 1,\n",
       "         'ADRENAL': 1,\n",
       "         'AFTER': 1,\n",
       "         'AND': 6,\n",
       "         'AORTA': 1,\n",
       "         'APPENDICITIS': 1,\n",
       "         'ARE': 9,\n",
       "         'AS': 2,\n",
       "         'ASCITES': 2,\n",
       "         'ATHEROSCLEROSIS': 1,\n",
       "         'ATTENUATION': 1,\n",
       "         'AXIAL': 1,\n",
       "         'BASES': 2,\n",
       "         'BILIARY': 1,\n",
       "         'BLADDER': 1,\n",
       "         'BLASTIC': 1,\n",
       "         'BONY': 1,\n",
       "         'BOTH': 1,\n",
       "         'BOWEL': 4,\n",
       "         'BRANCHES': 1,\n",
       "         'BY': 1,\n",
       "         'CALCIFICATIONS': 1,\n",
       "         'CALCULI': 1,\n",
       "         'CHANGES': 1,\n",
       "         'CHARACTERISTICS': 1,\n",
       "         'CHOLECYSTECTOMY': 2,\n",
       "         'CLINICAL': 1,\n",
       "         'COMMENTS': 1,\n",
       "         'COMPATIBLE': 4,\n",
       "         'CONFIGURATION': 1,\n",
       "         'CONTAINING': 2,\n",
       "         'CONTOUR': 1,\n",
       "         'CONTRAST': 1,\n",
       "         'CT': 1,\n",
       "         'DATE': 1,\n",
       "         'DAVID': 2,\n",
       "         'DEGENERATIVE': 1,\n",
       "         'DIFFUSE': 1,\n",
       "         'DILATATION': 1,\n",
       "         'DISCUSSED': 1,\n",
       "         'DIVERTICULITIS': 1,\n",
       "         'DOB': 1,\n",
       "         'DOE': 1,\n",
       "         'DR': 2,\n",
       "         'DUCTAL': 1,\n",
       "         'EFFUSIONS': 1,\n",
       "         'ENTERITIS': 2,\n",
       "         'EVIDENCE': 8,\n",
       "         'EXAM': 1,\n",
       "         'EXTRAHEPATIC': 1,\n",
       "         'EXTRINSIC': 1,\n",
       "         'FAT': 2,\n",
       "         'FATTY': 2,\n",
       "         'FAX': 1,\n",
       "         'FLUID-FILLED': 2,\n",
       "         'FOR': 2,\n",
       "         'FREE': 1,\n",
       "         'GROSSLY': 1,\n",
       "         'HEPATIC': 1,\n",
       "         'HERNIA': 2,\n",
       "         'HISTORY': 1,\n",
       "         'HYDRONEPHROSIS': 1,\n",
       "         'HYDROURETER': 1,\n",
       "         'HYPOATTENUATION': 1,\n",
       "         'IDENTIFIED': 1,\n",
       "         'IMAGES': 2,\n",
       "         'IMPRESSION': 1,\n",
       "         'IN': 3,\n",
       "         'INFILTRATION': 1,\n",
       "         'INFLAMMATORY': 1,\n",
       "         'INTRA': 1,\n",
       "         'INTRINSIC': 1,\n",
       "         'INVOLVING': 2,\n",
       "         'IS': 14,\n",
       "         'JD4USARAD': 1,\n",
       "         'JOHN': 1,\n",
       "         'KIDNEYS': 1,\n",
       "         'LARGE': 1,\n",
       "         'LESIONS': 1,\n",
       "         'LINGULA': 1,\n",
       "         'LIVER': 1,\n",
       "         'LIVESEY': 2,\n",
       "         'LOBE': 1,\n",
       "         'LOOPS': 2,\n",
       "         'LUNG': 2,\n",
       "         'LYMPHADENOPATHY': 2,\n",
       "         'LYTIC': 1,\n",
       "         'MAJOR': 1,\n",
       "         'MASS': 3,\n",
       "         'MATERIAL': 1,\n",
       "         'MIDDLE': 1,\n",
       "         'MILD': 2,\n",
       "         'MODERATE': 1,\n",
       "         'MRN': 1,\n",
       "         'MULTILEVEL': 1,\n",
       "         'MULTIPLE': 1,\n",
       "         'NO': 13,\n",
       "         'NORMAL': 3,\n",
       "         'OBSTRUCTION': 1,\n",
       "         'OBTAINED': 1,\n",
       "         'OF': 12,\n",
       "         'ON': 1,\n",
       "         'ONLY': 1,\n",
       "         'OR': 10,\n",
       "         'ORAL': 1,\n",
       "         'OVARIES': 1,\n",
       "         'PAIN': 1,\n",
       "         'PANCREAS': 1,\n",
       "         'PARENCHYMAL': 1,\n",
       "         'PATIENT': 2,\n",
       "         'PELVIC': 1,\n",
       "         'PELVIS': 3,\n",
       "         'PHYSICIAN': 1,\n",
       "         'PLEURAL': 2,\n",
       "         'PM': 1,\n",
       "         'POST': 2,\n",
       "         'PRESENT': 4,\n",
       "         'PROCESS': 1,\n",
       "         'RADIOLOGIST': 1,\n",
       "         'REFERRING': 1,\n",
       "         'RENAL': 1,\n",
       "         'RIGHT': 1,\n",
       "         'SCARRING': 1,\n",
       "         'SCATTERED': 1,\n",
       "         'SEEN': 2,\n",
       "         'SEVERAL': 2,\n",
       "         'SHAPE': 1,\n",
       "         'SHOW': 1,\n",
       "         'SIGNED': 1,\n",
       "         'SIZE': 1,\n",
       "         'SIZED': 1,\n",
       "         'SMALL': 3,\n",
       "         'SPINE': 1,\n",
       "         'SPLEEN': 1,\n",
       "         'STATUS': 2,\n",
       "         'STRUCTURES': 1,\n",
       "         'SUPRAUMBILICAL': 1,\n",
       "         'TECHNIQUE': 1,\n",
       "         'THE': 12,\n",
       "         'THERE': 10,\n",
       "         'THICKENING': 1,\n",
       "         'THORACOLUMBAR': 1,\n",
       "         'THROUGH': 1,\n",
       "         'UMBILICAL': 1,\n",
       "         'UNREMARKABLE': 1,\n",
       "         'URETERAL': 1,\n",
       "         'UTERUS': 1,\n",
       "         'WALL': 1,\n",
       "         'WELL': 1,\n",
       "         'WERE': 1,\n",
       "         'WITH': 5})"
      ]
     },
     "execution_count": 3,
     "metadata": {},
     "output_type": "execute_result"
    }
   ],
   "source": [
    "from collections import Counter\n",
    "\n",
    "def count_words_v1(x):\n",
    "    wordcount = Counter(x.upper().replace(\". \",\" \").replace('.\"',\" \").replace(\".'\", \" \").replace(\": \",\" \").replace(\":\\n\",\" \").replace(\", \",\" \").replace(\".\\n\",\" \").replace(\"\\n\",\" \").replace(\"\\t\",\" \").replace(\"**\",\" \").replace(\".\",\"\").split())\n",
    "    return wordcount\n",
    "\n",
    "count_words_v1(report)\n",
    "\n"
   ]
  },
  {
   "cell_type": "code",
   "execution_count": null,
   "metadata": {
    "collapsed": true,
    "deletable": false,
    "editable": false,
    "nbgrader": {
     "checksum": "cd92e6e1398e04ef09d47f9fba3bd0fa",
     "grade": true,
     "grade_id": "cell-9e4147133f20571a",
     "locked": true,
     "points": 15,
     "schema_version": 1,
     "solution": false
    }
   },
   "outputs": [],
   "source": []
  },
  {
   "cell_type": "code",
   "execution_count": 4,
   "metadata": {
    "collapsed": true,
    "deletable": false,
    "editable": false,
    "nbgrader": {
     "checksum": "90fa0a5f1aefc40dbdc1898bfe601fd6",
     "grade": true,
     "grade_id": "cell-5472a098a8b1a265",
     "locked": true,
     "points": 5,
     "schema_version": 1,
     "solution": false
    }
   },
   "outputs": [],
   "source": [
    "assert_true(type(count_words_v1(report))==Counter)\n"
   ]
  },
  {
   "cell_type": "markdown",
   "metadata": {},
   "source": [
    "**Problem 2 (30 points):** Repeat problem one but instead of using a `Counter`, use the ``defaultdict`` defined in the ``colletions`` library."
   ]
  },
  {
   "cell_type": "code",
   "execution_count": 5,
   "metadata": {
    "deletable": false,
    "nbgrader": {
     "checksum": "0a41a6c46d7ba07fbfdd9b9cf9e4f3d1",
     "grade": false,
     "grade_id": "cell-15995fa74f7d5ce5",
     "locked": false,
     "schema_version": 1,
     "solution": true
    }
   },
   "outputs": [
    {
     "data": {
      "text/plain": [
       "defaultdict(<function __main__.count_words_v2.<locals>.<lambda>>,\n",
       "            {'(305)': 1,\n",
       "             '-ELECTRONICALLY': 1,\n",
       "             '01/01/1961': 1,\n",
       "             '06/05/2010': 1,\n",
       "             '1': 1,\n",
       "             '2': 1,\n",
       "             '2:31:33': 1,\n",
       "             '3': 1,\n",
       "             '4': 1,\n",
       "             '418-8166': 1,\n",
       "             'ABDOMEN': 1,\n",
       "             'ABDOMINAL': 1,\n",
       "             'ACUTE': 1,\n",
       "             'ADMIN': 1,\n",
       "             'ADMINISTRATION': 1,\n",
       "             'ADRENAL': 1,\n",
       "             'AFTER': 1,\n",
       "             'AND': 1,\n",
       "             'AORTA': 1,\n",
       "             'APPENDICITIS': 1,\n",
       "             'ARE': 1,\n",
       "             'AS': 1,\n",
       "             'ASCITES': 1,\n",
       "             'ATHEROSCLEROSIS': 1,\n",
       "             'ATTENUATION': 1,\n",
       "             'AXIAL': 1,\n",
       "             'BASES': 1,\n",
       "             'BILIARY': 1,\n",
       "             'BLADDER': 1,\n",
       "             'BLASTIC': 1,\n",
       "             'BONY': 1,\n",
       "             'BOTH': 1,\n",
       "             'BOWEL': 1,\n",
       "             'BRANCHES': 1,\n",
       "             'BY': 1,\n",
       "             'CALCIFICATIONS': 1,\n",
       "             'CALCULI': 1,\n",
       "             'CHANGES': 1,\n",
       "             'CHARACTERISTICS': 1,\n",
       "             'CHOLECYSTECTOMY': 1,\n",
       "             'CLINICAL': 1,\n",
       "             'COMMENTS': 1,\n",
       "             'COMPATIBLE': 1,\n",
       "             'CONFIGURATION': 1,\n",
       "             'CONTAINING': 1,\n",
       "             'CONTOUR': 1,\n",
       "             'CONTRAST': 1,\n",
       "             'CT': 1,\n",
       "             'DATE': 1,\n",
       "             'DAVID': 1,\n",
       "             'DEGENERATIVE': 1,\n",
       "             'DIFFUSE': 1,\n",
       "             'DILATATION': 1,\n",
       "             'DISCUSSED': 1,\n",
       "             'DIVERTICULITIS': 1,\n",
       "             'DOB': 1,\n",
       "             'DOE': 1,\n",
       "             'DR': 1,\n",
       "             'DUCTAL': 1,\n",
       "             'EFFUSIONS': 1,\n",
       "             'ENTERITIS': 1,\n",
       "             'EVIDENCE': 1,\n",
       "             'EXAM': 1,\n",
       "             'EXTRAHEPATIC': 1,\n",
       "             'EXTRINSIC': 1,\n",
       "             'FAT': 1,\n",
       "             'FATTY': 1,\n",
       "             'FAX': 1,\n",
       "             'FLUID-FILLED': 1,\n",
       "             'FOR': 1,\n",
       "             'FREE': 1,\n",
       "             'GROSSLY': 1,\n",
       "             'HEPATIC': 1,\n",
       "             'HERNIA': 1,\n",
       "             'HISTORY': 1,\n",
       "             'HYDRONEPHROSIS': 1,\n",
       "             'HYDROURETER': 1,\n",
       "             'HYPOATTENUATION': 1,\n",
       "             'IDENTIFIED': 1,\n",
       "             'IMAGES': 1,\n",
       "             'IMPRESSION': 1,\n",
       "             'IN': 1,\n",
       "             'INFILTRATION': 1,\n",
       "             'INFLAMMATORY': 1,\n",
       "             'INTRA': 1,\n",
       "             'INTRINSIC': 1,\n",
       "             'INVOLVING': 1,\n",
       "             'IS': 1,\n",
       "             'JD4USARAD': 1,\n",
       "             'JOHN': 1,\n",
       "             'KIDNEYS': 1,\n",
       "             'LARGE': 1,\n",
       "             'LESIONS': 1,\n",
       "             'LINGULA': 1,\n",
       "             'LIVER': 1,\n",
       "             'LIVESEY': 1,\n",
       "             'LOBE': 1,\n",
       "             'LOOPS': 1,\n",
       "             'LUNG': 1,\n",
       "             'LYMPHADENOPATHY': 1,\n",
       "             'LYTIC': 1,\n",
       "             'MAJOR': 1,\n",
       "             'MASS': 1,\n",
       "             'MATERIAL': 1,\n",
       "             'MIDDLE': 1,\n",
       "             'MILD': 1,\n",
       "             'MODERATE': 1,\n",
       "             'MRN': 1,\n",
       "             'MULTILEVEL': 1,\n",
       "             'MULTIPLE': 1,\n",
       "             'NO': 1,\n",
       "             'NORMAL': 1,\n",
       "             'OBSTRUCTION': 1,\n",
       "             'OBTAINED': 1,\n",
       "             'OF': 1,\n",
       "             'ON': 1,\n",
       "             'ONLY': 1,\n",
       "             'OR': 1,\n",
       "             'ORAL': 1,\n",
       "             'OVARIES': 1,\n",
       "             'PAIN': 1,\n",
       "             'PANCREAS': 1,\n",
       "             'PARENCHYMAL': 1,\n",
       "             'PATIENT': 1,\n",
       "             'PELVIC': 1,\n",
       "             'PELVIS': 1,\n",
       "             'PHYSICIAN': 1,\n",
       "             'PLEURAL': 1,\n",
       "             'PM': 1,\n",
       "             'POST': 1,\n",
       "             'PRESENT': 1,\n",
       "             'PROCESS': 1,\n",
       "             'RADIOLOGIST': 1,\n",
       "             'REFERRING': 1,\n",
       "             'RENAL': 1,\n",
       "             'RIGHT': 1,\n",
       "             'SCARRING': 1,\n",
       "             'SCATTERED': 1,\n",
       "             'SEEN': 1,\n",
       "             'SEVERAL': 1,\n",
       "             'SHAPE': 1,\n",
       "             'SHOW': 1,\n",
       "             'SIGNED': 1,\n",
       "             'SIZE': 1,\n",
       "             'SIZED': 1,\n",
       "             'SMALL': 1,\n",
       "             'SPINE': 1,\n",
       "             'SPLEEN': 1,\n",
       "             'STATUS': 1,\n",
       "             'STRUCTURES': 1,\n",
       "             'SUPRAUMBILICAL': 1,\n",
       "             'TECHNIQUE': 1,\n",
       "             'THE': 1,\n",
       "             'THERE': 1,\n",
       "             'THICKENING': 1,\n",
       "             'THORACOLUMBAR': 1,\n",
       "             'THROUGH': 1,\n",
       "             'UMBILICAL': 1,\n",
       "             'UNREMARKABLE': 1,\n",
       "             'URETERAL': 1,\n",
       "             'UTERUS': 1,\n",
       "             'WALL': 1,\n",
       "             'WELL': 1,\n",
       "             'WERE': 1,\n",
       "             'WITH': 1})"
      ]
     },
     "execution_count": 5,
     "metadata": {},
     "output_type": "execute_result"
    }
   ],
   "source": [
    "from collections import defaultdict\n",
    "\n",
    "def count_words_v2(x):\n",
    "    x = x.upper().replace(\". \",\" \").replace('.\"',\" \").replace(\".'\", \" \").replace(\": \",\" \").replace(\":\\n\",\" \").replace(\", \",\" \").replace(\".\\n\",\" \").replace(\"\\n\",\" \").replace(\"\\t\",\" \").replace(\"**\",\" \").replace(\".\",\"\").split()    \n",
    "    WC = defaultdict(lambda:0)\n",
    "    wordset = set(x)\n",
    "    for word in wordset:\n",
    "        WC[word]+=1\n",
    "        \n",
    "    return WC\n",
    "\n",
    "count_words_v2(report)\n"
   ]
  },
  {
   "cell_type": "code",
   "execution_count": null,
   "metadata": {
    "collapsed": true,
    "deletable": false,
    "editable": false,
    "nbgrader": {
     "checksum": "469b0205c7cf244a34e28c92fbc5b5d6",
     "grade": true,
     "grade_id": "cell-e56cdb614c78eb19",
     "locked": true,
     "points": 25,
     "schema_version": 1,
     "solution": false
    }
   },
   "outputs": [],
   "source": []
  },
  {
   "cell_type": "code",
   "execution_count": 6,
   "metadata": {
    "collapsed": true,
    "deletable": false,
    "editable": false,
    "nbgrader": {
     "checksum": "0b768b9530fe38627e3ecb0f4e69a830",
     "grade": true,
     "grade_id": "cell-1edbfbd3d33241c2",
     "locked": true,
     "points": 5,
     "schema_version": 1,
     "solution": false
    }
   },
   "outputs": [],
   "source": [
    "assert_true(type(count_words_v2(report))==defaultdict)\n"
   ]
  },
  {
   "cell_type": "markdown",
   "metadata": {
    "deletable": false,
    "editable": false,
    "nbgrader": {
     "checksum": "fd11c5c0940838a236e249893395512e",
     "grade": false,
     "grade_id": "cell-705f60f21b861f52",
     "locked": true,
     "schema_version": 1,
     "solution": false
    }
   },
   "source": [
    "**Problem 3 (50 points):** Modify `count_kmers` below as follows:\n",
    "\n",
    "### Arguments\n",
    "\n",
    "* `count_kmers` takes as a **positional argument** named `sequences` a dictionary of sequences\n",
    "* `count_kmers` takes as a **keyword_argument** named `kmers` a tuple of kmers. The default tuple should be a tuple with the single kmer 'A'\n",
    "\n",
    "### Return value\n",
    "\n",
    "* `count_kmers` returns a dictionary with the keys corresponding to the keys of `sequences` and as values a dictionary with keys the valid kmers (valid DNA kmer) provided in the keyword argument `kmers` and as values the frequency count for that kmer in the corresponding sequence. (We will be returning a dictionary of dictionaries."
   ]
  },
  {
   "cell_type": "code",
   "execution_count": 15,
   "metadata": {},
   "outputs": [
    {
     "ename": "NameError",
     "evalue": "name 'count' is not defined",
     "output_type": "error",
     "traceback": [
      "\u001b[0;31m---------------------------------------------------------------------------\u001b[0m",
      "\u001b[0;31mNameError\u001b[0m                                 Traceback (most recent call last)",
      "\u001b[0;32m<ipython-input-15-e363061ff2b6>\u001b[0m in \u001b[0;36m<module>\u001b[0;34m()\u001b[0m\n\u001b[0;32m----> 1\u001b[0;31m \u001b[0;34m{\u001b[0m\u001b[0;34m\"seq1\"\u001b[0m\u001b[0;34m:\u001b[0m\u001b[0;34m{\u001b[0m\u001b[0;34m\"CATG\"\u001b[0m\u001b[0;34m:\u001b[0m\u001b[0mcount\u001b[0m\u001b[0;34m}\u001b[0m\u001b[0;34m}\u001b[0m\u001b[0;34m\u001b[0m\u001b[0m\n\u001b[0m\u001b[1;32m      2\u001b[0m \u001b[0;34m{\u001b[0m\u001b[0;34m\"seq2\"\u001b[0m\u001b[0;34m:\u001b[0m\u001b[0;34m{\u001b[0m\u001b[0;34m\"CATG\"\u001b[0m\u001b[0;34m:\u001b[0m\u001b[0mcount\u001b[0m\u001b[0;34m}\u001b[0m\u001b[0;34m}\u001b[0m\u001b[0;34m\u001b[0m\u001b[0m\n\u001b[1;32m      3\u001b[0m \u001b[0;34m{\u001b[0m\u001b[0;34m\"seq3\"\u001b[0m\u001b[0;34m:\u001b[0m\u001b[0;34m{\u001b[0m\u001b[0;34m\"CATG\"\u001b[0m\u001b[0;34m:\u001b[0m\u001b[0mcount\u001b[0m\u001b[0;34m}\u001b[0m\u001b[0;34m}\u001b[0m\u001b[0;34m\u001b[0m\u001b[0m\n",
      "\u001b[0;31mNameError\u001b[0m: name 'count' is not defined"
     ]
    }
   ],
   "source": [
    "{\"seq1\":{\"CATG\":count}}\n",
    "{\"seq2\":{\"CATG\":count}}\n",
    "{\"seq3\":{\"CATG\":count}}"
   ]
  },
  {
   "cell_type": "code",
   "execution_count": 7,
   "metadata": {
    "collapsed": true,
    "deletable": false,
    "editable": false,
    "nbgrader": {
     "checksum": "9b6b53f5a810e349b4f75df13cef3322",
     "grade": false,
     "grade_id": "cell-093d58e53fdc3966",
     "locked": true,
     "schema_version": 1,
     "solution": false
    }
   },
   "outputs": [],
   "source": [
    "# the \"\\\" character can be used as a line continuation in PPython\n",
    "sequence1 = \\\n",
    "\"\"\"AGTTGTTAGTCTACGTGGACCGACAAGAACAGTTTCGAATCGGAAGCTTGCTTAACGTAGTTCTAACAGT\n",
    "TTTTTATTAGAGAGCAGATCTCTGATGAACAACCAACGGAAAAAGACGGGTCGACCGTCTTTCAATATGC\"\"\"\n",
    "sequence2= \\\n",
    "\"\"\"TGAAACGCGCGAGAAACCGCGTGTCAACTGTTTCACAGTTGGCGAAGAGATTCTCAAAAGGATTGCTTTC\n",
    "AGGCCAAGGACCCATGAAATTGGTGATGGCTTTTATAGCATTCCTAAGATTTCTAGCCATACC\"\"\"\n",
    "sequence3= \\\n",
    "\"\"\"GCAGGAATTTTGGCTAGATGGGGCTCATTCAAGAAGAATGGAGCGATCAAAGTGTTACGGGTCAAGA\n",
    "AAGAAATCTCAAACATGTTGAACATAATGAACAGGAGGAAAAGATCTGTGACCATGCTCCTCATGCTGCT\"\"\"\n",
    "sequence4= \\\n",
    "\"\"\"GCCCACAGCCCTGGCGTTCCATCTGACCACCCGAGGGGGAGAGCCGCACATGATAGTTAGCAAGCAGGAA\n",
    "AGAGGAAAATCACTTTTGTTTAAGACCTCTGCAGGTGTCAACATGTGCACCCTTATTGCAATGGATTTGG\n",
    "GAGAGTTATGTGAGGACACAATGACCTACAAATGCCCCCGGATCACTGAGACGGAACCAGATGACGTTGA\n",
    "CTGTTGGTGCAATGCCACGGAGACATGGGTGACCTATGGAACATGTTCTCAAACTGGTGAACACCGACGA\n",
    "GACAAACGTTCCGTCGCACTGGCACCACACGTAGGGCTTGGTCTAGAAACAAGAACCGAAACGTGGATGT\"\"\"\n"
   ]
  },
  {
   "cell_type": "code",
   "execution_count": 9,
   "metadata": {},
   "outputs": [
    {
     "data": {
      "text/plain": [
       "{'seq1': {'ACTG': 0, 'CAAC': 2, 'GGG': 1},\n",
       " 'seq2': {'ACTG': 1, 'CAAC': 1, 'GGG': 0},\n",
       " 'seq3': {'ACTG': 0, 'CAAC': 0, 'GGG': 2}}"
      ]
     },
     "execution_count": 9,
     "metadata": {},
     "output_type": "execute_result"
    }
   ],
   "source": [
    "sequences = {\"seq1\":sequence1, \"seq2\":sequence2, \"seq3\":sequence3}\n",
    "def count_kmers(sequences,kmers=(\"A\",)):\n",
    "    \n",
    "    DNA_set = {\"A\",\"T\",\"G\",\"C\"}\n",
    "    dict1 = {}\n",
    "    \n",
    "        #kmers = set(kmers)\n",
    "        \n",
    "    for s in sequences:\n",
    "        #seq=seq.remove(\"/n\")\n",
    "        current_sequence = sequences[s] \n",
    "        dict2={}\n",
    "        for kmer in set(kmers):\n",
    "            if set(kmer).issubset(DNA_set):\n",
    "\n",
    "                a = current_sequence.count(kmer)\n",
    "\n",
    "                dict2[kmer] = a\n",
    "\n",
    "        #values[a] += 1\n",
    "\n",
    "        dict1[s] = dict2\n",
    "    \n",
    "    return dict1\n",
    "    \n",
    "\n",
    "count_kmers(sequences,kmers=(\"ACTG\", \"CAAC\", \"CBG\", \"GGG\"))"
   ]
  },
  {
   "cell_type": "code",
   "execution_count": null,
   "metadata": {
    "deletable": false,
    "nbgrader": {
     "checksum": "4055b41b4299a56482b4aee8a908ccc5",
     "grade": false,
     "grade_id": "cell-9e502a6f6df8ba6d",
     "locked": false,
     "schema_version": 1,
     "solution": true
    }
   },
   "outputs": [],
   "source": []
  },
  {
   "cell_type": "code",
   "execution_count": 10,
   "metadata": {
    "deletable": false,
    "editable": false,
    "nbgrader": {
     "checksum": "11a7a21b143812ee4c0260199bc98df6",
     "grade": true,
     "grade_id": "cell-26e41e1487f1c9ea",
     "locked": true,
     "points": 0,
     "schema_version": 1,
     "solution": false
    }
   },
   "outputs": [],
   "source": [
    "sequences = {\"seq1\":sequence1, \"seq2\":sequence2, \"seq3\":sequence3}\n",
    "rslts = count_kmers(sequences,kmers=(\"ACTG\", \"CAAC\", \"CBG\", \"GGG\"))\n",
    "assert_true(type(rslts)==dict)\n",
    "assert_true(\"seq1\" in rslts)\n",
    "assert_false(\"CGB\" in rslts[\"seq1\"])\n",
    "assert_equal(rslts[\"seq1\"][\"GGG\"],1)"
   ]
  },
  {
   "cell_type": "code",
   "execution_count": null,
   "metadata": {
    "collapsed": true,
    "deletable": false,
    "editable": false,
    "nbgrader": {
     "checksum": "ca79264fc5a9577879a6d77b41b3fcec",
     "grade": true,
     "grade_id": "cell-e63bfcabe80c7acc",
     "locked": true,
     "points": 10,
     "schema_version": 1,
     "solution": false
    }
   },
   "outputs": [],
   "source": []
  },
  {
   "cell_type": "code",
   "execution_count": null,
   "metadata": {
    "collapsed": true,
    "deletable": false,
    "editable": false,
    "nbgrader": {
     "checksum": "68376ef2b2a26e1ceec4447ba459484c",
     "grade": true,
     "grade_id": "cell-d0aa3fc870398bf1",
     "locked": true,
     "points": 10,
     "schema_version": 1,
     "solution": false
    }
   },
   "outputs": [],
   "source": []
  },
  {
   "cell_type": "code",
   "execution_count": null,
   "metadata": {
    "collapsed": true,
    "deletable": false,
    "editable": false,
    "nbgrader": {
     "checksum": "975b056b150088e61eedbf2c29d2df86",
     "grade": true,
     "grade_id": "cell-84bd1f44222f31ca",
     "locked": true,
     "points": 10,
     "schema_version": 1,
     "solution": false
    }
   },
   "outputs": [],
   "source": []
  },
  {
   "cell_type": "code",
   "execution_count": null,
   "metadata": {
    "collapsed": true,
    "deletable": false,
    "editable": false,
    "nbgrader": {
     "checksum": "58762f1f796ddb9eb4f2992e67514e30",
     "grade": true,
     "grade_id": "cell-ff0772453948090b",
     "locked": true,
     "points": 10,
     "schema_version": 1,
     "solution": false
    }
   },
   "outputs": [],
   "source": []
  },
  {
   "cell_type": "code",
   "execution_count": null,
   "metadata": {
    "collapsed": true,
    "deletable": false,
    "editable": false,
    "nbgrader": {
     "checksum": "925a2bf50b709ef704db200b17daba04",
     "grade": true,
     "grade_id": "cell-910e692147050370",
     "locked": true,
     "points": 10,
     "schema_version": 1,
     "solution": false
    }
   },
   "outputs": [],
   "source": []
  },
  {
   "cell_type": "code",
   "execution_count": null,
   "metadata": {
    "collapsed": true
   },
   "outputs": [],
   "source": []
  }
 ],
 "metadata": {
  "anaconda-cloud": {},
  "kernelspec": {
   "display_name": "Python 3",
   "language": "python",
   "name": "python3"
  },
  "language_info": {
   "codemirror_mode": {
    "name": "ipython",
    "version": 3
   },
   "file_extension": ".py",
   "mimetype": "text/x-python",
   "name": "python",
   "nbconvert_exporter": "python",
   "pygments_lexer": "ipython3",
   "version": "3.5.2"
  }
 },
 "nbformat": 4,
 "nbformat_minor": 1
}
