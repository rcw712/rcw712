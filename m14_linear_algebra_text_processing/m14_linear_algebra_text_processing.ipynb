{
 "cells": [
  {
   "cell_type": "markdown",
   "metadata": {
    "deletable": false,
    "editable": false,
    "nbgrader": {
     "checksum": "1382e56b6cb2ec4c33f6ddb0094dbc9a",
     "grade": false,
     "grade_id": "cell-8d8af265a76185ee",
     "locked": true,
     "schema_version": 1,
     "solution": false
    }
   },
   "source": [
    "# M14-Linear Algebra and Text Processing\n"
   ]
  },
  {
   "cell_type": "code",
   "execution_count": null,
   "metadata": {
    "collapsed": true,
    "deletable": false,
    "editable": false,
    "nbgrader": {
     "checksum": "76f90188d266cf183a7901c34cf90fec",
     "grade": false,
     "grade_id": "cell-419ac0d7d0356b28",
     "locked": true,
     "schema_version": 1,
     "solution": false
    }
   },
   "outputs": [],
   "source": [
    "from nose.tools import assert_almost_equal, assert_true, assert_equal, assert_raises\n",
    "from numbers import Number"
   ]
  },
  {
   "cell_type": "code",
   "execution_count": null,
   "metadata": {
    "collapsed": true,
    "deletable": false,
    "editable": false,
    "nbgrader": {
     "checksum": "98a5a03902063c36f36d9ef4684988e5",
     "grade": false,
     "grade_id": "cell-87c89057dabd92d1",
     "locked": true,
     "schema_version": 1,
     "solution": false
    }
   },
   "outputs": [],
   "source": [
    "\n",
    "import numpy as np\n",
    "import locale\n",
    "import os\n",
    "import re\n",
    "import pandas as pd\n",
    "from textblob import TextBlob"
   ]
  },
  {
   "cell_type": "markdown",
   "metadata": {
    "deletable": false,
    "editable": false,
    "nbgrader": {
     "checksum": "1e3725fab6dd116ab09a32e0aa9afa11",
     "grade": false,
     "grade_id": "cell-8129afdcbbc29f07",
     "locked": true,
     "schema_version": 1,
     "solution": false
    }
   },
   "source": [
    "## **Problem 1 (30 points).** Compute the Euclidean norm for each of the following vectors\n",
    "$$v_1= \\begin{bmatrix}5\\\\-1\\\\1\\\\0\\\\-5\\end{bmatrix}$$"
   ]
  },
  {
   "cell_type": "code",
   "execution_count": null,
   "metadata": {
    "deletable": false,
    "nbgrader": {
     "checksum": "9d5fd38aa5d6ada2ec7bbc4be13d684c",
     "grade": false,
     "grade_id": "cell-a6478b7ec3a92650",
     "locked": false,
     "schema_version": 1,
     "solution": true
    }
   },
   "outputs": [],
   "source": [
    "norm_v1 = None\n",
    "# YOUR CODE HERE\n",
    "raise NotImplementedError()"
   ]
  },
  {
   "cell_type": "code",
   "execution_count": null,
   "metadata": {
    "collapsed": true,
    "deletable": false,
    "editable": false,
    "nbgrader": {
     "checksum": "e90b904d0749efc024e173d241104a2f",
     "grade": true,
     "grade_id": "cell-ad2a0780d41f1604",
     "locked": true,
     "points": 5,
     "schema_version": 1,
     "solution": false
    }
   },
   "outputs": [],
   "source": []
  },
  {
   "cell_type": "markdown",
   "metadata": {
    "deletable": false,
    "editable": false,
    "nbgrader": {
     "checksum": "616db773cc6a7f3ef757e71746848c86",
     "grade": false,
     "grade_id": "cell-21c450fbde81fef5",
     "locked": true,
     "schema_version": 1,
     "solution": false
    }
   },
   "source": [
    "$$v_2= \\begin{bmatrix}2\\\\ 3\\\\ 9\\\\ 4\\end{bmatrix}$$"
   ]
  },
  {
   "cell_type": "code",
   "execution_count": null,
   "metadata": {
    "deletable": false,
    "nbgrader": {
     "checksum": "e0a991c71ea7fcd8e1308e98c6a7fb01",
     "grade": false,
     "grade_id": "cell-9ff294fdc8569f5f",
     "locked": false,
     "schema_version": 1,
     "solution": true
    }
   },
   "outputs": [],
   "source": [
    "norm_v2 = None\n",
    "# YOUR CODE HERE\n",
    "raise NotImplementedError()"
   ]
  },
  {
   "cell_type": "code",
   "execution_count": null,
   "metadata": {
    "collapsed": true,
    "deletable": false,
    "editable": false,
    "nbgrader": {
     "checksum": "732831f41a6b8c5772a29afd1e49bdd8",
     "grade": true,
     "grade_id": "cell-434d1ea8b5b3b611",
     "locked": true,
     "points": 5,
     "schema_version": 1,
     "solution": false
    }
   },
   "outputs": [],
   "source": []
  },
  {
   "cell_type": "markdown",
   "metadata": {
    "deletable": false,
    "editable": false,
    "nbgrader": {
     "checksum": "cff5928ffd6c54f0bbbc2a7cf88c1377",
     "grade": false,
     "grade_id": "cell-8964bee7f0cfd2d9",
     "locked": true,
     "schema_version": 1,
     "solution": false
    }
   },
   "source": [
    "$$v_3=\\begin{bmatrix}-2, -3, -7, -5\\end{bmatrix}^T$$"
   ]
  },
  {
   "cell_type": "code",
   "execution_count": null,
   "metadata": {
    "deletable": false,
    "nbgrader": {
     "checksum": "ccfdf16891c13b9a994b4fb600c3cd63",
     "grade": false,
     "grade_id": "cell-cd0f275d78bbb4e8",
     "locked": false,
     "schema_version": 1,
     "solution": true
    }
   },
   "outputs": [],
   "source": [
    "norm_v3 = None\n",
    "# YOUR CODE HERE\n",
    "raise NotImplementedError()"
   ]
  },
  {
   "cell_type": "code",
   "execution_count": null,
   "metadata": {
    "collapsed": true,
    "deletable": false,
    "editable": false,
    "nbgrader": {
     "checksum": "c39c9960c54b0fa881c558f70f85b2e2",
     "grade": true,
     "grade_id": "cell-d497c7df9689ab25",
     "locked": true,
     "points": 5,
     "schema_version": 1,
     "solution": false
    }
   },
   "outputs": [],
   "source": []
  },
  {
   "cell_type": "markdown",
   "metadata": {
    "deletable": false,
    "editable": false,
    "nbgrader": {
     "checksum": "21ac4616da95af2d74551df68f7acae2",
     "grade": false,
     "grade_id": "cell-0832692d72312f50",
     "locked": true,
     "schema_version": 1,
     "solution": false
    }
   },
   "source": [
    "$$v_4=\\begin{bmatrix}-10,   6,   8,   0,  -8,   7\\end{bmatrix}^T$$"
   ]
  },
  {
   "cell_type": "code",
   "execution_count": null,
   "metadata": {
    "deletable": false,
    "nbgrader": {
     "checksum": "64b21e95bbe82dfca1cf9a94989180fe",
     "grade": false,
     "grade_id": "cell-bfa8dab17de5edd2",
     "locked": false,
     "schema_version": 1,
     "solution": true
    }
   },
   "outputs": [],
   "source": [
    "norm_v4 = None\n",
    "# YOUR CODE HERE\n",
    "raise NotImplementedError()"
   ]
  },
  {
   "cell_type": "code",
   "execution_count": null,
   "metadata": {
    "collapsed": true,
    "deletable": false,
    "editable": false,
    "nbgrader": {
     "checksum": "355fb6ff7811782f5573504b2029a511",
     "grade": true,
     "grade_id": "cell-5c75bf7b9ff1c3a6",
     "locked": true,
     "points": 5,
     "schema_version": 1,
     "solution": false
    }
   },
   "outputs": [],
   "source": []
  },
  {
   "cell_type": "markdown",
   "metadata": {
    "deletable": false,
    "editable": false,
    "nbgrader": {
     "checksum": "5a0183d7c52ba7e261fde033d841edc3",
     "grade": false,
     "grade_id": "cell-04f7ddfd91e85d71",
     "locked": true,
     "schema_version": 1,
     "solution": false
    }
   },
   "source": [
    "$$v_5=\\begin{bmatrix}6,  -5,  -7, -10,  -6,  -2,  -2\\end{bmatrix}^T$$"
   ]
  },
  {
   "cell_type": "code",
   "execution_count": null,
   "metadata": {
    "deletable": false,
    "nbgrader": {
     "checksum": "ef08371a48a3fccfd688795602dfcc21",
     "grade": false,
     "grade_id": "cell-3dba6ad4d4c10d98",
     "locked": false,
     "schema_version": 1,
     "solution": true
    }
   },
   "outputs": [],
   "source": [
    "norm_v5 = None\n",
    "# YOUR CODE HERE\n",
    "raise NotImplementedError()"
   ]
  },
  {
   "cell_type": "code",
   "execution_count": null,
   "metadata": {
    "collapsed": true,
    "deletable": false,
    "editable": false,
    "nbgrader": {
     "checksum": "fd00c2c2b8591de7ec6a21f0790d5e7e",
     "grade": true,
     "grade_id": "cell-76ce9e33ddc2be7d",
     "locked": true,
     "points": 5,
     "schema_version": 1,
     "solution": false
    }
   },
   "outputs": [],
   "source": []
  },
  {
   "cell_type": "markdown",
   "metadata": {
    "deletable": false,
    "editable": false,
    "nbgrader": {
     "checksum": "ba7d0c43d905382a0a44c0e1fb16bbe0",
     "grade": false,
     "grade_id": "cell-2ba53c905cfb70ec",
     "locked": true,
     "schema_version": 1,
     "solution": false
    }
   },
   "source": [
    "$$v_6= \\begin{bmatrix}4\\\\  2\\\\ -8\\end{bmatrix}$$"
   ]
  },
  {
   "cell_type": "code",
   "execution_count": null,
   "metadata": {
    "deletable": false,
    "nbgrader": {
     "checksum": "c1d87d620dd6b3366ddf05317a14103d",
     "grade": false,
     "grade_id": "cell-d64b453ea8f9a487",
     "locked": false,
     "schema_version": 1,
     "solution": true
    }
   },
   "outputs": [],
   "source": [
    "norm_v6 = None\n",
    "# YOUR CODE HERE\n",
    "raise NotImplementedError()"
   ]
  },
  {
   "cell_type": "code",
   "execution_count": null,
   "metadata": {
    "collapsed": true,
    "deletable": false,
    "editable": false,
    "nbgrader": {
     "checksum": "258ec43a483f2d70de8bd989392e6863",
     "grade": true,
     "grade_id": "cell-6f697996025dbafb",
     "locked": true,
     "points": 5,
     "schema_version": 1,
     "solution": false
    }
   },
   "outputs": [],
   "source": []
  },
  {
   "cell_type": "markdown",
   "metadata": {
    "deletable": false,
    "editable": false,
    "nbgrader": {
     "checksum": "e72c47456eb67245bb4714c075a450da",
     "grade": false,
     "grade_id": "cell-b541fd216d545d8c",
     "locked": true,
     "schema_version": 1,
     "solution": false
    }
   },
   "source": [
    "## Problem #2 (10 points)\n",
    "\n",
    "One of the limitations of word vectors as we have pictured them is [sparsity](https://en.wikipedia.org/wiki/Sparse_array): while our vocabulary is large (tens or hundreds of thousands of words), a typical document (e.g. radiology report) only has tens or hundreds of unique words. Write a class (`sparsev`) that inherits from a `defaultdict` to represent a \"sparse\" vector. The keys would be the indicies to a vector and the values would be the word counts (how many times that word occurred in the document). The class should have an attribute `self.__dim` that indicates the dimension of the vector space (e.g. the dimension of the vocabulary). The class should have a property `dim` that returns the value in `__dim` the instance of `sparsev` represents. You should define the following methods for the class:\n",
    "\n",
    "1. `norm`: Accepts as an argument a number `p` (default value=2) and computes the [p-norm](https://en.wikipedia.org/wiki/Norm_(mathematics)#p-norm) of the vector.\n",
    "    1. If `p` is not a number, raise a `ValueError`.\n",
    "    1. If $p \\le 0$, raise a `ValueError`.\n",
    "1. `cosine_sim`: Accepts as an argument an instance of a `sparsev`.\n",
    "    1. If the two `sparsev` instances do not have the same `dim` raise a ValueError\n",
    "    1. If you get a `ZeroDivisionError`, return `np.nan`\n",
    "    1. Note that the range of `arccos` is -1 to 1. Because of floating point arithmetic issues, you may have arguments that should be equal to 1 but are slightly larger. This will result in `arccos` returning a `np.nan`. In these cases, return a 0 (zero).\n",
    "1. a `__str__` method that shows the dimension of the vector as well as the elements (key/value pairs)."
   ]
  },
  {
   "cell_type": "code",
   "execution_count": null,
   "metadata": {
    "deletable": false,
    "nbgrader": {
     "checksum": "e2d9059c8cb2338e61e2997c230febb6",
     "grade": false,
     "grade_id": "cell-f1fea9da269ff9c8",
     "locked": false,
     "schema_version": 1,
     "solution": true
    }
   },
   "outputs": [],
   "source": [
    "from collections import defaultdict\n",
    "class sparsev(defaultdict):\n",
    "    # YOUR CODE HERE\n",
    "    raise NotImplementedError()"
   ]
  },
  {
   "cell_type": "code",
   "execution_count": null,
   "metadata": {
    "deletable": false,
    "editable": false,
    "nbgrader": {
     "checksum": "ae43c259a44227d1f3657c60955417ab",
     "grade": true,
     "grade_id": "cell-85cf56d46b804354",
     "locked": true,
     "points": 2,
     "schema_version": 1,
     "solution": false
    }
   },
   "outputs": [],
   "source": [
    "tmp1 = sparsev(int, dim=5)\n",
    "tmp2 = sparsev(int, dim=3)\n",
    "assert_raises(ValueError, tmp1.inner, tmp2)"
   ]
  },
  {
   "cell_type": "code",
   "execution_count": null,
   "metadata": {
    "deletable": false,
    "editable": false,
    "nbgrader": {
     "checksum": "06226d9757a9d4382b342db2d930556f",
     "grade": true,
     "grade_id": "cell-2cf3c3a9702cffd6",
     "locked": true,
     "points": 2,
     "schema_version": 1,
     "solution": false
    }
   },
   "outputs": [],
   "source": [
    "tmp1 = sparsev(int, dim=10)\n",
    "tmp2 = sparsev(int, dim=10)\n",
    "tmp1[\"Brian\"] = 3\n",
    "tmp1[\"Wendy\"] = 4\n",
    "tmp2[\"Argos\"] = 9\n",
    "tmp2[\"Helios\"] = 2\n",
    "tmp1.inner(tmp2)\n",
    "assert_almost_equal(tmp1.inner(tmp2), 0)"
   ]
  },
  {
   "cell_type": "code",
   "execution_count": null,
   "metadata": {
    "deletable": false,
    "editable": false,
    "nbgrader": {
     "checksum": "5716e9d22c09266e59978d4d541cc521",
     "grade": true,
     "grade_id": "cell-b2b379dea7ae8b65",
     "locked": true,
     "points": 2,
     "schema_version": 1,
     "solution": false
    }
   },
   "outputs": [],
   "source": [
    "tmp1 = sparsev(int, dim=10)\n",
    "tmp2 = sparsev(int, dim=10)\n",
    "tmp1[\"Brian\"] = 3\n",
    "tmp1[\"Wendy\"] = 4\n",
    "tmp2[\"Argos\"] = 9\n",
    "tmp2[\"Brian\"] = 2\n",
    "tmp1.inner(tmp2)\n",
    "assert_almost_equal(tmp1.inner(tmp2), 6)\n"
   ]
  },
  {
   "cell_type": "code",
   "execution_count": null,
   "metadata": {
    "deletable": false,
    "editable": false,
    "nbgrader": {
     "checksum": "6213ade7168c801a2786443df6aad96e",
     "grade": true,
     "grade_id": "cell-0e7ee13238dd6021",
     "locked": true,
     "points": 2,
     "schema_version": 1,
     "solution": false
    }
   },
   "outputs": [],
   "source": [
    "tmp1 = sparsev(int, dim=5)\n",
    "tmp2 = sparsev(int, dim=3)\n",
    "assert_true(\"5\" in tmp1.__str__())"
   ]
  },
  {
   "cell_type": "code",
   "execution_count": null,
   "metadata": {
    "collapsed": true,
    "deletable": false,
    "editable": false,
    "nbgrader": {
     "checksum": "81a81c3a78ee3b65924c2f74b88b80ae",
     "grade": true,
     "grade_id": "cell-dfc8f135d643db11",
     "locked": true,
     "points": 2,
     "schema_version": 1,
     "solution": false
    }
   },
   "outputs": [],
   "source": [
    "tmp1 = sparsev(int, dim=5)\n",
    "tmp2 = sparsev(int, dim=3)\n",
    "assert_true(\"3\" in tmp2.__str__())"
   ]
  },
  {
   "cell_type": "markdown",
   "metadata": {
    "deletable": false,
    "editable": false,
    "nbgrader": {
     "checksum": "a62cd1c2cb72380dbdb3e38552ffccf0",
     "grade": false,
     "grade_id": "cell-3bb64a8c40f7f0c4",
     "locked": true,
     "schema_version": 1,
     "solution": false
    }
   },
   "source": [
    "## Test on MIMIC2 radiology reports"
   ]
  },
  {
   "cell_type": "code",
   "execution_count": null,
   "metadata": {
    "collapsed": true,
    "deletable": false,
    "editable": false,
    "nbgrader": {
     "checksum": "47a693df245dfb847bd8ab6a48d119b9",
     "grade": false,
     "grade_id": "cell-67444da88453ad4f",
     "locked": true,
     "schema_version": 1,
     "solution": false
    }
   },
   "outputs": [],
   "source": [
    "import pymysql\n",
    "import pandas as pd\n",
    "import getpass\n",
    "from textblob import TextBlob"
   ]
  },
  {
   "cell_type": "code",
   "execution_count": null,
   "metadata": {
    "deletable": false,
    "editable": false,
    "nbgrader": {
     "checksum": "7acc4bbc12a8ed9ef5e1e2a464797e5d",
     "grade": false,
     "grade_id": "cell-44facc76cc3c2b94",
     "locked": true,
     "schema_version": 1,
     "solution": false
    }
   },
   "outputs": [],
   "source": [
    "conn = pymysql.connect(host=\"mysql\",\n",
    "                       port=3306,user=\"jovyan\",\n",
    "                       passwd=\"jovyan\",db='mimic2')\n",
    "cursor = conn.cursor()"
   ]
  },
  {
   "cell_type": "markdown",
   "metadata": {
    "deletable": false,
    "editable": false,
    "nbgrader": {
     "checksum": "827a396f019b9e1a9aad386beaee5883",
     "grade": false,
     "grade_id": "cell-ae10cb62a78ae00c",
     "locked": true,
     "schema_version": 1,
     "solution": false
    }
   },
   "source": [
    "### Get some documents. Limit the query to keep corpus small for debugging"
   ]
  },
  {
   "cell_type": "code",
   "execution_count": null,
   "metadata": {
    "deletable": false,
    "editable": false,
    "nbgrader": {
     "checksum": "2cef11beba11e2e8a6fd54756678aafa",
     "grade": false,
     "grade_id": "cell-9598f115436d3f2e",
     "locked": true,
     "schema_version": 1,
     "solution": false
    }
   },
   "outputs": [],
   "source": [
    "rad_data = \\\n",
    "pd.read_sql(\"\"\"SELECT DISTINCT noteevents.subject_id, \n",
    "                      noteevents.hadm_id,\n",
    "                      noteevents.text \n",
    "               FROM noteevents\n",
    "               WHERE noteevents.category = 'RADIOLOGY_REPORT' \n",
    "               LIMIT 20000\"\"\",conn)\n",
    "rad_data.head(5)"
   ]
  },
  {
   "cell_type": "markdown",
   "metadata": {
    "deletable": false,
    "editable": false,
    "nbgrader": {
     "checksum": "e14d9f293795869a48d4dc2cc397d2da",
     "grade": false,
     "grade_id": "cell-477e05c11f506767",
     "locked": true,
     "schema_version": 1,
     "solution": false
    }
   },
   "source": [
    "## Create a vocabulary\n",
    "\n",
    "We are first going to replace all digits in the reports with a \"d\" and convert all characters to lower case. This reduces our vocabulary size by approximately half. We will then use `TextBlob` and sets to get all the unique words in our document. This is our vocabulary. The vocabulary is represented as a dictionary which we create with the `zip` function."
   ]
  },
  {
   "cell_type": "code",
   "execution_count": null,
   "metadata": {
    "deletable": false,
    "editable": false,
    "nbgrader": {
     "checksum": "ef81d3e79443c82e25a20f867fb9e086",
     "grade": false,
     "grade_id": "cell-392861773b762e8f",
     "locked": true,
     "schema_version": 1,
     "solution": false
    }
   },
   "outputs": [],
   "source": [
    "reports = re.sub(\"\\d\", \"d\", \" \".join([r.lower() for r in rad_data[\"text\"]]))\n",
    "\n",
    "words = set(TextBlob(reports).words)\n",
    "\n",
    "vocabulary = dict(zip(words,range(len(words))))\n",
    "print(len(vocabulary))"
   ]
  },
  {
   "cell_type": "code",
   "execution_count": null,
   "metadata": {
    "deletable": false,
    "editable": false,
    "nbgrader": {
     "checksum": "da8671f131d3e63c2631bf50bd885e9c",
     "grade": false,
     "grade_id": "cell-1feaca11eb5fbf7b",
     "locked": true,
     "schema_version": 1,
     "solution": false
    }
   },
   "outputs": [],
   "source": [
    "list(vocabulary.items())[:10]"
   ]
  },
  {
   "cell_type": "markdown",
   "metadata": {
    "deletable": false,
    "editable": false,
    "nbgrader": {
     "checksum": "bef4ff4ec44affd5857414f2bc7824e1",
     "grade": false,
     "grade_id": "cell-6df79c4b5cebeecb",
     "locked": true,
     "schema_version": 1,
     "solution": false
    }
   },
   "source": [
    "## Problem 3 (20 points):\n",
    "\n",
    "Write a function `doc2vec` that takes two arguments: a `txt` (a text to convert to a vector) and `voc` (the vocabulary). It returns a `sparsev` instance that is the representation of `txt` in the `voc` vector space. Because `txt` may contain words that are not in the vocabulary, you will need to do exception handling."
   ]
  },
  {
   "cell_type": "code",
   "execution_count": null,
   "metadata": {
    "deletable": false,
    "nbgrader": {
     "checksum": "1500ec1214d6361d74018db6cd099bb1",
     "grade": false,
     "grade_id": "cell-66383d25e8d92a2c",
     "locked": false,
     "schema_version": 1,
     "solution": true
    }
   },
   "outputs": [],
   "source": [
    "def doc2vec(txt, voc):\n",
    "    # YOUR CODE HERE\n",
    "    raise NotImplementedError()\n",
    "    "
   ]
  },
  {
   "cell_type": "code",
   "execution_count": null,
   "metadata": {
    "deletable": false,
    "editable": false,
    "nbgrader": {
     "checksum": "cedd7cd46684cb629f17cdf8d83cdef4",
     "grade": true,
     "grade_id": "cell-efcb973e15dfd825",
     "locked": true,
     "points": 5,
     "schema_version": 1,
     "solution": false
    }
   },
   "outputs": [],
   "source": [
    "v50 = doc2vec(re.sub(\"\\d\", \"d\", rad_data.loc[50,\"text\"]), vocabulary)\n",
    "v157 = doc2vec(re.sub(\"\\d\", \"d\", rad_data.loc[157,\"text\"]), vocabulary)\n",
    "assert_almost_equal(v50.norm(), 66.59579566308972)"
   ]
  },
  {
   "cell_type": "code",
   "execution_count": null,
   "metadata": {
    "deletable": false,
    "editable": false,
    "nbgrader": {
     "checksum": "567c6add4fb270618f6657cc10190a00",
     "grade": true,
     "grade_id": "cell-850b4f40ab65b8c8",
     "locked": true,
     "points": 5,
     "schema_version": 1,
     "solution": false
    }
   },
   "outputs": [],
   "source": [
    "v50 = doc2vec(re.sub(\"\\d\", \"d\", rad_data.loc[50,\"text\"]), vocabulary)\n",
    "v157 = doc2vec(re.sub(\"\\d\", \"d\", rad_data.loc[157,\"text\"]), vocabulary)\n",
    "assert_almost_equal(v157.norm(), 95.40440241414439)"
   ]
  },
  {
   "cell_type": "markdown",
   "metadata": {},
   "source": [
    "### Cosine similarity of a document with itself should be 1"
   ]
  },
  {
   "cell_type": "code",
   "execution_count": null,
   "metadata": {
    "deletable": false,
    "editable": false,
    "nbgrader": {
     "checksum": "5e3c2e2ca2f2019022ee8ee9becb9b38",
     "grade": true,
     "grade_id": "cell-84674721cc216b29",
     "locked": true,
     "points": 5,
     "schema_version": 1,
     "solution": false
    }
   },
   "outputs": [],
   "source": [
    "v50 = doc2vec(re.sub(\"\\d\", \"d\", rad_data.loc[50,\"text\"]), vocabulary)\n",
    "v157 = doc2vec(re.sub(\"\\d\", \"d\", rad_data.loc[157,\"text\"]), vocabulary)\n",
    "assert_almost_equal(v50.cosine_sim(v50), 0)"
   ]
  },
  {
   "cell_type": "code",
   "execution_count": null,
   "metadata": {
    "deletable": false,
    "editable": false,
    "nbgrader": {
     "checksum": "3b5f02b326bb1308062c91a0daf20dd0",
     "grade": true,
     "grade_id": "cell-aeace7ab957d6466",
     "locked": true,
     "points": 5,
     "schema_version": 1,
     "solution": false
    }
   },
   "outputs": [],
   "source": [
    "v50 = doc2vec(re.sub(\"\\d\", \"d\", rad_data.loc[50,\"text\"]), vocabulary)\n",
    "v157 = doc2vec(re.sub(\"\\d\", \"d\", rad_data.loc[157,\"text\"]), vocabulary)\n",
    "assert_almost_equal(v50.cosine_sim(v157), 0.7430023871608521)"
   ]
  },
  {
   "cell_type": "markdown",
   "metadata": {
    "deletable": false,
    "editable": false,
    "nbgrader": {
     "checksum": "36781df32a6de45c8817347e157ec0c8",
     "grade": false,
     "grade_id": "cell-62ca66693fe165b1",
     "locked": true,
     "schema_version": 1,
     "solution": false
    }
   },
   "source": [
    "### Create a column in `rad_data` that has values equal to the similarity between the reports and `v50`."
   ]
  },
  {
   "cell_type": "code",
   "execution_count": null,
   "metadata": {
    "deletable": false,
    "editable": false,
    "nbgrader": {
     "checksum": "20626ec6c02cc0d1f21937023ca60b0e",
     "grade": false,
     "grade_id": "cell-d86ca4e69940d4a2",
     "locked": true,
     "schema_version": 1,
     "solution": false
    }
   },
   "outputs": [],
   "source": [
    "rad_data[\"50sim\"] = rad_data.apply(lambda r: v50.cosine_sim(doc2vec(re.sub(\"\\d\", \"d\", r[\"text\"]), vocabulary)), axis=1)"
   ]
  },
  {
   "cell_type": "markdown",
   "metadata": {
    "deletable": false,
    "editable": false,
    "nbgrader": {
     "checksum": "49dacaf5fa641f4533741ac2d551515b",
     "grade": false,
     "grade_id": "cell-a2d8f98d625476e6",
     "locked": true,
     "schema_version": 1,
     "solution": false
    }
   },
   "source": [
    "## Problem 4 (10 points):\n",
    "\n",
    "Create a DataFrame `rad_data2` that only contains rows where rad_data[\"50sim\"] is greater than zero. Sort the `rad_data2` by ascending values of `50sim`."
   ]
  },
  {
   "cell_type": "code",
   "execution_count": null,
   "metadata": {
    "deletable": false,
    "nbgrader": {
     "checksum": "3dfd73a5b02693dbd19249164016d695",
     "grade": false,
     "grade_id": "cell-3cb580a57e6c5332",
     "locked": false,
     "schema_version": 1,
     "solution": true
    }
   },
   "outputs": [],
   "source": [
    "rad_data2 = None\n",
    "# YOUR CODE HERE\n",
    "raise NotImplementedError()\n",
    "rad_data2.tail()"
   ]
  },
  {
   "cell_type": "code",
   "execution_count": null,
   "metadata": {
    "deletable": false,
    "editable": false,
    "nbgrader": {
     "checksum": "2eaa328058fe06f236473d61a673f469",
     "grade": true,
     "grade_id": "cell-378dc26662e3d7e4",
     "locked": true,
     "points": 5,
     "schema_version": 1,
     "solution": false
    }
   },
   "outputs": [],
   "source": [
    "assert_equal(rad_data2.iloc[0][\"subject_id\"], 463)"
   ]
  },
  {
   "cell_type": "code",
   "execution_count": null,
   "metadata": {
    "collapsed": true,
    "deletable": false,
    "editable": false,
    "nbgrader": {
     "checksum": "3c73149540186f1c96612bdfaefdc171",
     "grade": true,
     "grade_id": "cell-32390139d46fdcc3",
     "locked": true,
     "points": 5,
     "schema_version": 1,
     "solution": false
    }
   },
   "outputs": [],
   "source": [
    "assert_equal(rad_data2.iloc[-1][\"subject_id\"], 10315)"
   ]
  },
  {
   "cell_type": "markdown",
   "metadata": {
    "deletable": false,
    "editable": false,
    "nbgrader": {
     "checksum": "8dbc1880a4268858f0e641285cbc0255",
     "grade": false,
     "grade_id": "cell-79b77d792de72d9a",
     "locked": true,
     "schema_version": 1,
     "solution": false
    }
   },
   "source": [
    "## What do the most similar and most dissimilar (relative to 50) reports look like?"
   ]
  },
  {
   "cell_type": "code",
   "execution_count": null,
   "metadata": {
    "deletable": false,
    "editable": false,
    "nbgrader": {
     "checksum": "8fb7e1ba3e89297989dfcfc12927fdf5",
     "grade": false,
     "grade_id": "cell-4b44dd9873e674cc",
     "locked": true,
     "schema_version": 1,
     "solution": false
    }
   },
   "outputs": [],
   "source": [
    "print(rad_data.iloc[50][\"text\"])"
   ]
  },
  {
   "cell_type": "code",
   "execution_count": null,
   "metadata": {
    "deletable": false,
    "editable": false,
    "nbgrader": {
     "checksum": "6746ea21bcaa538f395709e0920b1760",
     "grade": false,
     "grade_id": "cell-7d9a9912594531e0",
     "locked": true,
     "schema_version": 1,
     "solution": false
    }
   },
   "outputs": [],
   "source": [
    "print(rad_data2.iloc[0][\"text\"])"
   ]
  },
  {
   "cell_type": "code",
   "execution_count": null,
   "metadata": {
    "deletable": false,
    "editable": false,
    "nbgrader": {
     "checksum": "05455a6679a77f320e6e1862042ab33c",
     "grade": false,
     "grade_id": "cell-1ff3173b144cf701",
     "locked": true,
     "schema_version": 1,
     "solution": false
    }
   },
   "outputs": [],
   "source": [
    "\n",
    "print(rad_data2.iloc[-1][\"text\"])"
   ]
  },
  {
   "cell_type": "code",
   "execution_count": null,
   "metadata": {
    "collapsed": true
   },
   "outputs": [],
   "source": []
  }
 ],
 "metadata": {
  "kernelspec": {
   "display_name": "Python 3",
   "language": "python",
   "name": "python3"
  },
  "language_info": {
   "codemirror_mode": {
    "name": "ipython",
    "version": 3
   },
   "file_extension": ".py",
   "mimetype": "text/x-python",
   "name": "python",
   "nbconvert_exporter": "python",
   "pygments_lexer": "ipython3",
   "version": "3.5.2"
  }
 },
 "nbformat": 4,
 "nbformat_minor": 1
}
