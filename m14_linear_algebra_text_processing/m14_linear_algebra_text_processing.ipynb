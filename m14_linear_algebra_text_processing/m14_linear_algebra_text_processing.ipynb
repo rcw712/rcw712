{
 "cells": [
  {
   "cell_type": "markdown",
   "metadata": {
    "deletable": false,
    "editable": false,
    "nbgrader": {
     "checksum": "1382e56b6cb2ec4c33f6ddb0094dbc9a",
     "grade": false,
     "grade_id": "cell-8d8af265a76185ee",
     "locked": true,
     "schema_version": 1,
     "solution": false
    }
   },
   "source": [
    "# M14-Linear Algebra and Text Processing\n"
   ]
  },
  {
   "cell_type": "code",
   "execution_count": 1,
   "metadata": {
    "collapsed": true,
    "deletable": false,
    "editable": false,
    "nbgrader": {
     "checksum": "76f90188d266cf183a7901c34cf90fec",
     "grade": false,
     "grade_id": "cell-419ac0d7d0356b28",
     "locked": true,
     "schema_version": 1,
     "solution": false
    }
   },
   "outputs": [],
   "source": [
    "from nose.tools import assert_almost_equal, assert_true, assert_equal, assert_raises\n",
    "from numbers import Number"
   ]
  },
  {
   "cell_type": "code",
   "execution_count": 2,
   "metadata": {
    "collapsed": true,
    "deletable": false,
    "editable": false,
    "nbgrader": {
     "checksum": "98a5a03902063c36f36d9ef4684988e5",
     "grade": false,
     "grade_id": "cell-87c89057dabd92d1",
     "locked": true,
     "schema_version": 1,
     "solution": false
    }
   },
   "outputs": [],
   "source": [
    "\n",
    "import numpy as np\n",
    "import locale\n",
    "import os\n",
    "import re\n",
    "import pandas as pd\n",
    "from textblob import TextBlob"
   ]
  },
  {
   "cell_type": "markdown",
   "metadata": {
    "deletable": false,
    "editable": false,
    "nbgrader": {
     "checksum": "1e3725fab6dd116ab09a32e0aa9afa11",
     "grade": false,
     "grade_id": "cell-8129afdcbbc29f07",
     "locked": true,
     "schema_version": 1,
     "solution": false
    }
   },
   "source": [
    "## **Problem 1 (30 points).** Compute the Euclidean norm for each of the following vectors\n",
    "$$v_1= \\begin{bmatrix}5\\\\-1\\\\1\\\\0\\\\-5\\end{bmatrix}$$"
   ]
  },
  {
   "cell_type": "code",
   "execution_count": 4,
   "metadata": {
    "collapsed": true,
    "deletable": false,
    "nbgrader": {
     "checksum": "9d5fd38aa5d6ada2ec7bbc4be13d684c",
     "grade": false,
     "grade_id": "cell-a6478b7ec3a92650",
     "locked": false,
     "schema_version": 1,
     "solution": true
    }
   },
   "outputs": [],
   "source": [
    "norm_v1 = np.linalg.norm(np.array([[5,-1,1,0,-5]]).T)"
   ]
  },
  {
   "cell_type": "code",
   "execution_count": null,
   "metadata": {
    "collapsed": true,
    "deletable": false,
    "editable": false,
    "nbgrader": {
     "checksum": "e90b904d0749efc024e173d241104a2f",
     "grade": true,
     "grade_id": "cell-ad2a0780d41f1604",
     "locked": true,
     "points": 5,
     "schema_version": 1,
     "solution": false
    }
   },
   "outputs": [],
   "source": []
  },
  {
   "cell_type": "markdown",
   "metadata": {
    "deletable": false,
    "editable": false,
    "nbgrader": {
     "checksum": "616db773cc6a7f3ef757e71746848c86",
     "grade": false,
     "grade_id": "cell-21c450fbde81fef5",
     "locked": true,
     "schema_version": 1,
     "solution": false
    }
   },
   "source": [
    "$$v_2= \\begin{bmatrix}2\\\\ 3\\\\ 9\\\\ 4\\end{bmatrix}$$"
   ]
  },
  {
   "cell_type": "code",
   "execution_count": 5,
   "metadata": {
    "collapsed": true,
    "deletable": false,
    "nbgrader": {
     "checksum": "e0a991c71ea7fcd8e1308e98c6a7fb01",
     "grade": false,
     "grade_id": "cell-9ff294fdc8569f5f",
     "locked": false,
     "schema_version": 1,
     "solution": true
    }
   },
   "outputs": [],
   "source": [
    "norm_v2 = np.linalg.norm(np.array([[2,3,9,4]]).T)"
   ]
  },
  {
   "cell_type": "code",
   "execution_count": null,
   "metadata": {
    "collapsed": true,
    "deletable": false,
    "editable": false,
    "nbgrader": {
     "checksum": "732831f41a6b8c5772a29afd1e49bdd8",
     "grade": true,
     "grade_id": "cell-434d1ea8b5b3b611",
     "locked": true,
     "points": 5,
     "schema_version": 1,
     "solution": false
    }
   },
   "outputs": [],
   "source": []
  },
  {
   "cell_type": "markdown",
   "metadata": {
    "deletable": false,
    "editable": false,
    "nbgrader": {
     "checksum": "cff5928ffd6c54f0bbbc2a7cf88c1377",
     "grade": false,
     "grade_id": "cell-8964bee7f0cfd2d9",
     "locked": true,
     "schema_version": 1,
     "solution": false
    }
   },
   "source": [
    "$$v_3=\\begin{bmatrix}-2, -3, -7, -5\\end{bmatrix}^T$$"
   ]
  },
  {
   "cell_type": "code",
   "execution_count": 6,
   "metadata": {
    "collapsed": true,
    "deletable": false,
    "nbgrader": {
     "checksum": "ccfdf16891c13b9a994b4fb600c3cd63",
     "grade": false,
     "grade_id": "cell-cd0f275d78bbb4e8",
     "locked": false,
     "schema_version": 1,
     "solution": true
    }
   },
   "outputs": [],
   "source": [
    "norm_v3 = np.linalg.norm(np.array([[-2,-3,-7,-5]]).T)"
   ]
  },
  {
   "cell_type": "code",
   "execution_count": null,
   "metadata": {
    "collapsed": true,
    "deletable": false,
    "editable": false,
    "nbgrader": {
     "checksum": "c39c9960c54b0fa881c558f70f85b2e2",
     "grade": true,
     "grade_id": "cell-d497c7df9689ab25",
     "locked": true,
     "points": 5,
     "schema_version": 1,
     "solution": false
    }
   },
   "outputs": [],
   "source": []
  },
  {
   "cell_type": "markdown",
   "metadata": {
    "deletable": false,
    "editable": false,
    "nbgrader": {
     "checksum": "21ac4616da95af2d74551df68f7acae2",
     "grade": false,
     "grade_id": "cell-0832692d72312f50",
     "locked": true,
     "schema_version": 1,
     "solution": false
    }
   },
   "source": [
    "$$v_4=\\begin{bmatrix}-10,   6,   8,   0,  -8,   7\\end{bmatrix}^T$$"
   ]
  },
  {
   "cell_type": "code",
   "execution_count": 7,
   "metadata": {
    "collapsed": true,
    "deletable": false,
    "nbgrader": {
     "checksum": "64b21e95bbe82dfca1cf9a94989180fe",
     "grade": false,
     "grade_id": "cell-bfa8dab17de5edd2",
     "locked": false,
     "schema_version": 1,
     "solution": true
    }
   },
   "outputs": [],
   "source": [
    "norm_v4 = np.linalg.norm(np.array([[-10,6,8,0,-8,7]]).T)"
   ]
  },
  {
   "cell_type": "code",
   "execution_count": null,
   "metadata": {
    "collapsed": true,
    "deletable": false,
    "editable": false,
    "nbgrader": {
     "checksum": "355fb6ff7811782f5573504b2029a511",
     "grade": true,
     "grade_id": "cell-5c75bf7b9ff1c3a6",
     "locked": true,
     "points": 5,
     "schema_version": 1,
     "solution": false
    }
   },
   "outputs": [],
   "source": []
  },
  {
   "cell_type": "markdown",
   "metadata": {
    "deletable": false,
    "editable": false,
    "nbgrader": {
     "checksum": "5a0183d7c52ba7e261fde033d841edc3",
     "grade": false,
     "grade_id": "cell-04f7ddfd91e85d71",
     "locked": true,
     "schema_version": 1,
     "solution": false
    }
   },
   "source": [
    "$$v_5=\\begin{bmatrix}6,  -5,  -7, -10,  -6,  -2,  -2\\end{bmatrix}^T$$"
   ]
  },
  {
   "cell_type": "code",
   "execution_count": 8,
   "metadata": {
    "collapsed": true,
    "deletable": false,
    "nbgrader": {
     "checksum": "ef08371a48a3fccfd688795602dfcc21",
     "grade": false,
     "grade_id": "cell-3dba6ad4d4c10d98",
     "locked": false,
     "schema_version": 1,
     "solution": true
    }
   },
   "outputs": [],
   "source": [
    "norm_v5 = np.linalg.norm(np.array([[6,-5,-7,-10,-6,-2,-2]]).T)"
   ]
  },
  {
   "cell_type": "code",
   "execution_count": null,
   "metadata": {
    "collapsed": true,
    "deletable": false,
    "editable": false,
    "nbgrader": {
     "checksum": "fd00c2c2b8591de7ec6a21f0790d5e7e",
     "grade": true,
     "grade_id": "cell-76ce9e33ddc2be7d",
     "locked": true,
     "points": 5,
     "schema_version": 1,
     "solution": false
    }
   },
   "outputs": [],
   "source": []
  },
  {
   "cell_type": "markdown",
   "metadata": {
    "deletable": false,
    "editable": false,
    "nbgrader": {
     "checksum": "ba7d0c43d905382a0a44c0e1fb16bbe0",
     "grade": false,
     "grade_id": "cell-2ba53c905cfb70ec",
     "locked": true,
     "schema_version": 1,
     "solution": false
    }
   },
   "source": [
    "$$v_6= \\begin{bmatrix}4\\\\  2\\\\ -8\\end{bmatrix}$$"
   ]
  },
  {
   "cell_type": "code",
   "execution_count": 9,
   "metadata": {
    "collapsed": true,
    "deletable": false,
    "nbgrader": {
     "checksum": "c1d87d620dd6b3366ddf05317a14103d",
     "grade": false,
     "grade_id": "cell-d64b453ea8f9a487",
     "locked": false,
     "schema_version": 1,
     "solution": true
    }
   },
   "outputs": [],
   "source": [
    "norm_v6 = np.linalg.norm(np.array([[4,2,-8]]).T)"
   ]
  },
  {
   "cell_type": "code",
   "execution_count": null,
   "metadata": {
    "collapsed": true,
    "deletable": false,
    "editable": false,
    "nbgrader": {
     "checksum": "258ec43a483f2d70de8bd989392e6863",
     "grade": true,
     "grade_id": "cell-6f697996025dbafb",
     "locked": true,
     "points": 5,
     "schema_version": 1,
     "solution": false
    }
   },
   "outputs": [],
   "source": []
  },
  {
   "cell_type": "markdown",
   "metadata": {
    "deletable": false,
    "editable": false,
    "nbgrader": {
     "checksum": "e72c47456eb67245bb4714c075a450da",
     "grade": false,
     "grade_id": "cell-b541fd216d545d8c",
     "locked": true,
     "schema_version": 1,
     "solution": false
    }
   },
   "source": [
    "## Problem #2 (10 points)\n",
    "\n",
    "One of the limitations of word vectors as we have pictured them is [sparsity](https://en.wikipedia.org/wiki/Sparse_array): while our vocabulary is large (tens or hundreds of thousands of words), a typical document (e.g. radiology report) only has tens or hundreds of unique words. Write a class (`sparsev`) that inherits from a `defaultdict` to represent a \"sparse\" vector. The keys would be the indicies to a vector and the values would be the word counts (how many times that word occurred in the document). The class should have an attribute `self.__dim` that indicates the dimension of the vector space (e.g. the dimension of the vocabulary). The class should have a property `dim` that returns the value in `__dim` the instance of `sparsev` represents. You should define the following methods for the class:\n",
    "\n",
    "1. `norm`: Accepts as an argument a number `p` (default value=2) and computes the [p-norm](https://en.wikipedia.org/wiki/Norm_(mathematics)#p-norm) of the vector.\n",
    "    1. If `p` is not a number, raise a `ValueError`.\n",
    "    1. If $p \\le 0$, raise a `ValueError`.\n",
    "1. `cosine_sim`: Accepts as an argument an instance of a `sparsev`.\n",
    "    1. If the two `sparsev` instances do not have the same `dim` raise a ValueError\n",
    "    1. If you get a `ZeroDivisionError`, return `np.nan`\n",
    "    1. Note that the range of `arccos` is -1 to 1. Because of floating point arithmetic issues, you may have arguments that should be equal to 1 but are slightly larger. This will result in `arccos` returning a `np.nan`. In these cases, return a 0 (zero).\n",
    "1. a `__str__` method that shows the dimension of the vector as well as the elements (key/value pairs)."
   ]
  },
  {
   "cell_type": "code",
   "execution_count": 10,
   "metadata": {
    "collapsed": true,
    "deletable": false,
    "nbgrader": {
     "checksum": "e2d9059c8cb2338e61e2997c230febb6",
     "grade": false,
     "grade_id": "cell-f1fea9da269ff9c8",
     "locked": false,
     "schema_version": 1,
     "solution": true
    }
   },
   "outputs": [],
   "source": [
    "from collections import defaultdict\n",
    "from math import *\n",
    "class sparsev(defaultdict):\n",
    "    \n",
    "    def __init__(self, *args, dim=1, **kwargs):\n",
    "        self.__dim = dim\n",
    "        \n",
    "        super(sparsev, self).__init__(*args,**kwargs)\n",
    "    \n",
    "    \n",
    "    @property\n",
    "    def dim(self):\n",
    "        return self.__dim\n",
    "    \n",
    "    \n",
    "    def norm(self,p=2):\n",
    "        if not isinstance(p,int) or isinstance(p,float):\n",
    "            raise ValueError('p not a number!')\n",
    "        if p<=0:\n",
    "            raise ValueError('p should be positive!')\n",
    "        else:\n",
    "            return np.linalg.norm(np.array(list(self.values())), ord = p)\n",
    "        \n",
    "    def cosine_sim(self, dict2):\n",
    "        if self.dim != dict2.dim :\n",
    "            raise ValueError('dictionaries do not have the same dimension')\n",
    "        else:\n",
    "            try:\n",
    "                c_s = sum([self[k]*dict2[k] for k in set(self.keys()) & set(dict2.keys())]) / (np.linalg.norm(np.array(list(self.values())))*np.linalg.norm(np.array(list(dict2.values()))))\n",
    "                \n",
    "                if c_s > 1:\n",
    "                    return 0\n",
    "                else:\n",
    "                    return math.acos(c_s)\n",
    "            except ZeroDivisionError:\n",
    "                return np.nan\n",
    "            if c_s > 1:\n",
    "                return 0\n",
    "    \n",
    "    def inner(self, dict2):\n",
    "        if self.dim != dict2.dim :\n",
    "            raise ValueError('dictionaries do not have the same dimension')\n",
    "        \n",
    "        else:\n",
    "            INN = sum([self[k]*dict2[k] for k in set(self.keys()) & set(dict2.keys())])\n",
    "            return INN\n",
    "    \n",
    "    def __str__(self):\n",
    "        return \"dim:%s: \"%self.__dim + super(sparsev,self).__str__()"
   ]
  },
  {
   "cell_type": "code",
   "execution_count": 11,
   "metadata": {
    "collapsed": true,
    "deletable": false,
    "editable": false,
    "nbgrader": {
     "checksum": "ae43c259a44227d1f3657c60955417ab",
     "grade": true,
     "grade_id": "cell-85cf56d46b804354",
     "locked": true,
     "points": 2,
     "schema_version": 1,
     "solution": false
    }
   },
   "outputs": [],
   "source": [
    "tmp1 = sparsev(int, dim=5)\n",
    "tmp2 = sparsev(int, dim=3)\n",
    "assert_raises(ValueError, tmp1.inner, tmp2)"
   ]
  },
  {
   "cell_type": "code",
   "execution_count": 12,
   "metadata": {
    "collapsed": true,
    "deletable": false,
    "editable": false,
    "nbgrader": {
     "checksum": "06226d9757a9d4382b342db2d930556f",
     "grade": true,
     "grade_id": "cell-2cf3c3a9702cffd6",
     "locked": true,
     "points": 2,
     "schema_version": 1,
     "solution": false
    }
   },
   "outputs": [],
   "source": [
    "tmp1 = sparsev(int, dim=10)\n",
    "tmp2 = sparsev(int, dim=10)\n",
    "tmp1[\"Brian\"] = 3\n",
    "tmp1[\"Wendy\"] = 4\n",
    "tmp2[\"Argos\"] = 9\n",
    "tmp2[\"Helios\"] = 2\n",
    "tmp1.inner(tmp2)\n",
    "assert_almost_equal(tmp1.inner(tmp2), 0)"
   ]
  },
  {
   "cell_type": "code",
   "execution_count": 13,
   "metadata": {
    "collapsed": true,
    "deletable": false,
    "editable": false,
    "nbgrader": {
     "checksum": "5716e9d22c09266e59978d4d541cc521",
     "grade": true,
     "grade_id": "cell-b2b379dea7ae8b65",
     "locked": true,
     "points": 2,
     "schema_version": 1,
     "solution": false
    }
   },
   "outputs": [],
   "source": [
    "tmp1 = sparsev(int, dim=10)\n",
    "tmp2 = sparsev(int, dim=10)\n",
    "tmp1[\"Brian\"] = 3\n",
    "tmp1[\"Wendy\"] = 4\n",
    "tmp2[\"Argos\"] = 9\n",
    "tmp2[\"Brian\"] = 2\n",
    "tmp1.inner(tmp2)\n",
    "assert_almost_equal(tmp1.inner(tmp2), 6)\n"
   ]
  },
  {
   "cell_type": "code",
   "execution_count": 14,
   "metadata": {
    "collapsed": true,
    "deletable": false,
    "editable": false,
    "nbgrader": {
     "checksum": "6213ade7168c801a2786443df6aad96e",
     "grade": true,
     "grade_id": "cell-0e7ee13238dd6021",
     "locked": true,
     "points": 2,
     "schema_version": 1,
     "solution": false
    }
   },
   "outputs": [],
   "source": [
    "tmp1 = sparsev(int, dim=5)\n",
    "tmp2 = sparsev(int, dim=3)\n",
    "assert_true(\"5\" in tmp1.__str__())"
   ]
  },
  {
   "cell_type": "code",
   "execution_count": 15,
   "metadata": {
    "collapsed": true,
    "deletable": false,
    "editable": false,
    "nbgrader": {
     "checksum": "81a81c3a78ee3b65924c2f74b88b80ae",
     "grade": true,
     "grade_id": "cell-dfc8f135d643db11",
     "locked": true,
     "points": 2,
     "schema_version": 1,
     "solution": false
    }
   },
   "outputs": [],
   "source": [
    "tmp1 = sparsev(int, dim=5)\n",
    "tmp2 = sparsev(int, dim=3)\n",
    "assert_true(\"3\" in tmp2.__str__())"
   ]
  },
  {
   "cell_type": "markdown",
   "metadata": {
    "deletable": false,
    "editable": false,
    "nbgrader": {
     "checksum": "a62cd1c2cb72380dbdb3e38552ffccf0",
     "grade": false,
     "grade_id": "cell-3bb64a8c40f7f0c4",
     "locked": true,
     "schema_version": 1,
     "solution": false
    }
   },
   "source": [
    "## Test on MIMIC2 radiology reports"
   ]
  },
  {
   "cell_type": "code",
   "execution_count": 16,
   "metadata": {
    "collapsed": true,
    "deletable": false,
    "editable": false,
    "nbgrader": {
     "checksum": "47a693df245dfb847bd8ab6a48d119b9",
     "grade": false,
     "grade_id": "cell-67444da88453ad4f",
     "locked": true,
     "schema_version": 1,
     "solution": false
    }
   },
   "outputs": [],
   "source": [
    "import pymysql\n",
    "import pandas as pd\n",
    "import getpass\n",
    "from textblob import TextBlob"
   ]
  },
  {
   "cell_type": "code",
   "execution_count": 17,
   "metadata": {
    "collapsed": true,
    "deletable": false,
    "editable": false,
    "nbgrader": {
     "checksum": "7acc4bbc12a8ed9ef5e1e2a464797e5d",
     "grade": false,
     "grade_id": "cell-44facc76cc3c2b94",
     "locked": true,
     "schema_version": 1,
     "solution": false
    }
   },
   "outputs": [],
   "source": [
    "conn = pymysql.connect(host=\"mysql\",\n",
    "                       port=3306,user=\"jovyan\",\n",
    "                       passwd=\"jovyan\",db='mimic2')\n",
    "cursor = conn.cursor()"
   ]
  },
  {
   "cell_type": "markdown",
   "metadata": {
    "deletable": false,
    "editable": false,
    "nbgrader": {
     "checksum": "827a396f019b9e1a9aad386beaee5883",
     "grade": false,
     "grade_id": "cell-ae10cb62a78ae00c",
     "locked": true,
     "schema_version": 1,
     "solution": false
    }
   },
   "source": [
    "### Get some documents. Limit the query to keep corpus small for debugging"
   ]
  },
  {
   "cell_type": "code",
   "execution_count": 18,
   "metadata": {
    "deletable": false,
    "editable": false,
    "nbgrader": {
     "checksum": "2cef11beba11e2e8a6fd54756678aafa",
     "grade": false,
     "grade_id": "cell-9598f115436d3f2e",
     "locked": true,
     "schema_version": 1,
     "solution": false
    }
   },
   "outputs": [
    {
     "data": {
      "text/html": [
       "<div>\n",
       "<table border=\"1\" class=\"dataframe\">\n",
       "  <thead>\n",
       "    <tr style=\"text-align: right;\">\n",
       "      <th></th>\n",
       "      <th>subject_id</th>\n",
       "      <th>hadm_id</th>\n",
       "      <th>text</th>\n",
       "    </tr>\n",
       "  </thead>\n",
       "  <tbody>\n",
       "    <tr>\n",
       "      <th>0</th>\n",
       "      <td>56</td>\n",
       "      <td>28766.0</td>\n",
       "      <td>\\n\\n\\n     DATE: [**2644-1-17**] 10:53 AM\\n   ...</td>\n",
       "    </tr>\n",
       "    <tr>\n",
       "      <th>1</th>\n",
       "      <td>56</td>\n",
       "      <td>28766.0</td>\n",
       "      <td>\\n\\n\\n     DATE: [**2644-1-17**] 10:43 AM\\n   ...</td>\n",
       "    </tr>\n",
       "    <tr>\n",
       "      <th>2</th>\n",
       "      <td>56</td>\n",
       "      <td>28766.0</td>\n",
       "      <td>\\n\\n\\n     DATE: [**2644-1-17**] 6:37 AM\\n    ...</td>\n",
       "    </tr>\n",
       "    <tr>\n",
       "      <th>3</th>\n",
       "      <td>56</td>\n",
       "      <td>28766.0</td>\n",
       "      <td>\\n\\n\\n     DATE: [**2644-1-19**] 12:09 PM\\n   ...</td>\n",
       "    </tr>\n",
       "    <tr>\n",
       "      <th>4</th>\n",
       "      <td>37</td>\n",
       "      <td>18052.0</td>\n",
       "      <td>\\n\\n\\n     DATE: [**3264-8-14**] 6:06 AM\\n    ...</td>\n",
       "    </tr>\n",
       "  </tbody>\n",
       "</table>\n",
       "</div>"
      ],
      "text/plain": [
       "   subject_id  hadm_id                                               text\n",
       "0          56  28766.0  \\n\\n\\n     DATE: [**2644-1-17**] 10:53 AM\\n   ...\n",
       "1          56  28766.0  \\n\\n\\n     DATE: [**2644-1-17**] 10:43 AM\\n   ...\n",
       "2          56  28766.0  \\n\\n\\n     DATE: [**2644-1-17**] 6:37 AM\\n    ...\n",
       "3          56  28766.0  \\n\\n\\n     DATE: [**2644-1-19**] 12:09 PM\\n   ...\n",
       "4          37  18052.0  \\n\\n\\n     DATE: [**3264-8-14**] 6:06 AM\\n    ..."
      ]
     },
     "execution_count": 18,
     "metadata": {},
     "output_type": "execute_result"
    }
   ],
   "source": [
    "rad_data = \\\n",
    "pd.read_sql(\"\"\"SELECT DISTINCT noteevents.subject_id, \n",
    "                      noteevents.hadm_id,\n",
    "                      noteevents.text \n",
    "               FROM noteevents\n",
    "               WHERE noteevents.category = 'RADIOLOGY_REPORT' \n",
    "               LIMIT 20000\"\"\",conn)\n",
    "rad_data.head(5)"
   ]
  },
  {
   "cell_type": "markdown",
   "metadata": {
    "deletable": false,
    "editable": false,
    "nbgrader": {
     "checksum": "e14d9f293795869a48d4dc2cc397d2da",
     "grade": false,
     "grade_id": "cell-477e05c11f506767",
     "locked": true,
     "schema_version": 1,
     "solution": false
    }
   },
   "source": [
    "## Create a vocabulary\n",
    "\n",
    "We are first going to replace all digits in the reports with a \"d\" and convert all characters to lower case. This reduces our vocabulary size by approximately half. We will then use `TextBlob` and sets to get all the unique words in our document. This is our vocabulary. The vocabulary is represented as a dictionary which we create with the `zip` function."
   ]
  },
  {
   "cell_type": "code",
   "execution_count": 19,
   "metadata": {
    "deletable": false,
    "editable": false,
    "nbgrader": {
     "checksum": "ef81d3e79443c82e25a20f867fb9e086",
     "grade": false,
     "grade_id": "cell-392861773b762e8f",
     "locked": true,
     "schema_version": 1,
     "solution": false
    }
   },
   "outputs": [
    {
     "name": "stdout",
     "output_type": "stream",
     "text": [
      "24727\n"
     ]
    }
   ],
   "source": [
    "reports = re.sub(\"\\d\", \"d\", \" \".join([r.lower() for r in rad_data[\"text\"]]))\n",
    "\n",
    "words = set(TextBlob(reports).words)\n",
    "\n",
    "vocabulary = dict(zip(words,range(len(words))))\n",
    "print(len(vocabulary))"
   ]
  },
  {
   "cell_type": "code",
   "execution_count": 20,
   "metadata": {
    "deletable": false,
    "editable": false,
    "nbgrader": {
     "checksum": "da8671f131d3e63c2631bf50bd885e9c",
     "grade": false,
     "grade_id": "cell-1feaca11eb5fbf7b",
     "locked": true,
     "schema_version": 1,
     "solution": false
    }
   },
   "outputs": [
    {
     "data": {
      "text/plain": [
       "[('described', 0),\n",
       " ('ddiv', 12310),\n",
       " ('size/contour', 12311),\n",
       " ('pvl', 12312),\n",
       " ('us-guided', 1),\n",
       " ('parchemical', 12313),\n",
       " ('amino', 12314),\n",
       " ('breakage', 2034),\n",
       " ('d.dd-mm', 12315),\n",
       " ('glass', 12316)]"
      ]
     },
     "execution_count": 20,
     "metadata": {},
     "output_type": "execute_result"
    }
   ],
   "source": [
    "list(vocabulary.items())[:10]"
   ]
  },
  {
   "cell_type": "markdown",
   "metadata": {
    "deletable": false,
    "editable": false,
    "nbgrader": {
     "checksum": "bef4ff4ec44affd5857414f2bc7824e1",
     "grade": false,
     "grade_id": "cell-6df79c4b5cebeecb",
     "locked": true,
     "schema_version": 1,
     "solution": false
    }
   },
   "source": [
    "## Problem 3 (20 points):\n",
    "\n",
    "Write a function `doc2vec` that takes two arguments: a `txt` (a text to convert to a vector) and `voc` (the vocabulary). It returns a `sparsev` instance that is the representation of `txt` in the `voc` vector space. Because `txt` may contain words that are not in the vocabulary, you will need to do exception handling."
   ]
  },
  {
   "cell_type": "code",
   "execution_count": 29,
   "metadata": {
    "collapsed": true,
    "deletable": false,
    "nbgrader": {
     "checksum": "1500ec1214d6361d74018db6cd099bb1",
     "grade": false,
     "grade_id": "cell-66383d25e8d92a2c",
     "locked": false,
     "schema_version": 1,
     "solution": true
    }
   },
   "outputs": [],
   "source": [
    "from collections import defaultdict\n",
    "import math\n",
    "\n",
    "def doc2vec(txt, voc):\n",
    "    txt_d = sparsev(int, dim = len(voc)) \n",
    "    words = TextBlob(txt.lower()).words\n",
    "    for word in words:\n",
    "        try:\n",
    "            txt_d[voc[word]]+= 1\n",
    "        except KeyError:\n",
    "            pass\n",
    "    return txt_d  \n",
    "    "
   ]
  },
  {
   "cell_type": "code",
   "execution_count": 30,
   "metadata": {
    "deletable": false,
    "editable": false,
    "nbgrader": {
     "checksum": "cedd7cd46684cb629f17cdf8d83cdef4",
     "grade": true,
     "grade_id": "cell-efcb973e15dfd825",
     "locked": true,
     "points": 5,
     "schema_version": 1,
     "solution": false
    }
   },
   "outputs": [],
   "source": [
    "v50 = doc2vec(re.sub(\"\\d\", \"d\", rad_data.loc[50,\"text\"]), vocabulary)\n",
    "v157 = doc2vec(re.sub(\"\\d\", \"d\", rad_data.loc[157,\"text\"]), vocabulary)\n",
    "assert_almost_equal(v50.norm(), 66.59579566308972)"
   ]
  },
  {
   "cell_type": "code",
   "execution_count": 31,
   "metadata": {
    "collapsed": true,
    "deletable": false,
    "editable": false,
    "nbgrader": {
     "checksum": "567c6add4fb270618f6657cc10190a00",
     "grade": true,
     "grade_id": "cell-850b4f40ab65b8c8",
     "locked": true,
     "points": 5,
     "schema_version": 1,
     "solution": false
    }
   },
   "outputs": [],
   "source": [
    "v50 = doc2vec(re.sub(\"\\d\", \"d\", rad_data.loc[50,\"text\"]), vocabulary)\n",
    "v157 = doc2vec(re.sub(\"\\d\", \"d\", rad_data.loc[157,\"text\"]), vocabulary)\n",
    "assert_almost_equal(v157.norm(), 95.40440241414439)"
   ]
  },
  {
   "cell_type": "markdown",
   "metadata": {},
   "source": [
    "### Cosine similarity of a document with itself should be 1"
   ]
  },
  {
   "cell_type": "code",
   "execution_count": 32,
   "metadata": {
    "collapsed": true,
    "deletable": false,
    "editable": false,
    "nbgrader": {
     "checksum": "5e3c2e2ca2f2019022ee8ee9becb9b38",
     "grade": true,
     "grade_id": "cell-84674721cc216b29",
     "locked": true,
     "points": 5,
     "schema_version": 1,
     "solution": false
    }
   },
   "outputs": [],
   "source": [
    "v50 = doc2vec(re.sub(\"\\d\", \"d\", rad_data.loc[50,\"text\"]), vocabulary)\n",
    "v157 = doc2vec(re.sub(\"\\d\", \"d\", rad_data.loc[157,\"text\"]), vocabulary)\n",
    "assert_almost_equal(v50.cosine_sim(v50), 0)"
   ]
  },
  {
   "cell_type": "code",
   "execution_count": 33,
   "metadata": {
    "deletable": false,
    "editable": false,
    "nbgrader": {
     "checksum": "3b5f02b326bb1308062c91a0daf20dd0",
     "grade": true,
     "grade_id": "cell-aeace7ab957d6466",
     "locked": true,
     "points": 5,
     "schema_version": 1,
     "solution": false
    }
   },
   "outputs": [],
   "source": [
    "v50 = doc2vec(re.sub(\"\\d\", \"d\", rad_data.loc[50,\"text\"]), vocabulary)\n",
    "v157 = doc2vec(re.sub(\"\\d\", \"d\", rad_data.loc[157,\"text\"]), vocabulary)\n",
    "assert_almost_equal(v50.cosine_sim(v157), 0.7430023871608521)"
   ]
  },
  {
   "cell_type": "markdown",
   "metadata": {
    "deletable": false,
    "editable": false,
    "nbgrader": {
     "checksum": "36781df32a6de45c8817347e157ec0c8",
     "grade": false,
     "grade_id": "cell-62ca66693fe165b1",
     "locked": true,
     "schema_version": 1,
     "solution": false
    }
   },
   "source": [
    "### Create a column in `rad_data` that has values equal to the similarity between the reports and `v50`."
   ]
  },
  {
   "cell_type": "code",
   "execution_count": 34,
   "metadata": {
    "deletable": false,
    "editable": false,
    "nbgrader": {
     "checksum": "20626ec6c02cc0d1f21937023ca60b0e",
     "grade": false,
     "grade_id": "cell-d86ca4e69940d4a2",
     "locked": true,
     "schema_version": 1,
     "solution": false
    }
   },
   "outputs": [
    {
     "name": "stderr",
     "output_type": "stream",
     "text": [
      "/opt/conda/lib/python3.5/site-packages/ipykernel_launcher.py:29: RuntimeWarning: invalid value encountered in double_scalars\n"
     ]
    }
   ],
   "source": [
    "rad_data[\"50sim\"] = rad_data.apply(lambda r: v50.cosine_sim(doc2vec(re.sub(\"\\d\", \"d\", r[\"text\"]), vocabulary)), axis=1)"
   ]
  },
  {
   "cell_type": "markdown",
   "metadata": {
    "deletable": false,
    "editable": false,
    "nbgrader": {
     "checksum": "49dacaf5fa641f4533741ac2d551515b",
     "grade": false,
     "grade_id": "cell-a2d8f98d625476e6",
     "locked": true,
     "schema_version": 1,
     "solution": false
    }
   },
   "source": [
    "## Problem 4 (10 points):\n",
    "\n",
    "Create a DataFrame `rad_data2` that only contains rows where rad_data[\"50sim\"] is greater than zero. Sort the `rad_data2` by ascending values of `50sim`."
   ]
  },
  {
   "cell_type": "code",
   "execution_count": 35,
   "metadata": {
    "deletable": false,
    "nbgrader": {
     "checksum": "3dfd73a5b02693dbd19249164016d695",
     "grade": false,
     "grade_id": "cell-3cb580a57e6c5332",
     "locked": false,
     "schema_version": 1,
     "solution": true
    }
   },
   "outputs": [
    {
     "data": {
      "text/html": [
       "<div>\n",
       "<table border=\"1\" class=\"dataframe\">\n",
       "  <thead>\n",
       "    <tr style=\"text-align: right;\">\n",
       "      <th></th>\n",
       "      <th>subject_id</th>\n",
       "      <th>hadm_id</th>\n",
       "      <th>text</th>\n",
       "      <th>50sim</th>\n",
       "    </tr>\n",
       "  </thead>\n",
       "  <tbody>\n",
       "    <tr>\n",
       "      <th>852</th>\n",
       "      <td>463</td>\n",
       "      <td>NaN</td>\n",
       "      <td>\\n\\n\\n     DATE: [**3334-11-8**] 2:43 PM\\n    ...</td>\n",
       "      <td>0.505251</td>\n",
       "    </tr>\n",
       "    <tr>\n",
       "      <th>11410</th>\n",
       "      <td>6659</td>\n",
       "      <td>NaN</td>\n",
       "      <td>\\n\\n\\n     DATE: [**3126-7-25**] 7:53 AM\\n    ...</td>\n",
       "      <td>0.511020</td>\n",
       "    </tr>\n",
       "    <tr>\n",
       "      <th>2056</th>\n",
       "      <td>1120</td>\n",
       "      <td>826.0</td>\n",
       "      <td>\\n\\n\\n     DATE: [**3022-10-5**] 2:09 AM\\n    ...</td>\n",
       "      <td>0.518197</td>\n",
       "    </tr>\n",
       "    <tr>\n",
       "      <th>11120</th>\n",
       "      <td>6638</td>\n",
       "      <td>NaN</td>\n",
       "      <td>\\n\\n\\n     DATE: [**3326-8-19**] 2:24 PM\\n    ...</td>\n",
       "      <td>0.519177</td>\n",
       "    </tr>\n",
       "    <tr>\n",
       "      <th>10868</th>\n",
       "      <td>6464</td>\n",
       "      <td>23593.0</td>\n",
       "      <td>\\n\\n\\n     DATE: [**3072-4-20**] 8:50 PM\\n    ...</td>\n",
       "      <td>0.519620</td>\n",
       "    </tr>\n",
       "    <tr>\n",
       "      <th>13919</th>\n",
       "      <td>8192</td>\n",
       "      <td>NaN</td>\n",
       "      <td>\\n\\n\\n     DATE: [**3166-9-23**] 10:38 AM\\n   ...</td>\n",
       "      <td>0.521305</td>\n",
       "    </tr>\n",
       "    <tr>\n",
       "      <th>16320</th>\n",
       "      <td>9633</td>\n",
       "      <td>13553.0</td>\n",
       "      <td>\\n\\n\\n     DATE: [**3312-3-4**] 7:40 PM\\n     ...</td>\n",
       "      <td>0.532298</td>\n",
       "    </tr>\n",
       "    <tr>\n",
       "      <th>6789</th>\n",
       "      <td>3664</td>\n",
       "      <td>24555.0</td>\n",
       "      <td>\\n\\n\\n     DATE: [**2540-3-6**] 1:06 AM\\n     ...</td>\n",
       "      <td>0.533466</td>\n",
       "    </tr>\n",
       "    <tr>\n",
       "      <th>9033</th>\n",
       "      <td>5150</td>\n",
       "      <td>NaN</td>\n",
       "      <td>\\n\\n\\n     DATE: [**2781-8-11**] 6:30 PM\\n    ...</td>\n",
       "      <td>0.537909</td>\n",
       "    </tr>\n",
       "    <tr>\n",
       "      <th>19269</th>\n",
       "      <td>11280</td>\n",
       "      <td>5231.0</td>\n",
       "      <td>\\n\\n\\n     DATE: [**2694-4-2**] 2:11 PM\\n     ...</td>\n",
       "      <td>0.539583</td>\n",
       "    </tr>\n",
       "    <tr>\n",
       "      <th>4438</th>\n",
       "      <td>2322</td>\n",
       "      <td>17075.0</td>\n",
       "      <td>\\n\\n\\n     DATE: [**2824-10-6**] 1:18 AM\\n    ...</td>\n",
       "      <td>0.541184</td>\n",
       "    </tr>\n",
       "    <tr>\n",
       "      <th>9763</th>\n",
       "      <td>5598</td>\n",
       "      <td>16966.0</td>\n",
       "      <td>\\n\\n\\n     DATE: [**3088-1-6**] 10:37 PM\\n    ...</td>\n",
       "      <td>0.542960</td>\n",
       "    </tr>\n",
       "    <tr>\n",
       "      <th>17646</th>\n",
       "      <td>10424</td>\n",
       "      <td>26898.0</td>\n",
       "      <td>\\n\\n\\n     DATE: [**3268-7-15**] 8:16 PM\\n    ...</td>\n",
       "      <td>0.545707</td>\n",
       "    </tr>\n",
       "    <tr>\n",
       "      <th>4243</th>\n",
       "      <td>2286</td>\n",
       "      <td>4272.0</td>\n",
       "      <td>\\n\\n\\n     DATE: [**3078-3-3**] 5:39 PM\\n     ...</td>\n",
       "      <td>0.546682</td>\n",
       "    </tr>\n",
       "    <tr>\n",
       "      <th>7637</th>\n",
       "      <td>4159</td>\n",
       "      <td>645.0</td>\n",
       "      <td>\\n\\n\\n     DATE: [**2854-3-24**] 8:41 PM\\n    ...</td>\n",
       "      <td>0.547347</td>\n",
       "    </tr>\n",
       "    <tr>\n",
       "      <th>3550</th>\n",
       "      <td>1863</td>\n",
       "      <td>NaN</td>\n",
       "      <td>\\n\\n\\n     DATE: [**3111-9-15**] 9:42 AM\\n    ...</td>\n",
       "      <td>0.547459</td>\n",
       "    </tr>\n",
       "    <tr>\n",
       "      <th>14917</th>\n",
       "      <td>8775</td>\n",
       "      <td>NaN</td>\n",
       "      <td>\\n\\n\\n     DATE: [**2802-9-24**] 12:09 PM\\n   ...</td>\n",
       "      <td>0.547691</td>\n",
       "    </tr>\n",
       "    <tr>\n",
       "      <th>17038</th>\n",
       "      <td>10011</td>\n",
       "      <td>359.0</td>\n",
       "      <td>\\n\\n\\n     DATE: [**3426-6-25**] 9:50 AM\\n    ...</td>\n",
       "      <td>0.549574</td>\n",
       "    </tr>\n",
       "    <tr>\n",
       "      <th>17834</th>\n",
       "      <td>10551</td>\n",
       "      <td>NaN</td>\n",
       "      <td>\\n\\n\\n     DATE: [**2550-3-24**] 10:51 AM\\n   ...</td>\n",
       "      <td>0.550155</td>\n",
       "    </tr>\n",
       "    <tr>\n",
       "      <th>5097</th>\n",
       "      <td>2664</td>\n",
       "      <td>15658.0</td>\n",
       "      <td>\\n\\n\\n     DATE: [**3147-9-19**] 12:12 AM\\n   ...</td>\n",
       "      <td>0.550825</td>\n",
       "    </tr>\n",
       "    <tr>\n",
       "      <th>14232</th>\n",
       "      <td>8359</td>\n",
       "      <td>22501.0</td>\n",
       "      <td>\\n\\n\\n     DATE: [**3081-3-14**] 2:20 PM\\n    ...</td>\n",
       "      <td>0.551471</td>\n",
       "    </tr>\n",
       "    <tr>\n",
       "      <th>1851</th>\n",
       "      <td>959</td>\n",
       "      <td>1264.0</td>\n",
       "      <td>\\n\\n\\n     DATE: [**3480-5-10**] 12:55 PM\\n   ...</td>\n",
       "      <td>0.551502</td>\n",
       "    </tr>\n",
       "    <tr>\n",
       "      <th>10266</th>\n",
       "      <td>5904</td>\n",
       "      <td>26821.0</td>\n",
       "      <td>\\n\\n\\n     DATE: [**3149-12-5**] 7:15 PM\\n    ...</td>\n",
       "      <td>0.553239</td>\n",
       "    </tr>\n",
       "    <tr>\n",
       "      <th>10841</th>\n",
       "      <td>6465</td>\n",
       "      <td>19851.0</td>\n",
       "      <td>\\n\\n\\n     DATE: [**2681-10-24**] 5:57 PM\\n   ...</td>\n",
       "      <td>0.553704</td>\n",
       "    </tr>\n",
       "    <tr>\n",
       "      <th>3915</th>\n",
       "      <td>2076</td>\n",
       "      <td>13523.0</td>\n",
       "      <td>\\n\\n\\n     DATE: [**3022-4-24**] 12:02 PM\\n   ...</td>\n",
       "      <td>0.554658</td>\n",
       "    </tr>\n",
       "    <tr>\n",
       "      <th>9870</th>\n",
       "      <td>5662</td>\n",
       "      <td>NaN</td>\n",
       "      <td>\\n\\n\\n     DATE: [**3177-11-29**] 9:47 AM\\n   ...</td>\n",
       "      <td>0.555773</td>\n",
       "    </tr>\n",
       "    <tr>\n",
       "      <th>17410</th>\n",
       "      <td>10217</td>\n",
       "      <td>28476.0</td>\n",
       "      <td>\\n\\n\\n     DATE: [**2545-11-12**] 8:38 PM\\n   ...</td>\n",
       "      <td>0.556405</td>\n",
       "    </tr>\n",
       "    <tr>\n",
       "      <th>6922</th>\n",
       "      <td>3781</td>\n",
       "      <td>NaN</td>\n",
       "      <td>\\n\\n\\n     DATE: [**3324-2-2**] 11:38 PM\\n    ...</td>\n",
       "      <td>0.556845</td>\n",
       "    </tr>\n",
       "    <tr>\n",
       "      <th>17932</th>\n",
       "      <td>10577</td>\n",
       "      <td>29394.0</td>\n",
       "      <td>\\n\\n\\n     DATE: [**2814-4-29**] 3:56 PM\\n    ...</td>\n",
       "      <td>0.557480</td>\n",
       "    </tr>\n",
       "    <tr>\n",
       "      <th>18735</th>\n",
       "      <td>11146</td>\n",
       "      <td>15497.0</td>\n",
       "      <td>\\n\\n\\n     DATE: [**3230-4-9**] 11:30 AM\\n    ...</td>\n",
       "      <td>0.557551</td>\n",
       "    </tr>\n",
       "    <tr>\n",
       "      <th>...</th>\n",
       "      <td>...</td>\n",
       "      <td>...</td>\n",
       "      <td>...</td>\n",
       "      <td>...</td>\n",
       "    </tr>\n",
       "    <tr>\n",
       "      <th>9384</th>\n",
       "      <td>5328</td>\n",
       "      <td>28535.0</td>\n",
       "      <td>\\n\\n\\n     DATE: [**2695-5-3**] 6:37 AM\\n     ...</td>\n",
       "      <td>1.382920</td>\n",
       "    </tr>\n",
       "    <tr>\n",
       "      <th>10477</th>\n",
       "      <td>6006</td>\n",
       "      <td>NaN</td>\n",
       "      <td>\\n\\n\\n     DATE: [**3153-5-13**] 10:03 AM\\n   ...</td>\n",
       "      <td>1.384446</td>\n",
       "    </tr>\n",
       "    <tr>\n",
       "      <th>8739</th>\n",
       "      <td>4967</td>\n",
       "      <td>19267.0</td>\n",
       "      <td>\\n\\n\\n     DATE: [**2534-1-5**] 10:52 AM\\n    ...</td>\n",
       "      <td>1.384895</td>\n",
       "    </tr>\n",
       "    <tr>\n",
       "      <th>2854</th>\n",
       "      <td>1427</td>\n",
       "      <td>12755.0</td>\n",
       "      <td>\\n\\n\\n     DATE: [**3422-10-16**] 1:17 PM\\n   ...</td>\n",
       "      <td>1.385577</td>\n",
       "    </tr>\n",
       "    <tr>\n",
       "      <th>879</th>\n",
       "      <td>471</td>\n",
       "      <td>20464.0</td>\n",
       "      <td>\\n\\n\\n     DATE: [**2574-8-10**] 9:35 PM\\n    ...</td>\n",
       "      <td>1.386469</td>\n",
       "    </tr>\n",
       "    <tr>\n",
       "      <th>5649</th>\n",
       "      <td>3011</td>\n",
       "      <td>20180.0</td>\n",
       "      <td>\\n\\n\\n     DATE: [**3131-10-6**] 3:18 PM\\n    ...</td>\n",
       "      <td>1.386495</td>\n",
       "    </tr>\n",
       "    <tr>\n",
       "      <th>7607</th>\n",
       "      <td>4197</td>\n",
       "      <td>NaN</td>\n",
       "      <td>\\n\\n\\n     DATE: [**2825-1-10**] 7:31 PM\\n    ...</td>\n",
       "      <td>1.386766</td>\n",
       "    </tr>\n",
       "    <tr>\n",
       "      <th>8102</th>\n",
       "      <td>4597</td>\n",
       "      <td>3579.0</td>\n",
       "      <td>\\n\\n\\n     DATE: [**2840-6-14**] 5:25 PM\\n    ...</td>\n",
       "      <td>1.386985</td>\n",
       "    </tr>\n",
       "    <tr>\n",
       "      <th>13467</th>\n",
       "      <td>7951</td>\n",
       "      <td>11695.0</td>\n",
       "      <td>\\n\\n\\n     DATE: [**3087-9-18**] 8:24 PM\\n    ...</td>\n",
       "      <td>1.387988</td>\n",
       "    </tr>\n",
       "    <tr>\n",
       "      <th>18466</th>\n",
       "      <td>10881</td>\n",
       "      <td>11906.0</td>\n",
       "      <td>\\n\\n\\n     DATE: [**3017-3-13**] 4:07 PM\\n    ...</td>\n",
       "      <td>1.388168</td>\n",
       "    </tr>\n",
       "    <tr>\n",
       "      <th>14586</th>\n",
       "      <td>8567</td>\n",
       "      <td>17507.0</td>\n",
       "      <td>\\n\\n\\n     DATE: [**3239-12-26**] 3:45 PM\\n   ...</td>\n",
       "      <td>1.388785</td>\n",
       "    </tr>\n",
       "    <tr>\n",
       "      <th>2866</th>\n",
       "      <td>1427</td>\n",
       "      <td>12755.0</td>\n",
       "      <td>\\n\\n\\n     DATE: [**3422-11-4**] 9:38 AM\\n    ...</td>\n",
       "      <td>1.388802</td>\n",
       "    </tr>\n",
       "    <tr>\n",
       "      <th>4236</th>\n",
       "      <td>2286</td>\n",
       "      <td>NaN</td>\n",
       "      <td>\\n\\n\\n     DATE: [**3078-2-9**] 10:31 AM\\n    ...</td>\n",
       "      <td>1.392469</td>\n",
       "    </tr>\n",
       "    <tr>\n",
       "      <th>19527</th>\n",
       "      <td>11460</td>\n",
       "      <td>NaN</td>\n",
       "      <td>\\n\\n\\n     DATE: [**3006-6-17**] 9:36 PM\\n    ...</td>\n",
       "      <td>1.394430</td>\n",
       "    </tr>\n",
       "    <tr>\n",
       "      <th>4419</th>\n",
       "      <td>2291</td>\n",
       "      <td>NaN</td>\n",
       "      <td>\\n\\n\\n     DATE: [**3332-3-31**] 8:33 PM\\n    ...</td>\n",
       "      <td>1.394766</td>\n",
       "    </tr>\n",
       "    <tr>\n",
       "      <th>12998</th>\n",
       "      <td>7596</td>\n",
       "      <td>19574.0</td>\n",
       "      <td>\\n\\n\\n     DATE: [**2628-1-5**] 2:29 PM\\n     ...</td>\n",
       "      <td>1.396706</td>\n",
       "    </tr>\n",
       "    <tr>\n",
       "      <th>15401</th>\n",
       "      <td>9013</td>\n",
       "      <td>22102.0</td>\n",
       "      <td>\\n\\n\\n     DATE: [**2948-5-22**] 4:35 AM\\n    ...</td>\n",
       "      <td>1.400681</td>\n",
       "    </tr>\n",
       "    <tr>\n",
       "      <th>8778</th>\n",
       "      <td>4976</td>\n",
       "      <td>19402.0</td>\n",
       "      <td>\\n\\n\\n     DATE: [**3361-10-18**] 9:47 AM\\n   ...</td>\n",
       "      <td>1.402476</td>\n",
       "    </tr>\n",
       "    <tr>\n",
       "      <th>10058</th>\n",
       "      <td>5860</td>\n",
       "      <td>NaN</td>\n",
       "      <td>\\n\\n\\n     DATE: [**2626-10-6**] 12:06 PM\\n   ...</td>\n",
       "      <td>1.403338</td>\n",
       "    </tr>\n",
       "    <tr>\n",
       "      <th>18648</th>\n",
       "      <td>11092</td>\n",
       "      <td>4606.0</td>\n",
       "      <td>\\n\\n\\n     DATE: [**3444-6-3**] 11:16 AM\\n    ...</td>\n",
       "      <td>1.404176</td>\n",
       "    </tr>\n",
       "    <tr>\n",
       "      <th>18049</th>\n",
       "      <td>10594</td>\n",
       "      <td>NaN</td>\n",
       "      <td>\\n\\n\\n     DATE: [**3053-2-27**] 11:09 AM\\n   ...</td>\n",
       "      <td>1.408558</td>\n",
       "    </tr>\n",
       "    <tr>\n",
       "      <th>17450</th>\n",
       "      <td>10314</td>\n",
       "      <td>16817.0</td>\n",
       "      <td>\\n\\n\\n     DATE: [**3223-1-26**] 9:16 PM\\n    ...</td>\n",
       "      <td>1.408588</td>\n",
       "    </tr>\n",
       "    <tr>\n",
       "      <th>2202</th>\n",
       "      <td>1193</td>\n",
       "      <td>5782.0</td>\n",
       "      <td>\\n\\n\\n     DATE: [**3363-11-6**] 5:32 PM\\n    ...</td>\n",
       "      <td>1.408989</td>\n",
       "    </tr>\n",
       "    <tr>\n",
       "      <th>19003</th>\n",
       "      <td>11264</td>\n",
       "      <td>4264.0</td>\n",
       "      <td>\\n\\n\\n     DATE: [**2580-3-8**] 4:01 PM\\n     ...</td>\n",
       "      <td>1.419856</td>\n",
       "    </tr>\n",
       "    <tr>\n",
       "      <th>10180</th>\n",
       "      <td>5882</td>\n",
       "      <td>NaN</td>\n",
       "      <td>\\n\\n\\n     DATE: [**3226-4-29**] 1:16 PM\\n    ...</td>\n",
       "      <td>1.425209</td>\n",
       "    </tr>\n",
       "    <tr>\n",
       "      <th>2850</th>\n",
       "      <td>1427</td>\n",
       "      <td>12755.0</td>\n",
       "      <td>\\n\\n\\n     DATE: [**3422-10-15**] 2:51 PM\\n   ...</td>\n",
       "      <td>1.427111</td>\n",
       "    </tr>\n",
       "    <tr>\n",
       "      <th>9382</th>\n",
       "      <td>5328</td>\n",
       "      <td>28535.0</td>\n",
       "      <td>\\n\\n\\n     DATE: [**2695-5-2**] 9:32 PM\\n     ...</td>\n",
       "      <td>1.427213</td>\n",
       "    </tr>\n",
       "    <tr>\n",
       "      <th>12884</th>\n",
       "      <td>7557</td>\n",
       "      <td>NaN</td>\n",
       "      <td>\\n\\n\\n     DATE: [**2866-6-7**] 8:13 AM\\n     ...</td>\n",
       "      <td>1.449436</td>\n",
       "    </tr>\n",
       "    <tr>\n",
       "      <th>3629</th>\n",
       "      <td>1884</td>\n",
       "      <td>17763.0</td>\n",
       "      <td>\\n\\n\\n     DATE: [**3256-11-8**] 7:37 AM\\n    ...</td>\n",
       "      <td>1.450346</td>\n",
       "    </tr>\n",
       "    <tr>\n",
       "      <th>17501</th>\n",
       "      <td>10315</td>\n",
       "      <td>22270.0</td>\n",
       "      <td>\\n\\n\\n     DATE: [**2558-2-12**] 1:09 AM\\n    ...</td>\n",
       "      <td>1.469616</td>\n",
       "    </tr>\n",
       "  </tbody>\n",
       "</table>\n",
       "<p>19383 rows × 4 columns</p>\n",
       "</div>"
      ],
      "text/plain": [
       "       subject_id  hadm_id                                               text  \\\n",
       "852           463      NaN  \\n\\n\\n     DATE: [**3334-11-8**] 2:43 PM\\n    ...   \n",
       "11410        6659      NaN  \\n\\n\\n     DATE: [**3126-7-25**] 7:53 AM\\n    ...   \n",
       "2056         1120    826.0  \\n\\n\\n     DATE: [**3022-10-5**] 2:09 AM\\n    ...   \n",
       "11120        6638      NaN  \\n\\n\\n     DATE: [**3326-8-19**] 2:24 PM\\n    ...   \n",
       "10868        6464  23593.0  \\n\\n\\n     DATE: [**3072-4-20**] 8:50 PM\\n    ...   \n",
       "13919        8192      NaN  \\n\\n\\n     DATE: [**3166-9-23**] 10:38 AM\\n   ...   \n",
       "16320        9633  13553.0  \\n\\n\\n     DATE: [**3312-3-4**] 7:40 PM\\n     ...   \n",
       "6789         3664  24555.0  \\n\\n\\n     DATE: [**2540-3-6**] 1:06 AM\\n     ...   \n",
       "9033         5150      NaN  \\n\\n\\n     DATE: [**2781-8-11**] 6:30 PM\\n    ...   \n",
       "19269       11280   5231.0  \\n\\n\\n     DATE: [**2694-4-2**] 2:11 PM\\n     ...   \n",
       "4438         2322  17075.0  \\n\\n\\n     DATE: [**2824-10-6**] 1:18 AM\\n    ...   \n",
       "9763         5598  16966.0  \\n\\n\\n     DATE: [**3088-1-6**] 10:37 PM\\n    ...   \n",
       "17646       10424  26898.0  \\n\\n\\n     DATE: [**3268-7-15**] 8:16 PM\\n    ...   \n",
       "4243         2286   4272.0  \\n\\n\\n     DATE: [**3078-3-3**] 5:39 PM\\n     ...   \n",
       "7637         4159    645.0  \\n\\n\\n     DATE: [**2854-3-24**] 8:41 PM\\n    ...   \n",
       "3550         1863      NaN  \\n\\n\\n     DATE: [**3111-9-15**] 9:42 AM\\n    ...   \n",
       "14917        8775      NaN  \\n\\n\\n     DATE: [**2802-9-24**] 12:09 PM\\n   ...   \n",
       "17038       10011    359.0  \\n\\n\\n     DATE: [**3426-6-25**] 9:50 AM\\n    ...   \n",
       "17834       10551      NaN  \\n\\n\\n     DATE: [**2550-3-24**] 10:51 AM\\n   ...   \n",
       "5097         2664  15658.0  \\n\\n\\n     DATE: [**3147-9-19**] 12:12 AM\\n   ...   \n",
       "14232        8359  22501.0  \\n\\n\\n     DATE: [**3081-3-14**] 2:20 PM\\n    ...   \n",
       "1851          959   1264.0  \\n\\n\\n     DATE: [**3480-5-10**] 12:55 PM\\n   ...   \n",
       "10266        5904  26821.0  \\n\\n\\n     DATE: [**3149-12-5**] 7:15 PM\\n    ...   \n",
       "10841        6465  19851.0  \\n\\n\\n     DATE: [**2681-10-24**] 5:57 PM\\n   ...   \n",
       "3915         2076  13523.0  \\n\\n\\n     DATE: [**3022-4-24**] 12:02 PM\\n   ...   \n",
       "9870         5662      NaN  \\n\\n\\n     DATE: [**3177-11-29**] 9:47 AM\\n   ...   \n",
       "17410       10217  28476.0  \\n\\n\\n     DATE: [**2545-11-12**] 8:38 PM\\n   ...   \n",
       "6922         3781      NaN  \\n\\n\\n     DATE: [**3324-2-2**] 11:38 PM\\n    ...   \n",
       "17932       10577  29394.0  \\n\\n\\n     DATE: [**2814-4-29**] 3:56 PM\\n    ...   \n",
       "18735       11146  15497.0  \\n\\n\\n     DATE: [**3230-4-9**] 11:30 AM\\n    ...   \n",
       "...           ...      ...                                                ...   \n",
       "9384         5328  28535.0  \\n\\n\\n     DATE: [**2695-5-3**] 6:37 AM\\n     ...   \n",
       "10477        6006      NaN  \\n\\n\\n     DATE: [**3153-5-13**] 10:03 AM\\n   ...   \n",
       "8739         4967  19267.0  \\n\\n\\n     DATE: [**2534-1-5**] 10:52 AM\\n    ...   \n",
       "2854         1427  12755.0  \\n\\n\\n     DATE: [**3422-10-16**] 1:17 PM\\n   ...   \n",
       "879           471  20464.0  \\n\\n\\n     DATE: [**2574-8-10**] 9:35 PM\\n    ...   \n",
       "5649         3011  20180.0  \\n\\n\\n     DATE: [**3131-10-6**] 3:18 PM\\n    ...   \n",
       "7607         4197      NaN  \\n\\n\\n     DATE: [**2825-1-10**] 7:31 PM\\n    ...   \n",
       "8102         4597   3579.0  \\n\\n\\n     DATE: [**2840-6-14**] 5:25 PM\\n    ...   \n",
       "13467        7951  11695.0  \\n\\n\\n     DATE: [**3087-9-18**] 8:24 PM\\n    ...   \n",
       "18466       10881  11906.0  \\n\\n\\n     DATE: [**3017-3-13**] 4:07 PM\\n    ...   \n",
       "14586        8567  17507.0  \\n\\n\\n     DATE: [**3239-12-26**] 3:45 PM\\n   ...   \n",
       "2866         1427  12755.0  \\n\\n\\n     DATE: [**3422-11-4**] 9:38 AM\\n    ...   \n",
       "4236         2286      NaN  \\n\\n\\n     DATE: [**3078-2-9**] 10:31 AM\\n    ...   \n",
       "19527       11460      NaN  \\n\\n\\n     DATE: [**3006-6-17**] 9:36 PM\\n    ...   \n",
       "4419         2291      NaN  \\n\\n\\n     DATE: [**3332-3-31**] 8:33 PM\\n    ...   \n",
       "12998        7596  19574.0  \\n\\n\\n     DATE: [**2628-1-5**] 2:29 PM\\n     ...   \n",
       "15401        9013  22102.0  \\n\\n\\n     DATE: [**2948-5-22**] 4:35 AM\\n    ...   \n",
       "8778         4976  19402.0  \\n\\n\\n     DATE: [**3361-10-18**] 9:47 AM\\n   ...   \n",
       "10058        5860      NaN  \\n\\n\\n     DATE: [**2626-10-6**] 12:06 PM\\n   ...   \n",
       "18648       11092   4606.0  \\n\\n\\n     DATE: [**3444-6-3**] 11:16 AM\\n    ...   \n",
       "18049       10594      NaN  \\n\\n\\n     DATE: [**3053-2-27**] 11:09 AM\\n   ...   \n",
       "17450       10314  16817.0  \\n\\n\\n     DATE: [**3223-1-26**] 9:16 PM\\n    ...   \n",
       "2202         1193   5782.0  \\n\\n\\n     DATE: [**3363-11-6**] 5:32 PM\\n    ...   \n",
       "19003       11264   4264.0  \\n\\n\\n     DATE: [**2580-3-8**] 4:01 PM\\n     ...   \n",
       "10180        5882      NaN  \\n\\n\\n     DATE: [**3226-4-29**] 1:16 PM\\n    ...   \n",
       "2850         1427  12755.0  \\n\\n\\n     DATE: [**3422-10-15**] 2:51 PM\\n   ...   \n",
       "9382         5328  28535.0  \\n\\n\\n     DATE: [**2695-5-2**] 9:32 PM\\n     ...   \n",
       "12884        7557      NaN  \\n\\n\\n     DATE: [**2866-6-7**] 8:13 AM\\n     ...   \n",
       "3629         1884  17763.0  \\n\\n\\n     DATE: [**3256-11-8**] 7:37 AM\\n    ...   \n",
       "17501       10315  22270.0  \\n\\n\\n     DATE: [**2558-2-12**] 1:09 AM\\n    ...   \n",
       "\n",
       "          50sim  \n",
       "852    0.505251  \n",
       "11410  0.511020  \n",
       "2056   0.518197  \n",
       "11120  0.519177  \n",
       "10868  0.519620  \n",
       "13919  0.521305  \n",
       "16320  0.532298  \n",
       "6789   0.533466  \n",
       "9033   0.537909  \n",
       "19269  0.539583  \n",
       "4438   0.541184  \n",
       "9763   0.542960  \n",
       "17646  0.545707  \n",
       "4243   0.546682  \n",
       "7637   0.547347  \n",
       "3550   0.547459  \n",
       "14917  0.547691  \n",
       "17038  0.549574  \n",
       "17834  0.550155  \n",
       "5097   0.550825  \n",
       "14232  0.551471  \n",
       "1851   0.551502  \n",
       "10266  0.553239  \n",
       "10841  0.553704  \n",
       "3915   0.554658  \n",
       "9870   0.555773  \n",
       "17410  0.556405  \n",
       "6922   0.556845  \n",
       "17932  0.557480  \n",
       "18735  0.557551  \n",
       "...         ...  \n",
       "9384   1.382920  \n",
       "10477  1.384446  \n",
       "8739   1.384895  \n",
       "2854   1.385577  \n",
       "879    1.386469  \n",
       "5649   1.386495  \n",
       "7607   1.386766  \n",
       "8102   1.386985  \n",
       "13467  1.387988  \n",
       "18466  1.388168  \n",
       "14586  1.388785  \n",
       "2866   1.388802  \n",
       "4236   1.392469  \n",
       "19527  1.394430  \n",
       "4419   1.394766  \n",
       "12998  1.396706  \n",
       "15401  1.400681  \n",
       "8778   1.402476  \n",
       "10058  1.403338  \n",
       "18648  1.404176  \n",
       "18049  1.408558  \n",
       "17450  1.408588  \n",
       "2202   1.408989  \n",
       "19003  1.419856  \n",
       "10180  1.425209  \n",
       "2850   1.427111  \n",
       "9382   1.427213  \n",
       "12884  1.449436  \n",
       "3629   1.450346  \n",
       "17501  1.469616  \n",
       "\n",
       "[19383 rows x 4 columns]"
      ]
     },
     "execution_count": 35,
     "metadata": {},
     "output_type": "execute_result"
    }
   ],
   "source": [
    "rad_data2 = rad_data.loc[rad_data[\"50sim\"] > 0 ]\n",
    "rad_data2 = rad_data2.sort_values([\"50sim\"],ascending=True)\n",
    "rad_data2"
   ]
  },
  {
   "cell_type": "code",
   "execution_count": 36,
   "metadata": {
    "collapsed": true,
    "deletable": false,
    "editable": false,
    "nbgrader": {
     "checksum": "2eaa328058fe06f236473d61a673f469",
     "grade": true,
     "grade_id": "cell-378dc26662e3d7e4",
     "locked": true,
     "points": 5,
     "schema_version": 1,
     "solution": false
    }
   },
   "outputs": [],
   "source": [
    "assert_equal(rad_data2.iloc[0][\"subject_id\"], 463)"
   ]
  },
  {
   "cell_type": "code",
   "execution_count": 37,
   "metadata": {
    "collapsed": true,
    "deletable": false,
    "editable": false,
    "nbgrader": {
     "checksum": "3c73149540186f1c96612bdfaefdc171",
     "grade": true,
     "grade_id": "cell-32390139d46fdcc3",
     "locked": true,
     "points": 5,
     "schema_version": 1,
     "solution": false
    }
   },
   "outputs": [],
   "source": [
    "assert_equal(rad_data2.iloc[-1][\"subject_id\"], 10315)"
   ]
  },
  {
   "cell_type": "markdown",
   "metadata": {
    "deletable": false,
    "editable": false,
    "nbgrader": {
     "checksum": "8dbc1880a4268858f0e641285cbc0255",
     "grade": false,
     "grade_id": "cell-79b77d792de72d9a",
     "locked": true,
     "schema_version": 1,
     "solution": false
    }
   },
   "source": [
    "## What do the most similar and most dissimilar (relative to 50) reports look like?"
   ]
  },
  {
   "cell_type": "code",
   "execution_count": 38,
   "metadata": {
    "deletable": false,
    "editable": false,
    "nbgrader": {
     "checksum": "8fb7e1ba3e89297989dfcfc12927fdf5",
     "grade": false,
     "grade_id": "cell-4b44dd9873e674cc",
     "locked": true,
     "schema_version": 1,
     "solution": false
    }
   },
   "outputs": [
    {
     "name": "stdout",
     "output_type": "stream",
     "text": [
      "\n",
      "\n",
      "\n",
      "     DATE: [**3353-1-26**] 5:37 PM\n",
      "     CT CHEST W/CONTRAST; CT 150CC NONIONIC CONTRAST                 Clip # [**Clip Number (Radiology) 1672**]\n",
      "     Reason: please eval new RLL inflitrate seen on CXR and r/o empyema  \n",
      "     Admitting Diagnosis: NON-HODGKINS LYMPHOMA;FEBRILE;NEUTROPENIA\n",
      "     Field of view: 34 Contrast: OPTIRAY Amt: 100\n",
      "     ______________________________________________________________________________\n",
      "     UNDERLYING MEDICAL CONDITION:\n",
      "        55 year old man with enteropathy associated t cell lymphoma and neutropenic.  \n",
      "       Tachycardic, tachypneic, resp. alkalosis on abg.\n",
      "     REASON FOR THIS EXAMINATION:\n",
      "      please eval new RLL inflitrate seen on CXR and r/o empyema                      \n",
      "     No contraindications for IV contrast\n",
      "     ______________________________________________________________________________\n",
      "                                     FINAL REPORT\n",
      "     INDICATION:  Enteropathy associated T-cell lymphoma and neutropenia,\n",
      "     tachycardic and tachypneic with respiratory alkalosis, please evaluate new\n",
      "     right lower lobe infiltrate on chest x-ray and rule out empyema.\n",
      "     \n",
      "     COMPARISON:  CT of the chest dated [**3353-1-15**], and PET CT dated\n",
      "     [**3353-1-17**].\n",
      "     \n",
      "     TECHNIQUE:  Axial MDCT images were obtained through the chest following the\n",
      "     administration of 100 cc of intravenous Optiray.  Additional thin section\n",
      "     reformatted images are provided.\n",
      "     \n",
      "     CONTRAST:  Intravenous nonionic contrast was administered due to the rapid\n",
      "     rate of bolus injection required for this examination.\n",
      "     \n",
      "     CT OF THE CHEST WITH INTRAVENOUS CONTRAST:  The aorta is normal in caliber,\n",
      "     with scattered mural calcifications consistent with atheromatous disease.\n",
      "     There are mild coronary artery calcifications.  Multiple small mediastinal,\n",
      "     hilar, and axillary lymph nodes are seen, not individually meeting criteria\n",
      "     for pathologic enlargement.  The largest of these, located in the right hilum,\n",
      "     measures 8 mm in short axis diameter.  The airways are patent to the level of\n",
      "     the segmental bronchi bilaterally.  There are multifocal areas of patchy\n",
      "     opacity throughout the lungs, most prominently located within the right middle\n",
      "     lobe and within the anterior segment of the left upper lobe.  In addition,\n",
      "     there are tiny bilateral pleural effusions and minimal adjacent atelectasis\n",
      "     within the lower lobes.  There is a suggestion of peripheral septal thickening\n",
      "     at the apices.  Two tiny, calcified nodular opacities are seen at the left\n",
      "     apex, consistent with prior granulomatous disease.\n",
      "     \n",
      "     Limited images of the upper abdomen, including limited images of the liver,\n",
      "     spleen, adrenal glands, and upper poles of the kidneys, demonstrate fullness\n",
      "     of the right adrenal gland without definite focal mass identified, a finding\n",
      "     that is consistent with the PET CT finding of abnormal uptake within the\n",
      "     adrenal glands.  No mass or fullness is identified within the left adrenal\n",
      "     gland.  There is a simple cyst arising from the upper pole of the left kidney\n",
      "     containing internal fluid density.  The visualized portions of the liver and\n",
      "     spleen appear unremarkable.  Heterogeneity within the spleen is likely related\n",
      "     to the phase of contrast administration.\n",
      "     \n",
      "     The appearance of the osseous structures is unchanged, with increased\n",
      "                                                                 (Over)\n",
      "\n",
      "     DATE: [**3353-1-26**] 5:37 PM\n",
      "     CT CHEST W/CONTRAST; CT 150CC NONIONIC CONTRAST                 Clip # [**Clip Number (Radiology) 1672**]\n",
      "     Reason: please eval new RLL inflitrate seen on CXR and r/o empyema  \n",
      "     Admitting Diagnosis: NON-HODGKINS LYMPHOMA;FEBRILE;NEUTROPENIA\n",
      "     Field of view: 34 Contrast: OPTIRAY Amt: 100\n",
      "     ______________________________________________________________________________\n",
      "                                     FINAL REPORT\n",
      "     (Cont)\n",
      "     trabeculation in the marrow spaces of the vertebrae and ribs.\n",
      "     \n",
      "     IMPRESSION:\n",
      "     \n",
      "     1)  Multifocal patchy opacities throughout the pulmonary parenchyma, a\n",
      "     nonspecific finding that is suggestive of multifocal infectious process.\n",
      "     \n",
      "     2)  Tiny bilateral pleural effusions and bibasilar atelectasis.\n",
      "     \n",
      "     3)  Diffuse enlargement of the right adrenal gland, a finding that is\n",
      "     consistent with the findings on recent PET CT of right adrenal lesion.  No\n",
      "     corresponding abnormality is identified within the left adrenal gland.\n",
      "     \n",
      "     4)  Stable appearance of the bones, with prominence of the trabeculations in\n",
      "     the marrow spaces of the vertebrae and ribs.\n",
      "     \n",
      "\n",
      "\n"
     ]
    }
   ],
   "source": [
    "print(rad_data.iloc[50][\"text\"])"
   ]
  },
  {
   "cell_type": "code",
   "execution_count": 39,
   "metadata": {
    "deletable": false,
    "editable": false,
    "nbgrader": {
     "checksum": "6746ea21bcaa538f395709e0920b1760",
     "grade": false,
     "grade_id": "cell-7d9a9912594531e0",
     "locked": true,
     "schema_version": 1,
     "solution": false
    }
   },
   "outputs": [
    {
     "name": "stdout",
     "output_type": "stream",
     "text": [
      "\n",
      "\n",
      "\n",
      "     DATE: [**3334-11-8**] 2:43 PM\n",
      "     CT ABD W&W/O C; CT CHEST W/CONTRAST                             Clip # [**Clip Number (Radiology) 3604**]\n",
      "     CT PELVIS W/CONTRAST; CT 150CC NONIONIC CONTRAST\n",
      "     Reason: evaluate disease progression\n",
      "     Field of view: 32 Contrast: OPTIRAY Amt: 150\n",
      "     ______________________________________________________________________________\n",
      "     UNDERLYING MEDICAL CONDITION:\n",
      "      62 year old F with lung cancer. CT chest and abd prior to treatment\n",
      "     REASON FOR THIS EXAMINATION:\n",
      "      evaluate disease progression\n",
      "     ______________________________________________________________________________\n",
      "                                     FINAL REPORT\n",
      "     INDICATION:  Lung CA.\n",
      "     \n",
      "     TECHNIQUE:  Non-contrast images of the abdomen were obtained.  Contrast\n",
      "     enhanced images of the abdomen, as well as delayed images of the chest,\n",
      "     abdomen and pelvis following administration of 150 cc of Optiray were\n",
      "     performed.  Nonionic IV contrast was used at the patient's request.\n",
      "     \n",
      "     Comparison is made to the prior exam of [**3334-9-25**].\n",
      "     \n",
      "     CT OF THE CHEST WITH CONTRAST:  There has been interval decrease in the size\n",
      "     of the right-sided pleural effusion and pericardial effusion.  The previously\n",
      "     seen large hilar mass is unchanged, with similar appearance to postobstructive\n",
      "     collapse and upper lobe retraction.  Mediastinal adenopathy within the\n",
      "     subcarinal, prevascular and pretracheal areas is unchanged. The previously\n",
      "     seen irregular nodular pleural densities are again identified, unchanged.  No\n",
      "     new nodules are seen.  The heart, pericardium and great vessels are stable in\n",
      "     appearance.\n",
      "     \n",
      "     CT OF THE ABDOMEN WITHOUT AND WITH IV CONTRAST:  The liver and gallbladder are\n",
      "     normal.  The spleen is not enlarged.  The pancreas enhances homogeneously.  A\n",
      "     small cyst is again seen within the upper pole of the left kidney.  The right\n",
      "     adrenal and right kidney are  normal.  Since the prior scan, there has been\n",
      "     interval development of a left adrenal lesion that cannot be adequately\n",
      "     characterized on this examination not tailored towards evaluation of the\n",
      "     adrenal gland, and is concerning for a new metastatic focus. It demonstrates\n",
      "     an enhancing rim with central hypodensity and measures approximately 8 x 13\n",
      "     mm. The stomach, small bowel and colon are unremarkable. There is no free\n",
      "     fluid or free air. There is no mesenteric or retroperitoneal lymph node\n",
      "     enlargement.\n",
      "     \n",
      "     CT OF THE PELVIS WITH CONTRAST:  The distal ureters and bladder are\n",
      "     unremarkable. There is no pelvic lymph node enlargement.  There is no free\n",
      "     fluid. The rectum and sigmoid are unremarkable.  Since the prior scan, there\n",
      "     is now evidence of intraluminal thrombus within the left common femoral vein\n",
      "     that is nonocclusive.\n",
      "     \n",
      "     The osseous structures are unchanged.\n",
      "     \n",
      "     IMPRESSION:\n",
      "     \n",
      "     1. Interval development of a left adrenal lesion concerning for metastatic\n",
      "                                                                 (Over)\n",
      "\n",
      "     DATE: [**3334-11-8**] 2:43 PM\n",
      "     CT ABD W&W/O C; CT CHEST W/CONTRAST                             Clip # [**Clip Number (Radiology) 3604**]\n",
      "     CT PELVIS W/CONTRAST; CT 150CC NONIONIC CONTRAST\n",
      "     Reason: evaluate disease progression\n",
      "     Field of view: 32 Contrast: OPTIRAY Amt: 150\n",
      "     ______________________________________________________________________________\n",
      "                                     FINAL REPORT\n",
      "     (Cont)\n",
      "     focus. \n",
      "     \n",
      "     2. Newly identified nonocclusive intraluminal thrombus within the left common\n",
      "     femoral vein.\n",
      "     \n",
      "     3. Interval decrease in size of the right pleural effusion and pericardial\n",
      "     effusion.\n",
      "     \n",
      "     4. Unchanged appearance to mediastinal lymphadenopathy and right hilar mass\n",
      "     with associated postobstructive collapse.  Unchanged pleural nodules.\n",
      "     \n",
      "     The findings were communicated to the Hematology/Oncology Service at the time\n",
      "     of interpretation.\n",
      "     \n",
      "     \n",
      "\n",
      "\n"
     ]
    }
   ],
   "source": [
    "print(rad_data2.iloc[0][\"text\"])"
   ]
  },
  {
   "cell_type": "code",
   "execution_count": 40,
   "metadata": {
    "deletable": false,
    "editable": false,
    "nbgrader": {
     "checksum": "05455a6679a77f320e6e1862042ab33c",
     "grade": false,
     "grade_id": "cell-1ff3173b144cf701",
     "locked": true,
     "schema_version": 1,
     "solution": false
    }
   },
   "outputs": [
    {
     "name": "stdout",
     "output_type": "stream",
     "text": [
      "\n",
      "\n",
      "\n",
      "     DATE: [**2558-2-12**] 1:09 AM\n",
      "     IVC GRAM/FILTER                                                 Clip # [**Clip Number (Radiology) 3326**]\n",
      "     Reason: POST SUCTION EMBO\n",
      "      Contrast: OPTIRAY Amt: 30\n",
      "     ********************************* CPT Codes ********************************\n",
      "     * 37620 INTERUP IVC                    36010 INTRO CATH SVC/IVC            *\n",
      "     * -51 MULTI-PROCEDURE SAME DAY         75940 PERC PLCMT IVC FILTER         *\n",
      "     * 75825 IVC GRAM                       C1880 VENA CAVA FILTER              *\n",
      "     ****************************************************************************\n",
      "     ______________________________________________________________________________\n",
      "                                     FINAL REPORT\n",
      "     please see clip [**Clip Number (Radiology) 3321**].\n",
      "\n",
      "             DR. [**First Name4 (NamePattern1) **] [**Last Name (NamePattern1) **]\n",
      "             DR. [**First Name11 (Name Pattern1) **] [**Initial (NamePattern1) **]. [**Last Name (NamePattern1) **]\n",
      "\n"
     ]
    }
   ],
   "source": [
    "\n",
    "print(rad_data2.iloc[-1][\"text\"])"
   ]
  }
 ],
 "metadata": {
  "kernelspec": {
   "display_name": "Python 3",
   "language": "python",
   "name": "python3"
  },
  "language_info": {
   "codemirror_mode": {
    "name": "ipython",
    "version": 3
   },
   "file_extension": ".py",
   "mimetype": "text/x-python",
   "name": "python",
   "nbconvert_exporter": "python",
   "pygments_lexer": "ipython3",
   "version": "3.5.2"
  }
 },
 "nbformat": 4,
 "nbformat_minor": 1
}
